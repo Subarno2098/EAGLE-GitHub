{
 "cells": [
  {
   "attachments": {},
   "cell_type": "markdown",
   "metadata": {
    "slideshow": {
     "slide_type": "slide"
    }
   },
   "source": [
    "# Data Analysis in Python"
   ]
  },
  {
   "attachments": {},
   "cell_type": "markdown",
   "metadata": {
    "slideshow": {
     "slide_type": "slide"
    }
   },
   "source": [
    "Let's start with some basic data analysis in Python! Therefor we need two popular python packages\n",
    "\n",
    "- ***Pandas***: \"[pandas](https://pandas.pydata.org) is an open source, BSD-licensed library providing high-performance, easy-to-use data structures and data analysis tools for the Python programming language*\"\n",
    "\n",
    "\n",
    "- ***Matplotlib***: \"[Matplotlib](https://matplotlib.org) is a Python 2D plotting library which produces publication quality figures in a variety of hardcopy formats and interactive environments across platforms*\"\n",
    "\n",
    "<img src=\"images/pandas_matplotlib.png\" width=200 align=right />"
   ]
  },
  {
   "attachments": {},
   "cell_type": "markdown",
   "metadata": {
    "slideshow": {
     "slide_type": "slide"
    }
   },
   "source": [
    "## Installation\n",
    "\n",
    "```conda install pandas matplotlib```\n",
    "\n",
    "OR\n",
    "\n",
    "```pip install pandas matplotlib```\n"
   ]
  },
  {
   "attachments": {},
   "cell_type": "markdown",
   "metadata": {
    "slideshow": {
     "slide_type": "slide"
    }
   },
   "source": [
    "## Powerful pandas\n",
    "\n",
    "Pandas is a very powerful and flexible tool for data munging and preparing. \n",
    "\n",
    "Pandas deals with 3 data structures:\n",
    "- **Series**: homogeneous 1-dimensional array\n",
    "- **DataFrames**: heterogenous 2-dimensional array\n",
    "- **Panel**: heterogenous 3-dimensional array\n"
   ]
  },
  {
   "attachments": {},
   "cell_type": "markdown",
   "metadata": {
    "slideshow": {
     "slide_type": "slide"
    }
   },
   "source": [
    "<img src=\"images/dataframe.png\" width=400   />"
   ]
  },
  {
   "attachments": {},
   "cell_type": "markdown",
   "metadata": {
    "slideshow": {
     "slide_type": "slide"
    }
   },
   "source": [
    "### Pandas Series\n",
    "\n",
    "A Series is a one-dimensional object similar to an array, list, or column in a table."
   ]
  },
  {
   "cell_type": "code",
   "execution_count": 7,
   "metadata": {
    "tags": []
   },
   "outputs": [],
   "source": [
    "import pandas as pd"
   ]
  },
  {
   "cell_type": "code",
   "execution_count": 8,
   "metadata": {
    "tags": []
   },
   "outputs": [
    {
     "data": {
      "text/plain": [
       "0    Würzburg\n",
       "1      127.88\n",
       "2         177\n",
       "3        87.6\n",
       "dtype: object"
      ]
     },
     "execution_count": 8,
     "metadata": {},
     "output_type": "execute_result"
    }
   ],
   "source": [
    "# create a Series with an arbitrary list\n",
    "s = pd.Series(['Würzburg',127.880, 177, 87.6 ])\n",
    "s\n"
   ]
  },
  {
   "cell_type": "code",
   "execution_count": 9,
   "metadata": {},
   "outputs": [
    {
     "data": {
      "text/plain": [
       "0    Munich\n",
       "1       3.5\n",
       "2       4.5\n",
       "3       5.5\n",
       "dtype: object"
      ]
     },
     "execution_count": 9,
     "metadata": {},
     "output_type": "execute_result"
    }
   ],
   "source": [
    "# Create a Series with an arbitray list of Munich\n",
    "a = pd.Series([\"Munich\", 3.5, 4.5, 5.5])\n",
    "a"
   ]
  },
  {
   "attachments": {},
   "cell_type": "markdown",
   "metadata": {},
   "source": [
    "Pandas by default creates an index from 0 to N for each item. Of course we can also define our own index"
   ]
  },
  {
   "cell_type": "code",
   "execution_count": 10,
   "metadata": {
    "tags": []
   },
   "outputs": [
    {
     "data": {
      "text/plain": [
       "Name          Würzburg\n",
       "Population      127.88\n",
       "Altitude           177\n",
       "Area              87.6\n",
       "dtype: object"
      ]
     },
     "execution_count": 10,
     "metadata": {},
     "output_type": "execute_result"
    }
   ],
   "source": [
    "s = pd.Series(['Würzburg',127.880, 177, 87.6],\n",
    "              index=['Name', 'Population', 'Altitude', 'Area'])\n",
    "s"
   ]
  },
  {
   "cell_type": "code",
   "execution_count": 70,
   "metadata": {},
   "outputs": [
    {
     "data": {
      "text/plain": [
       "Name          Munich\n",
       "Population       1.5\n",
       "Altitude         2.5\n",
       "Area             3.5\n",
       "dtype: object"
      ]
     },
     "execution_count": 70,
     "metadata": {},
     "output_type": "execute_result"
    }
   ],
   "source": [
    "# Creating munich data series with indexes\n",
    "a = pd.Series([\"Munich\", 1.5, 2.5, 3.5],\n",
    "              index=['Name', 'Population', 'Altitude', 'Area'])\n",
    "a"
   ]
  },
  {
   "attachments": {},
   "cell_type": "markdown",
   "metadata": {},
   "source": [
    "You can also use dictionaries to create a pandas series"
   ]
  },
  {
   "cell_type": "code",
   "execution_count": 11,
   "metadata": {
    "tags": []
   },
   "outputs": [
    {
     "data": {
      "text/plain": [
       "Name          Würzburg\n",
       "Population      127.88\n",
       "Altitude           177\n",
       "Area              87.6\n",
       "dtype: object"
      ]
     },
     "execution_count": 11,
     "metadata": {},
     "output_type": "execute_result"
    }
   ],
   "source": [
    "d = {'Name': 'Würzburg', 'Population': 127.880, 'Altitude': 177, 'Area': 87.6}\n",
    "s = pd.Series(d)\n",
    "s"
   ]
  },
  {
   "cell_type": "code",
   "execution_count": 14,
   "metadata": {},
   "outputs": [
    {
     "data": {
      "text/plain": [
       "Name          Munich\n",
       "Population      3200\n",
       "Altitude        5600\n",
       "Area           56000\n",
       "dtype: object"
      ]
     },
     "execution_count": 14,
     "metadata": {},
     "output_type": "execute_result"
    }
   ],
   "source": [
    "b = {'Name' : 'Munich', 'Population' : 3200, 'Altitude': 5600, 'Area' : 56000}\n",
    "a = pd.Series(b)\n",
    "a"
   ]
  },
  {
   "attachments": {},
   "cell_type": "markdown",
   "metadata": {},
   "source": [
    "We can now use the index to select specific items from the Series or just use integer indexing/slicing"
   ]
  },
  {
   "cell_type": "code",
   "execution_count": 16,
   "metadata": {
    "tags": []
   },
   "outputs": [
    {
     "data": {
      "text/plain": [
       "Name          Würzburg\n",
       "Population      127.88\n",
       "dtype: object"
      ]
     },
     "execution_count": 16,
     "metadata": {},
     "output_type": "execute_result"
    }
   ],
   "source": [
    "s['Name']\n",
    "s[0]\n",
    "s[:2]"
   ]
  },
  {
   "cell_type": "code",
   "execution_count": 20,
   "metadata": {},
   "outputs": [
    {
     "data": {
      "text/plain": [
       "5600"
      ]
     },
     "execution_count": 20,
     "metadata": {},
     "output_type": "execute_result"
    }
   ],
   "source": [
    "a['Name']\n",
    "a['Area']\n",
    "a['Population']\n",
    "a['Altitude']"
   ]
  },
  {
   "attachments": {},
   "cell_type": "markdown",
   "metadata": {},
   "source": [
    "# DataFrames\n"
   ]
  },
  {
   "attachments": {},
   "cell_type": "markdown",
   "metadata": {},
   "source": [
    "In order to create a Pandas DataFrame we can pass a dictionary of lists to the DataFrame constructor. "
   ]
  },
  {
   "cell_type": "code",
   "execution_count": 21,
   "metadata": {
    "tags": []
   },
   "outputs": [
    {
     "data": {
      "text/html": [
       "<div>\n",
       "<style scoped>\n",
       "    .dataframe tbody tr th:only-of-type {\n",
       "        vertical-align: middle;\n",
       "    }\n",
       "\n",
       "    .dataframe tbody tr th {\n",
       "        vertical-align: top;\n",
       "    }\n",
       "\n",
       "    .dataframe thead th {\n",
       "        text-align: right;\n",
       "    }\n",
       "</style>\n",
       "<table border=\"1\" class=\"dataframe\">\n",
       "  <thead>\n",
       "    <tr style=\"text-align: right;\">\n",
       "      <th></th>\n",
       "      <th>City</th>\n",
       "      <th>Elevation</th>\n",
       "      <th>Population</th>\n",
       "      <th>Country</th>\n",
       "    </tr>\n",
       "  </thead>\n",
       "  <tbody>\n",
       "    <tr>\n",
       "      <th>0</th>\n",
       "      <td>Madrid</td>\n",
       "      <td>667</td>\n",
       "      <td>3266126</td>\n",
       "      <td>Spain</td>\n",
       "    </tr>\n",
       "    <tr>\n",
       "      <th>1</th>\n",
       "      <td>Berlin</td>\n",
       "      <td>34</td>\n",
       "      <td>3664088</td>\n",
       "      <td>Germany</td>\n",
       "    </tr>\n",
       "    <tr>\n",
       "      <th>2</th>\n",
       "      <td>Lisbon</td>\n",
       "      <td>15</td>\n",
       "      <td>544851</td>\n",
       "      <td>Portugal</td>\n",
       "    </tr>\n",
       "    <tr>\n",
       "      <th>3</th>\n",
       "      <td>Paris</td>\n",
       "      <td>34</td>\n",
       "      <td>2165423</td>\n",
       "      <td>France</td>\n",
       "    </tr>\n",
       "    <tr>\n",
       "      <th>4</th>\n",
       "      <td>Rome</td>\n",
       "      <td>14</td>\n",
       "      <td>2837332</td>\n",
       "      <td>Italy</td>\n",
       "    </tr>\n",
       "    <tr>\n",
       "      <th>5</th>\n",
       "      <td>Copenhagen</td>\n",
       "      <td>10</td>\n",
       "      <td>805420</td>\n",
       "      <td>Denmark</td>\n",
       "    </tr>\n",
       "    <tr>\n",
       "      <th>6</th>\n",
       "      <td>London</td>\n",
       "      <td>14</td>\n",
       "      <td>9002488</td>\n",
       "      <td>United Kingdom</td>\n",
       "    </tr>\n",
       "  </tbody>\n",
       "</table>\n",
       "</div>"
      ],
      "text/plain": [
       "         City  Elevation  Population         Country\n",
       "0      Madrid        667     3266126           Spain\n",
       "1      Berlin         34     3664088         Germany\n",
       "2      Lisbon         15      544851        Portugal\n",
       "3       Paris         34     2165423          France\n",
       "4        Rome         14     2837332           Italy\n",
       "5  Copenhagen         10      805420         Denmark\n",
       "6      London         14     9002488  United Kingdom"
      ]
     },
     "execution_count": 21,
     "metadata": {},
     "output_type": "execute_result"
    }
   ],
   "source": [
    "data = {'City': ['Madrid', 'Berlin', 'Lisbon', 'Paris', 'Rome', 'Copenhagen', 'London'],\n",
    "        'Elevation': [667, 34, 15, 34, 14, 10, 14],\n",
    "        'Population': [3266126, 3664088, 544851, 2165423, 2837332, 805420, 9002488],\n",
    "        'Country': ['Spain', 'Germany', 'Portugal', 'France', 'Italy', 'Denmark', 'United Kingdom']}\n",
    "cities = pd.DataFrame(data, columns=['City', 'Elevation', 'Population', 'Country'])\n",
    "cities"
   ]
  },
  {
   "cell_type": "code",
   "execution_count": null,
   "metadata": {},
   "outputs": [],
   "source": []
  },
  {
   "cell_type": "code",
   "execution_count": 79,
   "metadata": {},
   "outputs": [
    {
     "data": {
      "text/html": [
       "<div>\n",
       "<style scoped>\n",
       "    .dataframe tbody tr th:only-of-type {\n",
       "        vertical-align: middle;\n",
       "    }\n",
       "\n",
       "    .dataframe tbody tr th {\n",
       "        vertical-align: top;\n",
       "    }\n",
       "\n",
       "    .dataframe thead th {\n",
       "        text-align: right;\n",
       "    }\n",
       "</style>\n",
       "<table border=\"1\" class=\"dataframe\">\n",
       "  <thead>\n",
       "    <tr style=\"text-align: right;\">\n",
       "      <th></th>\n",
       "      <th>City</th>\n",
       "      <th>Elevation</th>\n",
       "      <th>Population</th>\n",
       "      <th>State</th>\n",
       "    </tr>\n",
       "  </thead>\n",
       "  <tbody>\n",
       "    <tr>\n",
       "      <th>0</th>\n",
       "      <td>Munich</td>\n",
       "      <td>30</td>\n",
       "      <td>100</td>\n",
       "      <td>Bavaria</td>\n",
       "    </tr>\n",
       "    <tr>\n",
       "      <th>1</th>\n",
       "      <td>Berlin</td>\n",
       "      <td>40</td>\n",
       "      <td>200</td>\n",
       "      <td>Berlin</td>\n",
       "    </tr>\n",
       "    <tr>\n",
       "      <th>2</th>\n",
       "      <td>Hamburg</td>\n",
       "      <td>50</td>\n",
       "      <td>300</td>\n",
       "      <td>Hamburg</td>\n",
       "    </tr>\n",
       "    <tr>\n",
       "      <th>3</th>\n",
       "      <td>Cologne</td>\n",
       "      <td>60</td>\n",
       "      <td>400</td>\n",
       "      <td>Rhineland Pfalz</td>\n",
       "    </tr>\n",
       "  </tbody>\n",
       "</table>\n",
       "</div>"
      ],
      "text/plain": [
       "      City  Elevation  Population            State\n",
       "0   Munich         30         100          Bavaria\n",
       "1   Berlin         40         200           Berlin\n",
       "2  Hamburg         50         300          Hamburg\n",
       "3  Cologne         60         400  Rhineland Pfalz"
      ]
     },
     "execution_count": 79,
     "metadata": {},
     "output_type": "execute_result"
    }
   ],
   "source": [
    "# Creating your own dataframe with city, elevatiom, population,  country\n",
    "data_1 = {'City':['Munich', 'Berlin', 'Hamburg', 'Cologne'],\n",
    "          'Elevation':[30, 40, 50, 60],\n",
    "          'Population':[100, 200, 300, 400],\n",
    "          'State': ['Bavaria','Berlin', 'Hamburg', 'Rhineland Pfalz']}\n",
    "cities_1 = pd.DataFrame(data_1, columns=['City', 'Elevation', 'Population', 'State'])\n",
    "cities_1\n"
   ]
  },
  {
   "attachments": {},
   "cell_type": "markdown",
   "metadata": {},
   "source": [
    "Much more often, you'll have a dataset you want to read into a DataFrame. Lets read a real world dataset into python. The dataset contains several observations from three different weather stations (5705:'Würzburg',282:'Bamberg',1420:'Frankfurt'). The pd.read_csv function is used to read a CSV file into a DataFrame in our Python environment. Of course pandas can read much more file formats than csv files. For more information have a look at https://pandas.pydata.org/docs/user_guide/io.html"
   ]
  },
  {
   "cell_type": "code",
   "execution_count": 22,
   "metadata": {
    "scrolled": true,
    "slideshow": {
     "slide_type": "fragment"
    },
    "tags": []
   },
   "outputs": [
    {
     "data": {
      "text/html": [
       "<div>\n",
       "<style scoped>\n",
       "    .dataframe tbody tr th:only-of-type {\n",
       "        vertical-align: middle;\n",
       "    }\n",
       "\n",
       "    .dataframe tbody tr th {\n",
       "        vertical-align: top;\n",
       "    }\n",
       "\n",
       "    .dataframe thead th {\n",
       "        text-align: right;\n",
       "    }\n",
       "</style>\n",
       "<table border=\"1\" class=\"dataframe\">\n",
       "  <thead>\n",
       "    <tr style=\"text-align: right;\">\n",
       "      <th></th>\n",
       "      <th>station_id</th>\n",
       "      <th>dataset</th>\n",
       "      <th>parameter</th>\n",
       "      <th>date</th>\n",
       "      <th>value</th>\n",
       "      <th>quality</th>\n",
       "    </tr>\n",
       "  </thead>\n",
       "  <tbody>\n",
       "    <tr>\n",
       "      <th>0</th>\n",
       "      <td>282</td>\n",
       "      <td>climate_summary</td>\n",
       "      <td>temperature_air_mean_200</td>\n",
       "      <td>1949-01-01 00:00:00+00:00</td>\n",
       "      <td>276.95</td>\n",
       "      <td>5.0</td>\n",
       "    </tr>\n",
       "    <tr>\n",
       "      <th>1</th>\n",
       "      <td>282</td>\n",
       "      <td>climate_summary</td>\n",
       "      <td>temperature_air_mean_200</td>\n",
       "      <td>1949-01-02 00:00:00+00:00</td>\n",
       "      <td>275.85</td>\n",
       "      <td>5.0</td>\n",
       "    </tr>\n",
       "    <tr>\n",
       "      <th>2</th>\n",
       "      <td>282</td>\n",
       "      <td>climate_summary</td>\n",
       "      <td>temperature_air_mean_200</td>\n",
       "      <td>1949-01-03 00:00:00+00:00</td>\n",
       "      <td>275.85</td>\n",
       "      <td>5.0</td>\n",
       "    </tr>\n",
       "    <tr>\n",
       "      <th>3</th>\n",
       "      <td>282</td>\n",
       "      <td>climate_summary</td>\n",
       "      <td>temperature_air_mean_200</td>\n",
       "      <td>1949-01-04 00:00:00+00:00</td>\n",
       "      <td>274.95</td>\n",
       "      <td>5.0</td>\n",
       "    </tr>\n",
       "    <tr>\n",
       "      <th>4</th>\n",
       "      <td>282</td>\n",
       "      <td>climate_summary</td>\n",
       "      <td>temperature_air_mean_200</td>\n",
       "      <td>1949-01-05 00:00:00+00:00</td>\n",
       "      <td>275.75</td>\n",
       "      <td>5.0</td>\n",
       "    </tr>\n",
       "    <tr>\n",
       "      <th>...</th>\n",
       "      <td>...</td>\n",
       "      <td>...</td>\n",
       "      <td>...</td>\n",
       "      <td>...</td>\n",
       "      <td>...</td>\n",
       "      <td>...</td>\n",
       "    </tr>\n",
       "    <tr>\n",
       "      <th>322875</th>\n",
       "      <td>5705</td>\n",
       "      <td>climate_summary</td>\n",
       "      <td>precipitation_height</td>\n",
       "      <td>2021-12-27 00:00:00+00:00</td>\n",
       "      <td>1.50</td>\n",
       "      <td>3.0</td>\n",
       "    </tr>\n",
       "    <tr>\n",
       "      <th>322876</th>\n",
       "      <td>5705</td>\n",
       "      <td>climate_summary</td>\n",
       "      <td>precipitation_height</td>\n",
       "      <td>2021-12-28 00:00:00+00:00</td>\n",
       "      <td>14.90</td>\n",
       "      <td>3.0</td>\n",
       "    </tr>\n",
       "    <tr>\n",
       "      <th>322877</th>\n",
       "      <td>5705</td>\n",
       "      <td>climate_summary</td>\n",
       "      <td>precipitation_height</td>\n",
       "      <td>2021-12-29 00:00:00+00:00</td>\n",
       "      <td>2.70</td>\n",
       "      <td>3.0</td>\n",
       "    </tr>\n",
       "    <tr>\n",
       "      <th>322878</th>\n",
       "      <td>5705</td>\n",
       "      <td>climate_summary</td>\n",
       "      <td>precipitation_height</td>\n",
       "      <td>2021-12-30 00:00:00+00:00</td>\n",
       "      <td>1.20</td>\n",
       "      <td>3.0</td>\n",
       "    </tr>\n",
       "    <tr>\n",
       "      <th>322879</th>\n",
       "      <td>5705</td>\n",
       "      <td>climate_summary</td>\n",
       "      <td>precipitation_height</td>\n",
       "      <td>2021-12-31 00:00:00+00:00</td>\n",
       "      <td>0.00</td>\n",
       "      <td>3.0</td>\n",
       "    </tr>\n",
       "  </tbody>\n",
       "</table>\n",
       "<p>322880 rows × 6 columns</p>\n",
       "</div>"
      ],
      "text/plain": [
       "        station_id          dataset                 parameter   \n",
       "0              282  climate_summary  temperature_air_mean_200  \\\n",
       "1              282  climate_summary  temperature_air_mean_200   \n",
       "2              282  climate_summary  temperature_air_mean_200   \n",
       "3              282  climate_summary  temperature_air_mean_200   \n",
       "4              282  climate_summary  temperature_air_mean_200   \n",
       "...            ...              ...                       ...   \n",
       "322875        5705  climate_summary      precipitation_height   \n",
       "322876        5705  climate_summary      precipitation_height   \n",
       "322877        5705  climate_summary      precipitation_height   \n",
       "322878        5705  climate_summary      precipitation_height   \n",
       "322879        5705  climate_summary      precipitation_height   \n",
       "\n",
       "                             date   value  quality  \n",
       "0       1949-01-01 00:00:00+00:00  276.95      5.0  \n",
       "1       1949-01-02 00:00:00+00:00  275.85      5.0  \n",
       "2       1949-01-03 00:00:00+00:00  275.85      5.0  \n",
       "3       1949-01-04 00:00:00+00:00  274.95      5.0  \n",
       "4       1949-01-05 00:00:00+00:00  275.75      5.0  \n",
       "...                           ...     ...      ...  \n",
       "322875  2021-12-27 00:00:00+00:00    1.50      3.0  \n",
       "322876  2021-12-28 00:00:00+00:00   14.90      3.0  \n",
       "322877  2021-12-29 00:00:00+00:00    2.70      3.0  \n",
       "322878  2021-12-30 00:00:00+00:00    1.20      3.0  \n",
       "322879  2021-12-31 00:00:00+00:00    0.00      3.0  \n",
       "\n",
       "[322880 rows x 6 columns]"
      ]
     },
     "execution_count": 22,
     "metadata": {},
     "output_type": "execute_result"
    }
   ],
   "source": [
    "import pandas as pd\n",
    "\n",
    "df = pd.read_csv('station_data.csv', sep=',')\n",
    "df"
   ]
  },
  {
   "attachments": {},
   "cell_type": "markdown",
   "metadata": {},
   "source": [
    "Note that rows and columns are labelled using indices\n",
    "\n",
    "In this case:\n",
    "\n",
    "- Rows are labelled with integers\n",
    "\n",
    "- Columns are labelled with column names"
   ]
  },
  {
   "attachments": {},
   "cell_type": "markdown",
   "metadata": {},
   "source": [
    "## Data exploration"
   ]
  },
  {
   "attachments": {},
   "cell_type": "markdown",
   "metadata": {},
   "source": [
    "\n",
    "### DataFrame Porperties"
   ]
  },
  {
   "attachments": {},
   "cell_type": "markdown",
   "metadata": {
    "slideshow": {
     "slide_type": "slide"
    }
   },
   "source": [
    "First of all we want to have a first glance at the data we are dealing with. Pandas provides in-built functions for data inspection. The properties tail() and head() allow us to look at the first/last rows of our datafame"
   ]
  },
  {
   "cell_type": "code",
   "execution_count": 23,
   "metadata": {
    "slideshow": {
     "slide_type": "fragment"
    },
    "tags": []
   },
   "outputs": [
    {
     "data": {
      "text/html": [
       "<div>\n",
       "<style scoped>\n",
       "    .dataframe tbody tr th:only-of-type {\n",
       "        vertical-align: middle;\n",
       "    }\n",
       "\n",
       "    .dataframe tbody tr th {\n",
       "        vertical-align: top;\n",
       "    }\n",
       "\n",
       "    .dataframe thead th {\n",
       "        text-align: right;\n",
       "    }\n",
       "</style>\n",
       "<table border=\"1\" class=\"dataframe\">\n",
       "  <thead>\n",
       "    <tr style=\"text-align: right;\">\n",
       "      <th></th>\n",
       "      <th>station_id</th>\n",
       "      <th>dataset</th>\n",
       "      <th>parameter</th>\n",
       "      <th>date</th>\n",
       "      <th>value</th>\n",
       "      <th>quality</th>\n",
       "    </tr>\n",
       "  </thead>\n",
       "  <tbody>\n",
       "    <tr>\n",
       "      <th>0</th>\n",
       "      <td>282</td>\n",
       "      <td>climate_summary</td>\n",
       "      <td>temperature_air_mean_200</td>\n",
       "      <td>1949-01-01 00:00:00+00:00</td>\n",
       "      <td>276.95</td>\n",
       "      <td>5.0</td>\n",
       "    </tr>\n",
       "    <tr>\n",
       "      <th>1</th>\n",
       "      <td>282</td>\n",
       "      <td>climate_summary</td>\n",
       "      <td>temperature_air_mean_200</td>\n",
       "      <td>1949-01-02 00:00:00+00:00</td>\n",
       "      <td>275.85</td>\n",
       "      <td>5.0</td>\n",
       "    </tr>\n",
       "    <tr>\n",
       "      <th>2</th>\n",
       "      <td>282</td>\n",
       "      <td>climate_summary</td>\n",
       "      <td>temperature_air_mean_200</td>\n",
       "      <td>1949-01-03 00:00:00+00:00</td>\n",
       "      <td>275.85</td>\n",
       "      <td>5.0</td>\n",
       "    </tr>\n",
       "    <tr>\n",
       "      <th>3</th>\n",
       "      <td>282</td>\n",
       "      <td>climate_summary</td>\n",
       "      <td>temperature_air_mean_200</td>\n",
       "      <td>1949-01-04 00:00:00+00:00</td>\n",
       "      <td>274.95</td>\n",
       "      <td>5.0</td>\n",
       "    </tr>\n",
       "    <tr>\n",
       "      <th>4</th>\n",
       "      <td>282</td>\n",
       "      <td>climate_summary</td>\n",
       "      <td>temperature_air_mean_200</td>\n",
       "      <td>1949-01-05 00:00:00+00:00</td>\n",
       "      <td>275.75</td>\n",
       "      <td>5.0</td>\n",
       "    </tr>\n",
       "  </tbody>\n",
       "</table>\n",
       "</div>"
      ],
      "text/plain": [
       "   station_id          dataset                 parameter   \n",
       "0         282  climate_summary  temperature_air_mean_200  \\\n",
       "1         282  climate_summary  temperature_air_mean_200   \n",
       "2         282  climate_summary  temperature_air_mean_200   \n",
       "3         282  climate_summary  temperature_air_mean_200   \n",
       "4         282  climate_summary  temperature_air_mean_200   \n",
       "\n",
       "                        date   value  quality  \n",
       "0  1949-01-01 00:00:00+00:00  276.95      5.0  \n",
       "1  1949-01-02 00:00:00+00:00  275.85      5.0  \n",
       "2  1949-01-03 00:00:00+00:00  275.85      5.0  \n",
       "3  1949-01-04 00:00:00+00:00  274.95      5.0  \n",
       "4  1949-01-05 00:00:00+00:00  275.75      5.0  "
      ]
     },
     "execution_count": 23,
     "metadata": {},
     "output_type": "execute_result"
    }
   ],
   "source": [
    "df.head()"
   ]
  },
  {
   "cell_type": "code",
   "execution_count": 24,
   "metadata": {
    "slideshow": {
     "slide_type": "fragment"
    },
    "tags": []
   },
   "outputs": [
    {
     "data": {
      "text/html": [
       "<div>\n",
       "<style scoped>\n",
       "    .dataframe tbody tr th:only-of-type {\n",
       "        vertical-align: middle;\n",
       "    }\n",
       "\n",
       "    .dataframe tbody tr th {\n",
       "        vertical-align: top;\n",
       "    }\n",
       "\n",
       "    .dataframe thead th {\n",
       "        text-align: right;\n",
       "    }\n",
       "</style>\n",
       "<table border=\"1\" class=\"dataframe\">\n",
       "  <thead>\n",
       "    <tr style=\"text-align: right;\">\n",
       "      <th></th>\n",
       "      <th>station_id</th>\n",
       "      <th>dataset</th>\n",
       "      <th>parameter</th>\n",
       "      <th>date</th>\n",
       "      <th>value</th>\n",
       "      <th>quality</th>\n",
       "    </tr>\n",
       "  </thead>\n",
       "  <tbody>\n",
       "    <tr>\n",
       "      <th>322875</th>\n",
       "      <td>5705</td>\n",
       "      <td>climate_summary</td>\n",
       "      <td>precipitation_height</td>\n",
       "      <td>2021-12-27 00:00:00+00:00</td>\n",
       "      <td>1.5</td>\n",
       "      <td>3.0</td>\n",
       "    </tr>\n",
       "    <tr>\n",
       "      <th>322876</th>\n",
       "      <td>5705</td>\n",
       "      <td>climate_summary</td>\n",
       "      <td>precipitation_height</td>\n",
       "      <td>2021-12-28 00:00:00+00:00</td>\n",
       "      <td>14.9</td>\n",
       "      <td>3.0</td>\n",
       "    </tr>\n",
       "    <tr>\n",
       "      <th>322877</th>\n",
       "      <td>5705</td>\n",
       "      <td>climate_summary</td>\n",
       "      <td>precipitation_height</td>\n",
       "      <td>2021-12-29 00:00:00+00:00</td>\n",
       "      <td>2.7</td>\n",
       "      <td>3.0</td>\n",
       "    </tr>\n",
       "    <tr>\n",
       "      <th>322878</th>\n",
       "      <td>5705</td>\n",
       "      <td>climate_summary</td>\n",
       "      <td>precipitation_height</td>\n",
       "      <td>2021-12-30 00:00:00+00:00</td>\n",
       "      <td>1.2</td>\n",
       "      <td>3.0</td>\n",
       "    </tr>\n",
       "    <tr>\n",
       "      <th>322879</th>\n",
       "      <td>5705</td>\n",
       "      <td>climate_summary</td>\n",
       "      <td>precipitation_height</td>\n",
       "      <td>2021-12-31 00:00:00+00:00</td>\n",
       "      <td>0.0</td>\n",
       "      <td>3.0</td>\n",
       "    </tr>\n",
       "  </tbody>\n",
       "</table>\n",
       "</div>"
      ],
      "text/plain": [
       "        station_id          dataset             parameter   \n",
       "322875        5705  climate_summary  precipitation_height  \\\n",
       "322876        5705  climate_summary  precipitation_height   \n",
       "322877        5705  climate_summary  precipitation_height   \n",
       "322878        5705  climate_summary  precipitation_height   \n",
       "322879        5705  climate_summary  precipitation_height   \n",
       "\n",
       "                             date  value  quality  \n",
       "322875  2021-12-27 00:00:00+00:00    1.5      3.0  \n",
       "322876  2021-12-28 00:00:00+00:00   14.9      3.0  \n",
       "322877  2021-12-29 00:00:00+00:00    2.7      3.0  \n",
       "322878  2021-12-30 00:00:00+00:00    1.2      3.0  \n",
       "322879  2021-12-31 00:00:00+00:00    0.0      3.0  "
      ]
     },
     "execution_count": 24,
     "metadata": {},
     "output_type": "execute_result"
    }
   ],
   "source": [
    "df.tail()               # show data tail"
   ]
  },
  {
   "attachments": {},
   "cell_type": "markdown",
   "metadata": {},
   "source": [
    "DataFrame dimensions are accessible through .shape()"
   ]
  },
  {
   "cell_type": "code",
   "execution_count": 25,
   "metadata": {
    "slideshow": {
     "slide_type": "slide"
    },
    "tags": []
   },
   "outputs": [
    {
     "data": {
      "text/plain": [
       "(322880, 6)"
      ]
     },
     "execution_count": 25,
     "metadata": {},
     "output_type": "execute_result"
    }
   ],
   "source": [
    "df.shape"
   ]
  },
  {
   "attachments": {},
   "cell_type": "markdown",
   "metadata": {},
   "source": [
    "The DataFrame column names can be obtained using .columns()"
   ]
  },
  {
   "cell_type": "code",
   "execution_count": 26,
   "metadata": {
    "slideshow": {
     "slide_type": "fragment"
    },
    "tags": []
   },
   "outputs": [
    {
     "data": {
      "text/plain": [
       "Index(['station_id', 'dataset', 'parameter', 'date', 'value', 'quality'], dtype='object')"
      ]
     },
     "execution_count": 26,
     "metadata": {},
     "output_type": "execute_result"
    }
   ],
   "source": [
    "df.columns # display column names"
   ]
  },
  {
   "attachments": {},
   "cell_type": "markdown",
   "metadata": {},
   "source": [
    "If we want to know the data types of our columns we can just use .dtype"
   ]
  },
  {
   "cell_type": "code",
   "execution_count": 103,
   "metadata": {
    "slideshow": {
     "slide_type": "fragment"
    },
    "tags": []
   },
   "outputs": [
    {
     "data": {
      "text/plain": [
       "dt                                object\n",
       "AverageTemperature               float64\n",
       "AverageTemperatureUncertainty    float64\n",
       "City                              object\n",
       "Country                           object\n",
       "Latitude                          object\n",
       "Longitude                         object\n",
       "dtype: object"
      ]
     },
     "execution_count": 103,
     "metadata": {},
     "output_type": "execute_result"
    },
    {
     "name": "stderr",
     "output_type": "stream",
     "text": [
      "2023-06-03 18:33:58,172 - INFO     - Executing shutdown due to inactivity...\n",
      "2023-06-03 18:34:08,087 - INFO     - Executing shutdown...\n",
      "2023-06-03 18:34:08,322 - ERROR    - Exception on /shutdown [GET]\n",
      "Traceback (most recent call last):\n",
      "  File \"C:\\Users\\Subarno Shankar\\AppData\\Local\\Packages\\PythonSoftwareFoundation.Python.3.11_qbz5n2kfra8p0\\LocalCache\\local-packages\\Python311\\site-packages\\flask\\app.py\", line 2528, in wsgi_app\n",
      "    response = self.full_dispatch_request()\n",
      "               ^^^^^^^^^^^^^^^^^^^^^^^^^^^^\n",
      "  File \"C:\\Users\\Subarno Shankar\\AppData\\Local\\Packages\\PythonSoftwareFoundation.Python.3.11_qbz5n2kfra8p0\\LocalCache\\local-packages\\Python311\\site-packages\\flask\\app.py\", line 1825, in full_dispatch_request\n",
      "    rv = self.handle_user_exception(e)\n",
      "         ^^^^^^^^^^^^^^^^^^^^^^^^^^^^^\n",
      "  File \"C:\\Users\\Subarno Shankar\\AppData\\Local\\Packages\\PythonSoftwareFoundation.Python.3.11_qbz5n2kfra8p0\\LocalCache\\local-packages\\Python311\\site-packages\\flask\\app.py\", line 1823, in full_dispatch_request\n",
      "    rv = self.dispatch_request()\n",
      "         ^^^^^^^^^^^^^^^^^^^^^^^\n",
      "  File \"C:\\Users\\Subarno Shankar\\AppData\\Local\\Packages\\PythonSoftwareFoundation.Python.3.11_qbz5n2kfra8p0\\LocalCache\\local-packages\\Python311\\site-packages\\flask\\app.py\", line 1799, in dispatch_request\n",
      "    return self.ensure_sync(self.view_functions[rule.endpoint])(**view_args)\n",
      "           ^^^^^^^^^^^^^^^^^^^^^^^^^^^^^^^^^^^^^^^^^^^^^^^^^^^^^^^^^^^^^^^^^\n",
      "  File \"C:\\Users\\Subarno Shankar\\AppData\\Local\\Packages\\PythonSoftwareFoundation.Python.3.11_qbz5n2kfra8p0\\LocalCache\\local-packages\\Python311\\site-packages\\dtale\\app.py\", line 438, in shutdown\n",
      "    shutdown_server()\n",
      "  File \"C:\\Users\\Subarno Shankar\\AppData\\Local\\Packages\\PythonSoftwareFoundation.Python.3.11_qbz5n2kfra8p0\\LocalCache\\local-packages\\Python311\\site-packages\\dtale\\app.py\", line 424, in shutdown_server\n",
      "    raise RuntimeError(\"Not running with the Werkzeug Server\")\n",
      "RuntimeError: Not running with the Werkzeug Server\n"
     ]
    }
   ],
   "source": [
    "df.dtypes"
   ]
  },
  {
   "attachments": {},
   "cell_type": "markdown",
   "metadata": {},
   "source": [
    "The .info() function is used to get a concise summary of the dataframe."
   ]
  },
  {
   "cell_type": "code",
   "execution_count": 28,
   "metadata": {
    "tags": []
   },
   "outputs": [
    {
     "name": "stdout",
     "output_type": "stream",
     "text": [
      "<class 'pandas.core.frame.DataFrame'>\n",
      "RangeIndex: 322880 entries, 0 to 322879\n",
      "Data columns (total 6 columns):\n",
      " #   Column      Non-Null Count   Dtype  \n",
      "---  ------      --------------   -----  \n",
      " 0   station_id  322880 non-null  int64  \n",
      " 1   dataset     322880 non-null  object \n",
      " 2   parameter   322880 non-null  object \n",
      " 3   date        322880 non-null  object \n",
      " 4   value       322700 non-null  float64\n",
      " 5   quality     322700 non-null  float64\n",
      "dtypes: float64(2), int64(1), object(3)\n",
      "memory usage: 14.8+ MB\n"
     ]
    }
   ],
   "source": [
    "df.info()"
   ]
  },
  {
   "attachments": {},
   "cell_type": "markdown",
   "metadata": {},
   "source": [
    "The describe() function is used to generate descriptive statistics that summarize the central tendency, dispersion and shape of a dataset’s distribution,"
   ]
  },
  {
   "cell_type": "code",
   "execution_count": 29,
   "metadata": {
    "tags": []
   },
   "outputs": [
    {
     "data": {
      "text/html": [
       "<div>\n",
       "<style scoped>\n",
       "    .dataframe tbody tr th:only-of-type {\n",
       "        vertical-align: middle;\n",
       "    }\n",
       "\n",
       "    .dataframe tbody tr th {\n",
       "        vertical-align: top;\n",
       "    }\n",
       "\n",
       "    .dataframe thead th {\n",
       "        text-align: right;\n",
       "    }\n",
       "</style>\n",
       "<table border=\"1\" class=\"dataframe\">\n",
       "  <thead>\n",
       "    <tr style=\"text-align: right;\">\n",
       "      <th></th>\n",
       "      <th>station_id</th>\n",
       "      <th>value</th>\n",
       "      <th>quality</th>\n",
       "    </tr>\n",
       "  </thead>\n",
       "  <tbody>\n",
       "    <tr>\n",
       "      <th>count</th>\n",
       "      <td>322880.000000</td>\n",
       "      <td>322700.000000</td>\n",
       "      <td>322700.000000</td>\n",
       "    </tr>\n",
       "    <tr>\n",
       "      <th>mean</th>\n",
       "      <td>2498.305203</td>\n",
       "      <td>212.495834</td>\n",
       "      <td>7.441165</td>\n",
       "    </tr>\n",
       "    <tr>\n",
       "      <th>std</th>\n",
       "      <td>2344.420624</td>\n",
       "      <td>122.002287</td>\n",
       "      <td>2.563318</td>\n",
       "    </tr>\n",
       "    <tr>\n",
       "      <th>min</th>\n",
       "      <td>282.000000</td>\n",
       "      <td>0.000000</td>\n",
       "      <td>3.000000</td>\n",
       "    </tr>\n",
       "    <tr>\n",
       "      <th>25%</th>\n",
       "      <td>282.000000</td>\n",
       "      <td>44.550000</td>\n",
       "      <td>5.000000</td>\n",
       "    </tr>\n",
       "    <tr>\n",
       "      <th>50%</th>\n",
       "      <td>1420.000000</td>\n",
       "      <td>278.350000</td>\n",
       "      <td>9.000000</td>\n",
       "    </tr>\n",
       "    <tr>\n",
       "      <th>75%</th>\n",
       "      <td>5705.000000</td>\n",
       "      <td>286.550000</td>\n",
       "      <td>10.000000</td>\n",
       "    </tr>\n",
       "    <tr>\n",
       "      <th>max</th>\n",
       "      <td>5705.000000</td>\n",
       "      <td>313.250000</td>\n",
       "      <td>10.000000</td>\n",
       "    </tr>\n",
       "  </tbody>\n",
       "</table>\n",
       "</div>"
      ],
      "text/plain": [
       "          station_id          value        quality\n",
       "count  322880.000000  322700.000000  322700.000000\n",
       "mean     2498.305203     212.495834       7.441165\n",
       "std      2344.420624     122.002287       2.563318\n",
       "min       282.000000       0.000000       3.000000\n",
       "25%       282.000000      44.550000       5.000000\n",
       "50%      1420.000000     278.350000       9.000000\n",
       "75%      5705.000000     286.550000      10.000000\n",
       "max      5705.000000     313.250000      10.000000"
      ]
     },
     "execution_count": 29,
     "metadata": {},
     "output_type": "execute_result"
    }
   ],
   "source": [
    "df.describe()"
   ]
  },
  {
   "attachments": {},
   "cell_type": "markdown",
   "metadata": {},
   "source": [
    "### Subsetting data"
   ]
  },
  {
   "attachments": {},
   "cell_type": "markdown",
   "metadata": {},
   "source": [
    "There are numerous methods of subsetting Series and DataFrames in pandas and its sometimes confusing.\n",
    "The recommended subsetting methods are using .loc and .iloc. The principal difference between .loc and .iloc is:\n",
    "\n",
    "- .loc uses pandas indices, while\n",
    "- .iloc uses (implicit) numpy-style numeric indices.\n",
    "\n",
    "A DataFrame is a 2-dimensional object, thats why .loc and .iloc accept 2 values which a seperated by a comma. The first one for the row and the second one for the column"
   ]
  },
  {
   "attachments": {},
   "cell_type": "markdown",
   "metadata": {},
   "source": [
    "### Selecting columns"
   ]
  },
  {
   "cell_type": "code",
   "execution_count": 96,
   "metadata": {
    "tags": []
   },
   "outputs": [
    {
     "data": {
      "text/html": [
       "<div>\n",
       "<style scoped>\n",
       "    .dataframe tbody tr th:only-of-type {\n",
       "        vertical-align: middle;\n",
       "    }\n",
       "\n",
       "    .dataframe tbody tr th {\n",
       "        vertical-align: top;\n",
       "    }\n",
       "\n",
       "    .dataframe thead th {\n",
       "        text-align: right;\n",
       "    }\n",
       "</style>\n",
       "<table border=\"1\" class=\"dataframe\">\n",
       "  <thead>\n",
       "    <tr style=\"text-align: right;\">\n",
       "      <th></th>\n",
       "      <th>parameter</th>\n",
       "    </tr>\n",
       "  </thead>\n",
       "  <tbody>\n",
       "    <tr>\n",
       "      <th>0</th>\n",
       "      <td>temperature_air_mean_200</td>\n",
       "    </tr>\n",
       "    <tr>\n",
       "      <th>1</th>\n",
       "      <td>temperature_air_mean_200</td>\n",
       "    </tr>\n",
       "    <tr>\n",
       "      <th>2</th>\n",
       "      <td>temperature_air_mean_200</td>\n",
       "    </tr>\n",
       "    <tr>\n",
       "      <th>3</th>\n",
       "      <td>temperature_air_mean_200</td>\n",
       "    </tr>\n",
       "    <tr>\n",
       "      <th>4</th>\n",
       "      <td>temperature_air_mean_200</td>\n",
       "    </tr>\n",
       "    <tr>\n",
       "      <th>...</th>\n",
       "      <td>...</td>\n",
       "    </tr>\n",
       "    <tr>\n",
       "      <th>322875</th>\n",
       "      <td>precipitation_height</td>\n",
       "    </tr>\n",
       "    <tr>\n",
       "      <th>322876</th>\n",
       "      <td>precipitation_height</td>\n",
       "    </tr>\n",
       "    <tr>\n",
       "      <th>322877</th>\n",
       "      <td>precipitation_height</td>\n",
       "    </tr>\n",
       "    <tr>\n",
       "      <th>322878</th>\n",
       "      <td>precipitation_height</td>\n",
       "    </tr>\n",
       "    <tr>\n",
       "      <th>322879</th>\n",
       "      <td>precipitation_height</td>\n",
       "    </tr>\n",
       "  </tbody>\n",
       "</table>\n",
       "<p>322880 rows × 1 columns</p>\n",
       "</div>"
      ],
      "text/plain": [
       "                       parameter\n",
       "0       temperature_air_mean_200\n",
       "1       temperature_air_mean_200\n",
       "2       temperature_air_mean_200\n",
       "3       temperature_air_mean_200\n",
       "4       temperature_air_mean_200\n",
       "...                          ...\n",
       "322875      precipitation_height\n",
       "322876      precipitation_height\n",
       "322877      precipitation_height\n",
       "322878      precipitation_height\n",
       "322879      precipitation_height\n",
       "\n",
       "[322880 rows x 1 columns]"
      ]
     },
     "execution_count": 96,
     "metadata": {},
     "output_type": "execute_result"
    }
   ],
   "source": [
    "# df.loc[:, \"parameter\"] # select column as Series\n",
    "\n",
    "# df.loc[:, [\"parameter\"]] # select column as DataFrame\n",
    "\n",
    "# df[\"parameter\"]  ## Shortcut for df.loc[:, \"AverageTemperature\"]\n",
    "\n",
    "# df[[\"parameter\"]]  ## Shortcut for df.loc[:, [\"AverageTemperature\"]]\n",
    "\n",
    "# df[[\"parameter\", \"value\"]] ## Select multiple columns\n",
    "\n",
    "# df.loc[:,\"station_id\":\"date\"] ## Slice columns"
   ]
  },
  {
   "attachments": {},
   "cell_type": "markdown",
   "metadata": {},
   "source": [
    "### Selecting rows"
   ]
  },
  {
   "attachments": {},
   "cell_type": "markdown",
   "metadata": {},
   "source": [
    "Rows can be selected using the same way using .loc() and .iloc()"
   ]
  },
  {
   "cell_type": "code",
   "execution_count": 100,
   "metadata": {
    "tags": []
   },
   "outputs": [
    {
     "data": {
      "text/html": [
       "<div>\n",
       "<style scoped>\n",
       "    .dataframe tbody tr th:only-of-type {\n",
       "        vertical-align: middle;\n",
       "    }\n",
       "\n",
       "    .dataframe tbody tr th {\n",
       "        vertical-align: top;\n",
       "    }\n",
       "\n",
       "    .dataframe thead th {\n",
       "        text-align: right;\n",
       "    }\n",
       "</style>\n",
       "<table border=\"1\" class=\"dataframe\">\n",
       "  <thead>\n",
       "    <tr style=\"text-align: right;\">\n",
       "      <th></th>\n",
       "      <th>station_id</th>\n",
       "      <th>dataset</th>\n",
       "      <th>parameter</th>\n",
       "      <th>date</th>\n",
       "      <th>value</th>\n",
       "      <th>quality</th>\n",
       "    </tr>\n",
       "  </thead>\n",
       "  <tbody>\n",
       "    <tr>\n",
       "      <th>0</th>\n",
       "      <td>282</td>\n",
       "      <td>climate_summary</td>\n",
       "      <td>temperature_air_mean_200</td>\n",
       "      <td>1949-01-01 00:00:00+00:00</td>\n",
       "      <td>276.95</td>\n",
       "      <td>5.0</td>\n",
       "    </tr>\n",
       "    <tr>\n",
       "      <th>12</th>\n",
       "      <td>282</td>\n",
       "      <td>climate_summary</td>\n",
       "      <td>temperature_air_mean_200</td>\n",
       "      <td>1949-01-13 00:00:00+00:00</td>\n",
       "      <td>273.35</td>\n",
       "      <td>5.0</td>\n",
       "    </tr>\n",
       "  </tbody>\n",
       "</table>\n",
       "</div>"
      ],
      "text/plain": [
       "    station_id          dataset                 parameter   \n",
       "0          282  climate_summary  temperature_air_mean_200  \\\n",
       "12         282  climate_summary  temperature_air_mean_200   \n",
       "\n",
       "                         date   value  quality  \n",
       "0   1949-01-01 00:00:00+00:00  276.95      5.0  \n",
       "12  1949-01-13 00:00:00+00:00  273.35      5.0  "
      ]
     },
     "execution_count": 100,
     "metadata": {},
     "output_type": "execute_result"
    }
   ],
   "source": [
    "# df.iloc[[0], :]     ## get 1st row\n",
    "\n",
    "# df.iloc[0:3, :]     ## 1st row (inclusive) to 4th row (exclusive)\n",
    "\n",
    "# df.iloc[[0, 12], :]  ## get first and 13th row\n",
    "\n",
    "# df.loc[[0, 12], :]  ## get first and 13th row"
   ]
  },
  {
   "attachments": {},
   "cell_type": "markdown",
   "metadata": {},
   "source": [
    "### Select rows and columns\n",
    "Of course we can also combine the methods we used above"
   ]
  },
  {
   "cell_type": "code",
   "execution_count": 105,
   "metadata": {
    "scrolled": true,
    "tags": []
   },
   "outputs": [
    {
     "data": {
      "text/html": [
       "<div>\n",
       "<style scoped>\n",
       "    .dataframe tbody tr th:only-of-type {\n",
       "        vertical-align: middle;\n",
       "    }\n",
       "\n",
       "    .dataframe tbody tr th {\n",
       "        vertical-align: top;\n",
       "    }\n",
       "\n",
       "    .dataframe thead th {\n",
       "        text-align: right;\n",
       "    }\n",
       "</style>\n",
       "<table border=\"1\" class=\"dataframe\">\n",
       "  <thead>\n",
       "    <tr style=\"text-align: right;\">\n",
       "      <th></th>\n",
       "      <th>station_id</th>\n",
       "      <th>dataset</th>\n",
       "      <th>parameter</th>\n",
       "      <th>date</th>\n",
       "    </tr>\n",
       "  </thead>\n",
       "  <tbody>\n",
       "    <tr>\n",
       "      <th>0</th>\n",
       "      <td>282</td>\n",
       "      <td>climate_summary</td>\n",
       "      <td>temperature_air_mean_200</td>\n",
       "      <td>1949-01-01 00:00:00+00:00</td>\n",
       "    </tr>\n",
       "    <tr>\n",
       "      <th>1</th>\n",
       "      <td>282</td>\n",
       "      <td>climate_summary</td>\n",
       "      <td>temperature_air_mean_200</td>\n",
       "      <td>1949-01-02 00:00:00+00:00</td>\n",
       "    </tr>\n",
       "    <tr>\n",
       "      <th>2</th>\n",
       "      <td>282</td>\n",
       "      <td>climate_summary</td>\n",
       "      <td>temperature_air_mean_200</td>\n",
       "      <td>1949-01-03 00:00:00+00:00</td>\n",
       "    </tr>\n",
       "    <tr>\n",
       "      <th>3</th>\n",
       "      <td>282</td>\n",
       "      <td>climate_summary</td>\n",
       "      <td>temperature_air_mean_200</td>\n",
       "      <td>1949-01-04 00:00:00+00:00</td>\n",
       "    </tr>\n",
       "  </tbody>\n",
       "</table>\n",
       "</div>"
      ],
      "text/plain": [
       "   station_id          dataset                 parameter   \n",
       "0         282  climate_summary  temperature_air_mean_200  \\\n",
       "1         282  climate_summary  temperature_air_mean_200   \n",
       "2         282  climate_summary  temperature_air_mean_200   \n",
       "3         282  climate_summary  temperature_air_mean_200   \n",
       "\n",
       "                        date  \n",
       "0  1949-01-01 00:00:00+00:00  \n",
       "1  1949-01-02 00:00:00+00:00  \n",
       "2  1949-01-03 00:00:00+00:00  \n",
       "3  1949-01-04 00:00:00+00:00  "
      ]
     },
     "execution_count": 105,
     "metadata": {},
     "output_type": "execute_result"
    }
   ],
   "source": [
    "# df.iloc[0:4, 0:2] \n",
    "\n",
    "# df.loc[:, \"station_id\":\"date\"].iloc[0:4, :]"
   ]
  },
  {
   "attachments": {},
   "cell_type": "markdown",
   "metadata": {},
   "source": [
    "###  Summary functions\n",
    "\n",
    "Pandas provides a large set of Operators and summary functions that operate on different kinds of pandas object. Let us use this to find out more about our dataset.  "
   ]
  },
  {
   "cell_type": "code",
   "execution_count": 31,
   "metadata": {
    "tags": []
   },
   "outputs": [
    {
     "data": {
      "text/plain": [
       "'2021-12-31 00:00:00+00:00'"
      ]
     },
     "execution_count": 31,
     "metadata": {},
     "output_type": "execute_result"
    }
   ],
   "source": [
    "## time period\n",
    " \n",
    "# df['date'].min()\n",
    "# df['date'].max()"
   ]
  },
  {
   "cell_type": "code",
   "execution_count": 32,
   "metadata": {
    "tags": []
   },
   "outputs": [
    {
     "data": {
      "text/plain": [
       "array(['temperature_air_mean_200', 'temperature_air_max_200',\n",
       "       'temperature_air_min_200', 'precipitation_height'], dtype=object)"
      ]
     },
     "execution_count": 32,
     "metadata": {},
     "output_type": "execute_result"
    }
   ],
   "source": [
    "## parameters measured\n",
    "\n",
    "df['parameter'].unique()"
   ]
  },
  {
   "cell_type": "code",
   "execution_count": 33,
   "metadata": {
    "tags": []
   },
   "outputs": [
    {
     "data": {
      "text/plain": [
       "7.441165168887512"
      ]
     },
     "execution_count": 33,
     "metadata": {},
     "output_type": "execute_result"
    }
   ],
   "source": [
    "## mean quality\n",
    "\n",
    "df['quality'].mean()"
   ]
  },
  {
   "cell_type": "code",
   "execution_count": 34,
   "metadata": {
    "tags": []
   },
   "outputs": [
    {
     "data": {
      "text/plain": [
       "station_id\n",
       "5705    109576\n",
       "282     106652\n",
       "1420    106652\n",
       "Name: count, dtype: int64"
      ]
     },
     "execution_count": 34,
     "metadata": {},
     "output_type": "execute_result"
    }
   ],
   "source": [
    "## number of observations by station\n",
    "\n",
    "df['station_id'].value_counts()"
   ]
  },
  {
   "attachments": {},
   "cell_type": "markdown",
   "metadata": {},
   "source": [
    "###  Filtering\n",
    "\n",
    "Additionally we can use conditional statements in order to filter our dataframe. In this example we want to extract the mean preciptation for the station Würzburg"
   ]
  },
  {
   "cell_type": "code",
   "execution_count": 35,
   "metadata": {
    "tags": []
   },
   "outputs": [
    {
     "data": {
      "text/html": [
       "<div>\n",
       "<style scoped>\n",
       "    .dataframe tbody tr th:only-of-type {\n",
       "        vertical-align: middle;\n",
       "    }\n",
       "\n",
       "    .dataframe tbody tr th {\n",
       "        vertical-align: top;\n",
       "    }\n",
       "\n",
       "    .dataframe thead th {\n",
       "        text-align: right;\n",
       "    }\n",
       "</style>\n",
       "<table border=\"1\" class=\"dataframe\">\n",
       "  <thead>\n",
       "    <tr style=\"text-align: right;\">\n",
       "      <th></th>\n",
       "      <th>station_id</th>\n",
       "      <th>dataset</th>\n",
       "      <th>parameter</th>\n",
       "      <th>date</th>\n",
       "      <th>value</th>\n",
       "      <th>quality</th>\n",
       "    </tr>\n",
       "  </thead>\n",
       "  <tbody>\n",
       "    <tr>\n",
       "      <th>213304</th>\n",
       "      <td>5705</td>\n",
       "      <td>climate_summary</td>\n",
       "      <td>temperature_air_mean_200</td>\n",
       "      <td>1947-01-01 00:00:00+00:00</td>\n",
       "      <td>270.35</td>\n",
       "      <td>5.0</td>\n",
       "    </tr>\n",
       "    <tr>\n",
       "      <th>213305</th>\n",
       "      <td>5705</td>\n",
       "      <td>climate_summary</td>\n",
       "      <td>temperature_air_mean_200</td>\n",
       "      <td>1947-01-02 00:00:00+00:00</td>\n",
       "      <td>272.55</td>\n",
       "      <td>5.0</td>\n",
       "    </tr>\n",
       "    <tr>\n",
       "      <th>213306</th>\n",
       "      <td>5705</td>\n",
       "      <td>climate_summary</td>\n",
       "      <td>temperature_air_mean_200</td>\n",
       "      <td>1947-01-03 00:00:00+00:00</td>\n",
       "      <td>272.45</td>\n",
       "      <td>5.0</td>\n",
       "    </tr>\n",
       "    <tr>\n",
       "      <th>213307</th>\n",
       "      <td>5705</td>\n",
       "      <td>climate_summary</td>\n",
       "      <td>temperature_air_mean_200</td>\n",
       "      <td>1947-01-04 00:00:00+00:00</td>\n",
       "      <td>264.95</td>\n",
       "      <td>5.0</td>\n",
       "    </tr>\n",
       "    <tr>\n",
       "      <th>213308</th>\n",
       "      <td>5705</td>\n",
       "      <td>climate_summary</td>\n",
       "      <td>temperature_air_mean_200</td>\n",
       "      <td>1947-01-05 00:00:00+00:00</td>\n",
       "      <td>260.25</td>\n",
       "      <td>5.0</td>\n",
       "    </tr>\n",
       "    <tr>\n",
       "      <th>...</th>\n",
       "      <td>...</td>\n",
       "      <td>...</td>\n",
       "      <td>...</td>\n",
       "      <td>...</td>\n",
       "      <td>...</td>\n",
       "      <td>...</td>\n",
       "    </tr>\n",
       "    <tr>\n",
       "      <th>322875</th>\n",
       "      <td>5705</td>\n",
       "      <td>climate_summary</td>\n",
       "      <td>precipitation_height</td>\n",
       "      <td>2021-12-27 00:00:00+00:00</td>\n",
       "      <td>1.50</td>\n",
       "      <td>3.0</td>\n",
       "    </tr>\n",
       "    <tr>\n",
       "      <th>322876</th>\n",
       "      <td>5705</td>\n",
       "      <td>climate_summary</td>\n",
       "      <td>precipitation_height</td>\n",
       "      <td>2021-12-28 00:00:00+00:00</td>\n",
       "      <td>14.90</td>\n",
       "      <td>3.0</td>\n",
       "    </tr>\n",
       "    <tr>\n",
       "      <th>322877</th>\n",
       "      <td>5705</td>\n",
       "      <td>climate_summary</td>\n",
       "      <td>precipitation_height</td>\n",
       "      <td>2021-12-29 00:00:00+00:00</td>\n",
       "      <td>2.70</td>\n",
       "      <td>3.0</td>\n",
       "    </tr>\n",
       "    <tr>\n",
       "      <th>322878</th>\n",
       "      <td>5705</td>\n",
       "      <td>climate_summary</td>\n",
       "      <td>precipitation_height</td>\n",
       "      <td>2021-12-30 00:00:00+00:00</td>\n",
       "      <td>1.20</td>\n",
       "      <td>3.0</td>\n",
       "    </tr>\n",
       "    <tr>\n",
       "      <th>322879</th>\n",
       "      <td>5705</td>\n",
       "      <td>climate_summary</td>\n",
       "      <td>precipitation_height</td>\n",
       "      <td>2021-12-31 00:00:00+00:00</td>\n",
       "      <td>0.00</td>\n",
       "      <td>3.0</td>\n",
       "    </tr>\n",
       "  </tbody>\n",
       "</table>\n",
       "<p>109576 rows × 6 columns</p>\n",
       "</div>"
      ],
      "text/plain": [
       "        station_id          dataset                 parameter   \n",
       "213304        5705  climate_summary  temperature_air_mean_200  \\\n",
       "213305        5705  climate_summary  temperature_air_mean_200   \n",
       "213306        5705  climate_summary  temperature_air_mean_200   \n",
       "213307        5705  climate_summary  temperature_air_mean_200   \n",
       "213308        5705  climate_summary  temperature_air_mean_200   \n",
       "...            ...              ...                       ...   \n",
       "322875        5705  climate_summary      precipitation_height   \n",
       "322876        5705  climate_summary      precipitation_height   \n",
       "322877        5705  climate_summary      precipitation_height   \n",
       "322878        5705  climate_summary      precipitation_height   \n",
       "322879        5705  climate_summary      precipitation_height   \n",
       "\n",
       "                             date   value  quality  \n",
       "213304  1947-01-01 00:00:00+00:00  270.35      5.0  \n",
       "213305  1947-01-02 00:00:00+00:00  272.55      5.0  \n",
       "213306  1947-01-03 00:00:00+00:00  272.45      5.0  \n",
       "213307  1947-01-04 00:00:00+00:00  264.95      5.0  \n",
       "213308  1947-01-05 00:00:00+00:00  260.25      5.0  \n",
       "...                           ...     ...      ...  \n",
       "322875  2021-12-27 00:00:00+00:00    1.50      3.0  \n",
       "322876  2021-12-28 00:00:00+00:00   14.90      3.0  \n",
       "322877  2021-12-29 00:00:00+00:00    2.70      3.0  \n",
       "322878  2021-12-30 00:00:00+00:00    1.20      3.0  \n",
       "322879  2021-12-31 00:00:00+00:00    0.00      3.0  \n",
       "\n",
       "[109576 rows x 6 columns]"
      ]
     },
     "execution_count": 35,
     "metadata": {},
     "output_type": "execute_result"
    }
   ],
   "source": [
    "## extract all data for station Würzburg\n",
    "\n",
    "df_wue = df.loc[df['station_id'] == 5705]\n",
    "df_wue"
   ]
  },
  {
   "attachments": {},
   "cell_type": "markdown",
   "metadata": {},
   "source": [
    "Of course we can also filter data using multiple conditions"
   ]
  },
  {
   "cell_type": "code",
   "execution_count": 36,
   "metadata": {
    "tags": []
   },
   "outputs": [
    {
     "data": {
      "text/plain": [
       "71.1"
      ]
     },
     "execution_count": 36,
     "metadata": {},
     "output_type": "execute_result"
    }
   ],
   "source": [
    "prec_wue = df.loc[(df['station_id'] == 5705) & (df['parameter'] == 'precipitation_height') ]\n",
    "prec_wue['value'].max()"
   ]
  },
  {
   "attachments": {},
   "cell_type": "markdown",
   "metadata": {},
   "source": [
    "Sometimes the condition we are interested in is not only one individual value, but multiple values. Therefor we could of course just use something like that:"
   ]
  },
  {
   "cell_type": "code",
   "execution_count": 37,
   "metadata": {
    "tags": []
   },
   "outputs": [
    {
     "data": {
      "text/html": [
       "<div>\n",
       "<style scoped>\n",
       "    .dataframe tbody tr th:only-of-type {\n",
       "        vertical-align: middle;\n",
       "    }\n",
       "\n",
       "    .dataframe tbody tr th {\n",
       "        vertical-align: top;\n",
       "    }\n",
       "\n",
       "    .dataframe thead th {\n",
       "        text-align: right;\n",
       "    }\n",
       "</style>\n",
       "<table border=\"1\" class=\"dataframe\">\n",
       "  <thead>\n",
       "    <tr style=\"text-align: right;\">\n",
       "      <th></th>\n",
       "      <th>station_id</th>\n",
       "      <th>dataset</th>\n",
       "      <th>parameter</th>\n",
       "      <th>date</th>\n",
       "      <th>value</th>\n",
       "      <th>quality</th>\n",
       "    </tr>\n",
       "  </thead>\n",
       "  <tbody>\n",
       "    <tr>\n",
       "      <th>0</th>\n",
       "      <td>282</td>\n",
       "      <td>climate_summary</td>\n",
       "      <td>temperature_air_mean_200</td>\n",
       "      <td>1949-01-01 00:00:00+00:00</td>\n",
       "      <td>276.95</td>\n",
       "      <td>5.0</td>\n",
       "    </tr>\n",
       "    <tr>\n",
       "      <th>1</th>\n",
       "      <td>282</td>\n",
       "      <td>climate_summary</td>\n",
       "      <td>temperature_air_mean_200</td>\n",
       "      <td>1949-01-02 00:00:00+00:00</td>\n",
       "      <td>275.85</td>\n",
       "      <td>5.0</td>\n",
       "    </tr>\n",
       "    <tr>\n",
       "      <th>2</th>\n",
       "      <td>282</td>\n",
       "      <td>climate_summary</td>\n",
       "      <td>temperature_air_mean_200</td>\n",
       "      <td>1949-01-03 00:00:00+00:00</td>\n",
       "      <td>275.85</td>\n",
       "      <td>5.0</td>\n",
       "    </tr>\n",
       "    <tr>\n",
       "      <th>3</th>\n",
       "      <td>282</td>\n",
       "      <td>climate_summary</td>\n",
       "      <td>temperature_air_mean_200</td>\n",
       "      <td>1949-01-04 00:00:00+00:00</td>\n",
       "      <td>274.95</td>\n",
       "      <td>5.0</td>\n",
       "    </tr>\n",
       "    <tr>\n",
       "      <th>4</th>\n",
       "      <td>282</td>\n",
       "      <td>climate_summary</td>\n",
       "      <td>temperature_air_mean_200</td>\n",
       "      <td>1949-01-05 00:00:00+00:00</td>\n",
       "      <td>275.75</td>\n",
       "      <td>5.0</td>\n",
       "    </tr>\n",
       "    <tr>\n",
       "      <th>...</th>\n",
       "      <td>...</td>\n",
       "      <td>...</td>\n",
       "      <td>...</td>\n",
       "      <td>...</td>\n",
       "      <td>...</td>\n",
       "      <td>...</td>\n",
       "    </tr>\n",
       "    <tr>\n",
       "      <th>322875</th>\n",
       "      <td>5705</td>\n",
       "      <td>climate_summary</td>\n",
       "      <td>precipitation_height</td>\n",
       "      <td>2021-12-27 00:00:00+00:00</td>\n",
       "      <td>1.50</td>\n",
       "      <td>3.0</td>\n",
       "    </tr>\n",
       "    <tr>\n",
       "      <th>322876</th>\n",
       "      <td>5705</td>\n",
       "      <td>climate_summary</td>\n",
       "      <td>precipitation_height</td>\n",
       "      <td>2021-12-28 00:00:00+00:00</td>\n",
       "      <td>14.90</td>\n",
       "      <td>3.0</td>\n",
       "    </tr>\n",
       "    <tr>\n",
       "      <th>322877</th>\n",
       "      <td>5705</td>\n",
       "      <td>climate_summary</td>\n",
       "      <td>precipitation_height</td>\n",
       "      <td>2021-12-29 00:00:00+00:00</td>\n",
       "      <td>2.70</td>\n",
       "      <td>3.0</td>\n",
       "    </tr>\n",
       "    <tr>\n",
       "      <th>322878</th>\n",
       "      <td>5705</td>\n",
       "      <td>climate_summary</td>\n",
       "      <td>precipitation_height</td>\n",
       "      <td>2021-12-30 00:00:00+00:00</td>\n",
       "      <td>1.20</td>\n",
       "      <td>3.0</td>\n",
       "    </tr>\n",
       "    <tr>\n",
       "      <th>322879</th>\n",
       "      <td>5705</td>\n",
       "      <td>climate_summary</td>\n",
       "      <td>precipitation_height</td>\n",
       "      <td>2021-12-31 00:00:00+00:00</td>\n",
       "      <td>0.00</td>\n",
       "      <td>3.0</td>\n",
       "    </tr>\n",
       "  </tbody>\n",
       "</table>\n",
       "<p>216228 rows × 6 columns</p>\n",
       "</div>"
      ],
      "text/plain": [
       "        station_id          dataset                 parameter   \n",
       "0              282  climate_summary  temperature_air_mean_200  \\\n",
       "1              282  climate_summary  temperature_air_mean_200   \n",
       "2              282  climate_summary  temperature_air_mean_200   \n",
       "3              282  climate_summary  temperature_air_mean_200   \n",
       "4              282  climate_summary  temperature_air_mean_200   \n",
       "...            ...              ...                       ...   \n",
       "322875        5705  climate_summary      precipitation_height   \n",
       "322876        5705  climate_summary      precipitation_height   \n",
       "322877        5705  climate_summary      precipitation_height   \n",
       "322878        5705  climate_summary      precipitation_height   \n",
       "322879        5705  climate_summary      precipitation_height   \n",
       "\n",
       "                             date   value  quality  \n",
       "0       1949-01-01 00:00:00+00:00  276.95      5.0  \n",
       "1       1949-01-02 00:00:00+00:00  275.85      5.0  \n",
       "2       1949-01-03 00:00:00+00:00  275.85      5.0  \n",
       "3       1949-01-04 00:00:00+00:00  274.95      5.0  \n",
       "4       1949-01-05 00:00:00+00:00  275.75      5.0  \n",
       "...                           ...     ...      ...  \n",
       "322875  2021-12-27 00:00:00+00:00    1.50      3.0  \n",
       "322876  2021-12-28 00:00:00+00:00   14.90      3.0  \n",
       "322877  2021-12-29 00:00:00+00:00    2.70      3.0  \n",
       "322878  2021-12-30 00:00:00+00:00    1.20      3.0  \n",
       "322879  2021-12-31 00:00:00+00:00    0.00      3.0  \n",
       "\n",
       "[216228 rows x 6 columns]"
      ]
     },
     "execution_count": 37,
     "metadata": {},
     "output_type": "execute_result"
    }
   ],
   "source": [
    "df[(df['station_id'] == 5705) | (df['station_id'] == 282)]"
   ]
  },
  {
   "attachments": {},
   "cell_type": "markdown",
   "metadata": {},
   "source": [
    ".. or we can use the .isin() method"
   ]
  },
  {
   "cell_type": "code",
   "execution_count": 116,
   "metadata": {
    "tags": []
   },
   "outputs": [
    {
     "data": {
      "text/html": [
       "<div>\n",
       "<style scoped>\n",
       "    .dataframe tbody tr th:only-of-type {\n",
       "        vertical-align: middle;\n",
       "    }\n",
       "\n",
       "    .dataframe tbody tr th {\n",
       "        vertical-align: top;\n",
       "    }\n",
       "\n",
       "    .dataframe thead th {\n",
       "        text-align: right;\n",
       "    }\n",
       "</style>\n",
       "<table border=\"1\" class=\"dataframe\">\n",
       "  <thead>\n",
       "    <tr style=\"text-align: right;\">\n",
       "      <th></th>\n",
       "      <th>station_id</th>\n",
       "      <th>dataset</th>\n",
       "      <th>parameter</th>\n",
       "      <th>date</th>\n",
       "      <th>value</th>\n",
       "      <th>quality</th>\n",
       "    </tr>\n",
       "  </thead>\n",
       "  <tbody>\n",
       "    <tr>\n",
       "      <th>0</th>\n",
       "      <td>282</td>\n",
       "      <td>climate_summary</td>\n",
       "      <td>temperature_air_mean_200</td>\n",
       "      <td>1949-01-01 00:00:00+00:00</td>\n",
       "      <td>276.95</td>\n",
       "      <td>5.0</td>\n",
       "    </tr>\n",
       "    <tr>\n",
       "      <th>1</th>\n",
       "      <td>282</td>\n",
       "      <td>climate_summary</td>\n",
       "      <td>temperature_air_mean_200</td>\n",
       "      <td>1949-01-02 00:00:00+00:00</td>\n",
       "      <td>275.85</td>\n",
       "      <td>5.0</td>\n",
       "    </tr>\n",
       "    <tr>\n",
       "      <th>2</th>\n",
       "      <td>282</td>\n",
       "      <td>climate_summary</td>\n",
       "      <td>temperature_air_mean_200</td>\n",
       "      <td>1949-01-03 00:00:00+00:00</td>\n",
       "      <td>275.85</td>\n",
       "      <td>5.0</td>\n",
       "    </tr>\n",
       "    <tr>\n",
       "      <th>3</th>\n",
       "      <td>282</td>\n",
       "      <td>climate_summary</td>\n",
       "      <td>temperature_air_mean_200</td>\n",
       "      <td>1949-01-04 00:00:00+00:00</td>\n",
       "      <td>274.95</td>\n",
       "      <td>5.0</td>\n",
       "    </tr>\n",
       "    <tr>\n",
       "      <th>4</th>\n",
       "      <td>282</td>\n",
       "      <td>climate_summary</td>\n",
       "      <td>temperature_air_mean_200</td>\n",
       "      <td>1949-01-05 00:00:00+00:00</td>\n",
       "      <td>275.75</td>\n",
       "      <td>5.0</td>\n",
       "    </tr>\n",
       "    <tr>\n",
       "      <th>...</th>\n",
       "      <td>...</td>\n",
       "      <td>...</td>\n",
       "      <td>...</td>\n",
       "      <td>...</td>\n",
       "      <td>...</td>\n",
       "      <td>...</td>\n",
       "    </tr>\n",
       "    <tr>\n",
       "      <th>322875</th>\n",
       "      <td>5705</td>\n",
       "      <td>climate_summary</td>\n",
       "      <td>precipitation_height</td>\n",
       "      <td>2021-12-27 00:00:00+00:00</td>\n",
       "      <td>1.50</td>\n",
       "      <td>3.0</td>\n",
       "    </tr>\n",
       "    <tr>\n",
       "      <th>322876</th>\n",
       "      <td>5705</td>\n",
       "      <td>climate_summary</td>\n",
       "      <td>precipitation_height</td>\n",
       "      <td>2021-12-28 00:00:00+00:00</td>\n",
       "      <td>14.90</td>\n",
       "      <td>3.0</td>\n",
       "    </tr>\n",
       "    <tr>\n",
       "      <th>322877</th>\n",
       "      <td>5705</td>\n",
       "      <td>climate_summary</td>\n",
       "      <td>precipitation_height</td>\n",
       "      <td>2021-12-29 00:00:00+00:00</td>\n",
       "      <td>2.70</td>\n",
       "      <td>3.0</td>\n",
       "    </tr>\n",
       "    <tr>\n",
       "      <th>322878</th>\n",
       "      <td>5705</td>\n",
       "      <td>climate_summary</td>\n",
       "      <td>precipitation_height</td>\n",
       "      <td>2021-12-30 00:00:00+00:00</td>\n",
       "      <td>1.20</td>\n",
       "      <td>3.0</td>\n",
       "    </tr>\n",
       "    <tr>\n",
       "      <th>322879</th>\n",
       "      <td>5705</td>\n",
       "      <td>climate_summary</td>\n",
       "      <td>precipitation_height</td>\n",
       "      <td>2021-12-31 00:00:00+00:00</td>\n",
       "      <td>0.00</td>\n",
       "      <td>3.0</td>\n",
       "    </tr>\n",
       "  </tbody>\n",
       "</table>\n",
       "<p>216228 rows × 6 columns</p>\n",
       "</div>"
      ],
      "text/plain": [
       "        station_id          dataset                 parameter   \n",
       "0              282  climate_summary  temperature_air_mean_200  \\\n",
       "1              282  climate_summary  temperature_air_mean_200   \n",
       "2              282  climate_summary  temperature_air_mean_200   \n",
       "3              282  climate_summary  temperature_air_mean_200   \n",
       "4              282  climate_summary  temperature_air_mean_200   \n",
       "...            ...              ...                       ...   \n",
       "322875        5705  climate_summary      precipitation_height   \n",
       "322876        5705  climate_summary      precipitation_height   \n",
       "322877        5705  climate_summary      precipitation_height   \n",
       "322878        5705  climate_summary      precipitation_height   \n",
       "322879        5705  climate_summary      precipitation_height   \n",
       "\n",
       "                             date   value  quality  \n",
       "0       1949-01-01 00:00:00+00:00  276.95      5.0  \n",
       "1       1949-01-02 00:00:00+00:00  275.85      5.0  \n",
       "2       1949-01-03 00:00:00+00:00  275.85      5.0  \n",
       "3       1949-01-04 00:00:00+00:00  274.95      5.0  \n",
       "4       1949-01-05 00:00:00+00:00  275.75      5.0  \n",
       "...                           ...     ...      ...  \n",
       "322875  2021-12-27 00:00:00+00:00    1.50      3.0  \n",
       "322876  2021-12-28 00:00:00+00:00   14.90      3.0  \n",
       "322877  2021-12-29 00:00:00+00:00    2.70      3.0  \n",
       "322878  2021-12-30 00:00:00+00:00    1.20      3.0  \n",
       "322879  2021-12-31 00:00:00+00:00    0.00      3.0  \n",
       "\n",
       "[216228 rows x 6 columns]"
      ]
     },
     "execution_count": 116,
     "metadata": {},
     "output_type": "execute_result"
    }
   ],
   "source": [
    "# sel = df['station_id'].isin([5705,282])\n",
    "# df[sel]"
   ]
  },
  {
   "attachments": {},
   "cell_type": "markdown",
   "metadata": {},
   "source": [
    "### Sorting\n",
    "\n",
    "A DataFrame can be sorted using the .sort_values method. We can of course also sort by index using .sort_index()"
   ]
  },
  {
   "cell_type": "code",
   "execution_count": 38,
   "metadata": {
    "tags": []
   },
   "outputs": [
    {
     "data": {
      "text/html": [
       "<div>\n",
       "<style scoped>\n",
       "    .dataframe tbody tr th:only-of-type {\n",
       "        vertical-align: middle;\n",
       "    }\n",
       "\n",
       "    .dataframe tbody tr th {\n",
       "        vertical-align: top;\n",
       "    }\n",
       "\n",
       "    .dataframe thead th {\n",
       "        text-align: right;\n",
       "    }\n",
       "</style>\n",
       "<table border=\"1\" class=\"dataframe\">\n",
       "  <thead>\n",
       "    <tr style=\"text-align: right;\">\n",
       "      <th></th>\n",
       "      <th>station_id</th>\n",
       "      <th>dataset</th>\n",
       "      <th>parameter</th>\n",
       "      <th>date</th>\n",
       "      <th>value</th>\n",
       "      <th>quality</th>\n",
       "    </tr>\n",
       "  </thead>\n",
       "  <tbody>\n",
       "    <tr>\n",
       "      <th>238359</th>\n",
       "      <td>5705</td>\n",
       "      <td>climate_summary</td>\n",
       "      <td>temperature_air_mean_200</td>\n",
       "      <td>2015-08-07 00:00:00+00:00</td>\n",
       "      <td>303.45</td>\n",
       "      <td>10.0</td>\n",
       "    </tr>\n",
       "    <tr>\n",
       "      <th>239807</th>\n",
       "      <td>5705</td>\n",
       "      <td>climate_summary</td>\n",
       "      <td>temperature_air_mean_200</td>\n",
       "      <td>2019-07-25 00:00:00+00:00</td>\n",
       "      <td>303.35</td>\n",
       "      <td>3.0</td>\n",
       "    </tr>\n",
       "    <tr>\n",
       "      <th>238325</th>\n",
       "      <td>5705</td>\n",
       "      <td>climate_summary</td>\n",
       "      <td>temperature_air_mean_200</td>\n",
       "      <td>2015-07-04 00:00:00+00:00</td>\n",
       "      <td>303.25</td>\n",
       "      <td>10.0</td>\n",
       "    </tr>\n",
       "    <tr>\n",
       "      <th>239808</th>\n",
       "      <td>5705</td>\n",
       "      <td>climate_summary</td>\n",
       "      <td>temperature_air_mean_200</td>\n",
       "      <td>2019-07-26 00:00:00+00:00</td>\n",
       "      <td>302.95</td>\n",
       "      <td>3.0</td>\n",
       "    </tr>\n",
       "    <tr>\n",
       "      <th>233982</th>\n",
       "      <td>5705</td>\n",
       "      <td>climate_summary</td>\n",
       "      <td>temperature_air_mean_200</td>\n",
       "      <td>2003-08-13 00:00:00+00:00</td>\n",
       "      <td>302.35</td>\n",
       "      <td>10.0</td>\n",
       "    </tr>\n",
       "    <tr>\n",
       "      <th>...</th>\n",
       "      <td>...</td>\n",
       "      <td>...</td>\n",
       "      <td>...</td>\n",
       "      <td>...</td>\n",
       "      <td>...</td>\n",
       "      <td>...</td>\n",
       "    </tr>\n",
       "    <tr>\n",
       "      <th>220986</th>\n",
       "      <td>5705</td>\n",
       "      <td>climate_summary</td>\n",
       "      <td>temperature_air_mean_200</td>\n",
       "      <td>1968-01-13 00:00:00+00:00</td>\n",
       "      <td>257.25</td>\n",
       "      <td>5.0</td>\n",
       "    </tr>\n",
       "    <tr>\n",
       "      <th>221694</th>\n",
       "      <td>5705</td>\n",
       "      <td>climate_summary</td>\n",
       "      <td>temperature_air_mean_200</td>\n",
       "      <td>1969-12-21 00:00:00+00:00</td>\n",
       "      <td>256.35</td>\n",
       "      <td>5.0</td>\n",
       "    </tr>\n",
       "    <tr>\n",
       "      <th>216630</th>\n",
       "      <td>5705</td>\n",
       "      <td>climate_summary</td>\n",
       "      <td>temperature_air_mean_200</td>\n",
       "      <td>1956-02-09 00:00:00+00:00</td>\n",
       "      <td>256.15</td>\n",
       "      <td>5.0</td>\n",
       "    </tr>\n",
       "    <tr>\n",
       "      <th>227191</th>\n",
       "      <td>5705</td>\n",
       "      <td>climate_summary</td>\n",
       "      <td>temperature_air_mean_200</td>\n",
       "      <td>1985-01-08 00:00:00+00:00</td>\n",
       "      <td>254.95</td>\n",
       "      <td>10.0</td>\n",
       "    </tr>\n",
       "    <tr>\n",
       "      <th>216622</th>\n",
       "      <td>5705</td>\n",
       "      <td>climate_summary</td>\n",
       "      <td>temperature_air_mean_200</td>\n",
       "      <td>1956-02-01 00:00:00+00:00</td>\n",
       "      <td>254.55</td>\n",
       "      <td>5.0</td>\n",
       "    </tr>\n",
       "  </tbody>\n",
       "</table>\n",
       "<p>27394 rows × 6 columns</p>\n",
       "</div>"
      ],
      "text/plain": [
       "        station_id          dataset                 parameter   \n",
       "238359        5705  climate_summary  temperature_air_mean_200  \\\n",
       "239807        5705  climate_summary  temperature_air_mean_200   \n",
       "238325        5705  climate_summary  temperature_air_mean_200   \n",
       "239808        5705  climate_summary  temperature_air_mean_200   \n",
       "233982        5705  climate_summary  temperature_air_mean_200   \n",
       "...            ...              ...                       ...   \n",
       "220986        5705  climate_summary  temperature_air_mean_200   \n",
       "221694        5705  climate_summary  temperature_air_mean_200   \n",
       "216630        5705  climate_summary  temperature_air_mean_200   \n",
       "227191        5705  climate_summary  temperature_air_mean_200   \n",
       "216622        5705  climate_summary  temperature_air_mean_200   \n",
       "\n",
       "                             date   value  quality  \n",
       "238359  2015-08-07 00:00:00+00:00  303.45     10.0  \n",
       "239807  2019-07-25 00:00:00+00:00  303.35      3.0  \n",
       "238325  2015-07-04 00:00:00+00:00  303.25     10.0  \n",
       "239808  2019-07-26 00:00:00+00:00  302.95      3.0  \n",
       "233982  2003-08-13 00:00:00+00:00  302.35     10.0  \n",
       "...                           ...     ...      ...  \n",
       "220986  1968-01-13 00:00:00+00:00  257.25      5.0  \n",
       "221694  1969-12-21 00:00:00+00:00  256.35      5.0  \n",
       "216630  1956-02-09 00:00:00+00:00  256.15      5.0  \n",
       "227191  1985-01-08 00:00:00+00:00  254.95     10.0  \n",
       "216622  1956-02-01 00:00:00+00:00  254.55      5.0  \n",
       "\n",
       "[27394 rows x 6 columns]"
      ]
     },
     "execution_count": 38,
     "metadata": {},
     "output_type": "execute_result"
    }
   ],
   "source": [
    "\n",
    "temp_wue = df.loc[(df['station_id'] == 5705) & (df['parameter'] == 'temperature_air_mean_200') ]\n",
    "\n",
    "# temp_wue.sort_values(by = 'value')                   #Order rows by values of a column (low to high).\n",
    "temp_wue.sort_values(by = 'value', ascending=False)   #Order rows by values of a column (high to low)."
   ]
  },
  {
   "attachments": {},
   "cell_type": "markdown",
   "metadata": {},
   "source": [
    "## Data manipulation\n",
    "\n",
    "In the next section we will prepare our dataset for analysis using some of the basic data manipulation methods in provided by pandas. In this example we will\n",
    "\n",
    "- change station_id to actual station names\n",
    "- reshape dataset from long to wide format\n",
    "- use timestamps as index\n",
    "- convert temperature data to celsius\n",
    "- make some first visualisation"
   ]
  },
  {
   "attachments": {},
   "cell_type": "markdown",
   "metadata": {},
   "source": [
    "### Remapping  values\n",
    "\n",
    "First of all we want to replace our station_id with the real world name of the station. "
   ]
  },
  {
   "cell_type": "code",
   "execution_count": 50,
   "metadata": {
    "tags": []
   },
   "outputs": [
    {
     "data": {
      "text/html": [
       "<div>\n",
       "<style scoped>\n",
       "    .dataframe tbody tr th:only-of-type {\n",
       "        vertical-align: middle;\n",
       "    }\n",
       "\n",
       "    .dataframe tbody tr th {\n",
       "        vertical-align: top;\n",
       "    }\n",
       "\n",
       "    .dataframe thead th {\n",
       "        text-align: right;\n",
       "    }\n",
       "</style>\n",
       "<table border=\"1\" class=\"dataframe\">\n",
       "  <thead>\n",
       "    <tr style=\"text-align: right;\">\n",
       "      <th></th>\n",
       "      <th>station_id</th>\n",
       "      <th>dataset</th>\n",
       "      <th>parameter</th>\n",
       "      <th>date</th>\n",
       "      <th>value</th>\n",
       "      <th>quality</th>\n",
       "    </tr>\n",
       "  </thead>\n",
       "  <tbody>\n",
       "    <tr>\n",
       "      <th>0</th>\n",
       "      <td>Bamberg</td>\n",
       "      <td>climate_summary</td>\n",
       "      <td>temperature_air_mean_200</td>\n",
       "      <td>1949-01-01 00:00:00+00:00</td>\n",
       "      <td>276.95</td>\n",
       "      <td>5.0</td>\n",
       "    </tr>\n",
       "    <tr>\n",
       "      <th>1</th>\n",
       "      <td>Bamberg</td>\n",
       "      <td>climate_summary</td>\n",
       "      <td>temperature_air_mean_200</td>\n",
       "      <td>1949-01-02 00:00:00+00:00</td>\n",
       "      <td>275.85</td>\n",
       "      <td>5.0</td>\n",
       "    </tr>\n",
       "    <tr>\n",
       "      <th>2</th>\n",
       "      <td>Bamberg</td>\n",
       "      <td>climate_summary</td>\n",
       "      <td>temperature_air_mean_200</td>\n",
       "      <td>1949-01-03 00:00:00+00:00</td>\n",
       "      <td>275.85</td>\n",
       "      <td>5.0</td>\n",
       "    </tr>\n",
       "    <tr>\n",
       "      <th>3</th>\n",
       "      <td>Bamberg</td>\n",
       "      <td>climate_summary</td>\n",
       "      <td>temperature_air_mean_200</td>\n",
       "      <td>1949-01-04 00:00:00+00:00</td>\n",
       "      <td>274.95</td>\n",
       "      <td>5.0</td>\n",
       "    </tr>\n",
       "    <tr>\n",
       "      <th>4</th>\n",
       "      <td>Bamberg</td>\n",
       "      <td>climate_summary</td>\n",
       "      <td>temperature_air_mean_200</td>\n",
       "      <td>1949-01-05 00:00:00+00:00</td>\n",
       "      <td>275.75</td>\n",
       "      <td>5.0</td>\n",
       "    </tr>\n",
       "    <tr>\n",
       "      <th>...</th>\n",
       "      <td>...</td>\n",
       "      <td>...</td>\n",
       "      <td>...</td>\n",
       "      <td>...</td>\n",
       "      <td>...</td>\n",
       "      <td>...</td>\n",
       "    </tr>\n",
       "    <tr>\n",
       "      <th>322875</th>\n",
       "      <td>Würzburg</td>\n",
       "      <td>climate_summary</td>\n",
       "      <td>precipitation_height</td>\n",
       "      <td>2021-12-27 00:00:00+00:00</td>\n",
       "      <td>1.50</td>\n",
       "      <td>3.0</td>\n",
       "    </tr>\n",
       "    <tr>\n",
       "      <th>322876</th>\n",
       "      <td>Würzburg</td>\n",
       "      <td>climate_summary</td>\n",
       "      <td>precipitation_height</td>\n",
       "      <td>2021-12-28 00:00:00+00:00</td>\n",
       "      <td>14.90</td>\n",
       "      <td>3.0</td>\n",
       "    </tr>\n",
       "    <tr>\n",
       "      <th>322877</th>\n",
       "      <td>Würzburg</td>\n",
       "      <td>climate_summary</td>\n",
       "      <td>precipitation_height</td>\n",
       "      <td>2021-12-29 00:00:00+00:00</td>\n",
       "      <td>2.70</td>\n",
       "      <td>3.0</td>\n",
       "    </tr>\n",
       "    <tr>\n",
       "      <th>322878</th>\n",
       "      <td>Würzburg</td>\n",
       "      <td>climate_summary</td>\n",
       "      <td>precipitation_height</td>\n",
       "      <td>2021-12-30 00:00:00+00:00</td>\n",
       "      <td>1.20</td>\n",
       "      <td>3.0</td>\n",
       "    </tr>\n",
       "    <tr>\n",
       "      <th>322879</th>\n",
       "      <td>Würzburg</td>\n",
       "      <td>climate_summary</td>\n",
       "      <td>precipitation_height</td>\n",
       "      <td>2021-12-31 00:00:00+00:00</td>\n",
       "      <td>0.00</td>\n",
       "      <td>3.0</td>\n",
       "    </tr>\n",
       "  </tbody>\n",
       "</table>\n",
       "<p>322880 rows × 6 columns</p>\n",
       "</div>"
      ],
      "text/plain": [
       "       station_id          dataset                 parameter   \n",
       "0         Bamberg  climate_summary  temperature_air_mean_200  \\\n",
       "1         Bamberg  climate_summary  temperature_air_mean_200   \n",
       "2         Bamberg  climate_summary  temperature_air_mean_200   \n",
       "3         Bamberg  climate_summary  temperature_air_mean_200   \n",
       "4         Bamberg  climate_summary  temperature_air_mean_200   \n",
       "...           ...              ...                       ...   \n",
       "322875   Würzburg  climate_summary      precipitation_height   \n",
       "322876   Würzburg  climate_summary      precipitation_height   \n",
       "322877   Würzburg  climate_summary      precipitation_height   \n",
       "322878   Würzburg  climate_summary      precipitation_height   \n",
       "322879   Würzburg  climate_summary      precipitation_height   \n",
       "\n",
       "                             date   value  quality  \n",
       "0       1949-01-01 00:00:00+00:00  276.95      5.0  \n",
       "1       1949-01-02 00:00:00+00:00  275.85      5.0  \n",
       "2       1949-01-03 00:00:00+00:00  275.85      5.0  \n",
       "3       1949-01-04 00:00:00+00:00  274.95      5.0  \n",
       "4       1949-01-05 00:00:00+00:00  275.75      5.0  \n",
       "...                           ...     ...      ...  \n",
       "322875  2021-12-27 00:00:00+00:00    1.50      3.0  \n",
       "322876  2021-12-28 00:00:00+00:00   14.90      3.0  \n",
       "322877  2021-12-29 00:00:00+00:00    2.70      3.0  \n",
       "322878  2021-12-30 00:00:00+00:00    1.20      3.0  \n",
       "322879  2021-12-31 00:00:00+00:00    0.00      3.0  \n",
       "\n",
       "[322880 rows x 6 columns]"
      ]
     },
     "execution_count": 50,
     "metadata": {},
     "output_type": "execute_result"
    }
   ],
   "source": [
    "new_values = {5705:'Würzburg',282:'Bamberg',1420:'Frankfurt'}\n",
    "\n",
    "df2=df.replace({\"station_id\": new_values})\n",
    "\n",
    "df2"
   ]
  },
  {
   "attachments": {},
   "cell_type": "markdown",
   "metadata": {},
   "source": [
    "### Reshaping dataframe\n",
    "\n",
    "Pandas offers different functions to rehape your dataframe"
   ]
  },
  {
   "attachments": {},
   "cell_type": "markdown",
   "metadata": {},
   "source": [
    "<img src=\"images/reshaping.png\" width=700   />\n",
    "\n",
    "https://pandas.pydata.org/"
   ]
  },
  {
   "cell_type": "code",
   "execution_count": 52,
   "metadata": {
    "tags": []
   },
   "outputs": [
    {
     "data": {
      "text/plain": [
       "Index(['date', 'station_id', 'precipitation_height', 'temperature_air_max_200',\n",
       "       'temperature_air_mean_200', 'temperature_air_min_200'],\n",
       "      dtype='object', name='parameter')"
      ]
     },
     "execution_count": 52,
     "metadata": {},
     "output_type": "execute_result"
    }
   ],
   "source": [
    "data = df2.pivot(index=['date','station_id'], columns='parameter', values='value').reset_index()\n"
   ]
  },
  {
   "attachments": {},
   "cell_type": "markdown",
   "metadata": {
    "slideshow": {
     "slide_type": "slide"
    }
   },
   "source": [
    "## Modifying the index\n",
    "\n",
    "As we will see, the index plays an important role in many operations in pandas. Therefore, often we would like to set a more meaningful, custom index. Especially when dealing with time series data we want to set the index to the time points \n",
    "\n",
    "- .index for Series \n",
    "- .set_index for DataFrame "
   ]
  },
  {
   "cell_type": "code",
   "execution_count": 53,
   "metadata": {
    "slideshow": {
     "slide_type": "fragment"
    },
    "tags": []
   },
   "outputs": [
    {
     "data": {
      "text/html": [
       "<div>\n",
       "<style scoped>\n",
       "    .dataframe tbody tr th:only-of-type {\n",
       "        vertical-align: middle;\n",
       "    }\n",
       "\n",
       "    .dataframe tbody tr th {\n",
       "        vertical-align: top;\n",
       "    }\n",
       "\n",
       "    .dataframe thead th {\n",
       "        text-align: right;\n",
       "    }\n",
       "</style>\n",
       "<table border=\"1\" class=\"dataframe\">\n",
       "  <thead>\n",
       "    <tr style=\"text-align: right;\">\n",
       "      <th>parameter</th>\n",
       "      <th>station_id</th>\n",
       "      <th>precipitation_height</th>\n",
       "      <th>temperature_air_max_200</th>\n",
       "      <th>temperature_air_mean_200</th>\n",
       "      <th>temperature_air_min_200</th>\n",
       "    </tr>\n",
       "    <tr>\n",
       "      <th>date</th>\n",
       "      <th></th>\n",
       "      <th></th>\n",
       "      <th></th>\n",
       "      <th></th>\n",
       "      <th></th>\n",
       "    </tr>\n",
       "  </thead>\n",
       "  <tbody>\n",
       "    <tr>\n",
       "      <th>1947-01-01 00:00:00+00:00</th>\n",
       "      <td>Würzburg</td>\n",
       "      <td>2.4</td>\n",
       "      <td>NaN</td>\n",
       "      <td>270.35</td>\n",
       "      <td>NaN</td>\n",
       "    </tr>\n",
       "    <tr>\n",
       "      <th>1947-01-02 00:00:00+00:00</th>\n",
       "      <td>Würzburg</td>\n",
       "      <td>0.4</td>\n",
       "      <td>NaN</td>\n",
       "      <td>272.55</td>\n",
       "      <td>NaN</td>\n",
       "    </tr>\n",
       "    <tr>\n",
       "      <th>1947-01-03 00:00:00+00:00</th>\n",
       "      <td>Würzburg</td>\n",
       "      <td>0.0</td>\n",
       "      <td>NaN</td>\n",
       "      <td>272.45</td>\n",
       "      <td>NaN</td>\n",
       "    </tr>\n",
       "    <tr>\n",
       "      <th>1947-01-04 00:00:00+00:00</th>\n",
       "      <td>Würzburg</td>\n",
       "      <td>0.0</td>\n",
       "      <td>NaN</td>\n",
       "      <td>264.95</td>\n",
       "      <td>NaN</td>\n",
       "    </tr>\n",
       "    <tr>\n",
       "      <th>1947-01-05 00:00:00+00:00</th>\n",
       "      <td>Würzburg</td>\n",
       "      <td>0.0</td>\n",
       "      <td>NaN</td>\n",
       "      <td>260.25</td>\n",
       "      <td>NaN</td>\n",
       "    </tr>\n",
       "    <tr>\n",
       "      <th>...</th>\n",
       "      <td>...</td>\n",
       "      <td>...</td>\n",
       "      <td>...</td>\n",
       "      <td>...</td>\n",
       "      <td>...</td>\n",
       "    </tr>\n",
       "    <tr>\n",
       "      <th>2021-12-30 00:00:00+00:00</th>\n",
       "      <td>Frankfurt</td>\n",
       "      <td>1.0</td>\n",
       "      <td>289.65</td>\n",
       "      <td>286.35</td>\n",
       "      <td>283.35</td>\n",
       "    </tr>\n",
       "    <tr>\n",
       "      <th>2021-12-30 00:00:00+00:00</th>\n",
       "      <td>Würzburg</td>\n",
       "      <td>1.2</td>\n",
       "      <td>288.05</td>\n",
       "      <td>285.65</td>\n",
       "      <td>282.95</td>\n",
       "    </tr>\n",
       "    <tr>\n",
       "      <th>2021-12-31 00:00:00+00:00</th>\n",
       "      <td>Bamberg</td>\n",
       "      <td>0.0</td>\n",
       "      <td>287.95</td>\n",
       "      <td>284.85</td>\n",
       "      <td>278.95</td>\n",
       "    </tr>\n",
       "    <tr>\n",
       "      <th>2021-12-31 00:00:00+00:00</th>\n",
       "      <td>Frankfurt</td>\n",
       "      <td>0.0</td>\n",
       "      <td>286.15</td>\n",
       "      <td>284.75</td>\n",
       "      <td>281.75</td>\n",
       "    </tr>\n",
       "    <tr>\n",
       "      <th>2021-12-31 00:00:00+00:00</th>\n",
       "      <td>Würzburg</td>\n",
       "      <td>0.0</td>\n",
       "      <td>287.25</td>\n",
       "      <td>284.55</td>\n",
       "      <td>282.85</td>\n",
       "    </tr>\n",
       "  </tbody>\n",
       "</table>\n",
       "<p>80720 rows × 5 columns</p>\n",
       "</div>"
      ],
      "text/plain": [
       "parameter                 station_id  precipitation_height   \n",
       "date                                                         \n",
       "1947-01-01 00:00:00+00:00   Würzburg                   2.4  \\\n",
       "1947-01-02 00:00:00+00:00   Würzburg                   0.4   \n",
       "1947-01-03 00:00:00+00:00   Würzburg                   0.0   \n",
       "1947-01-04 00:00:00+00:00   Würzburg                   0.0   \n",
       "1947-01-05 00:00:00+00:00   Würzburg                   0.0   \n",
       "...                              ...                   ...   \n",
       "2021-12-30 00:00:00+00:00  Frankfurt                   1.0   \n",
       "2021-12-30 00:00:00+00:00   Würzburg                   1.2   \n",
       "2021-12-31 00:00:00+00:00    Bamberg                   0.0   \n",
       "2021-12-31 00:00:00+00:00  Frankfurt                   0.0   \n",
       "2021-12-31 00:00:00+00:00   Würzburg                   0.0   \n",
       "\n",
       "parameter                  temperature_air_max_200  temperature_air_mean_200   \n",
       "date                                                                           \n",
       "1947-01-01 00:00:00+00:00                      NaN                    270.35  \\\n",
       "1947-01-02 00:00:00+00:00                      NaN                    272.55   \n",
       "1947-01-03 00:00:00+00:00                      NaN                    272.45   \n",
       "1947-01-04 00:00:00+00:00                      NaN                    264.95   \n",
       "1947-01-05 00:00:00+00:00                      NaN                    260.25   \n",
       "...                                            ...                       ...   \n",
       "2021-12-30 00:00:00+00:00                   289.65                    286.35   \n",
       "2021-12-30 00:00:00+00:00                   288.05                    285.65   \n",
       "2021-12-31 00:00:00+00:00                   287.95                    284.85   \n",
       "2021-12-31 00:00:00+00:00                   286.15                    284.75   \n",
       "2021-12-31 00:00:00+00:00                   287.25                    284.55   \n",
       "\n",
       "parameter                  temperature_air_min_200  \n",
       "date                                                \n",
       "1947-01-01 00:00:00+00:00                      NaN  \n",
       "1947-01-02 00:00:00+00:00                      NaN  \n",
       "1947-01-03 00:00:00+00:00                      NaN  \n",
       "1947-01-04 00:00:00+00:00                      NaN  \n",
       "1947-01-05 00:00:00+00:00                      NaN  \n",
       "...                                            ...  \n",
       "2021-12-30 00:00:00+00:00                   283.35  \n",
       "2021-12-30 00:00:00+00:00                   282.95  \n",
       "2021-12-31 00:00:00+00:00                   278.95  \n",
       "2021-12-31 00:00:00+00:00                   281.75  \n",
       "2021-12-31 00:00:00+00:00                   282.85  \n",
       "\n",
       "[80720 rows x 5 columns]"
      ]
     },
     "execution_count": 53,
     "metadata": {},
     "output_type": "execute_result"
    }
   ],
   "source": [
    "data = data.set_index('date')                   \n",
    "data.head()\n",
    "data"
   ]
  },
  {
   "attachments": {},
   "cell_type": "markdown",
   "metadata": {},
   "source": [
    "Especially when working with time series it is recommended to convert your timestamps into datetime format, which adds some specific methods to our time data"
   ]
  },
  {
   "cell_type": "code",
   "execution_count": 54,
   "metadata": {
    "tags": []
   },
   "outputs": [
    {
     "data": {
      "text/plain": [
       "Index([1947, 1947, 1947, 1947, 1947, 1947, 1947, 1947, 1947, 1947,\n",
       "       ...\n",
       "       2021, 2021, 2021, 2021, 2021, 2021, 2021, 2021, 2021, 2021],\n",
       "      dtype='int32', name='date', length=80720)"
      ]
     },
     "execution_count": 54,
     "metadata": {},
     "output_type": "execute_result"
    }
   ],
   "source": [
    "data.index = pd.to_datetime(data.index)\n",
    "data.index.year"
   ]
  },
  {
   "attachments": {},
   "cell_type": "markdown",
   "metadata": {},
   "source": [
    "### Arithmetic operations\n",
    "\n",
    "We can also combine values of different columns to apply pairwise arithmetic or boolean operators. As we can see our temperature data is still in Kelvin. So let's convert it to Celsius Degree"
   ]
  },
  {
   "cell_type": "code",
   "execution_count": 55,
   "metadata": {
    "tags": []
   },
   "outputs": [
    {
     "data": {
      "text/html": [
       "<div>\n",
       "<style scoped>\n",
       "    .dataframe tbody tr th:only-of-type {\n",
       "        vertical-align: middle;\n",
       "    }\n",
       "\n",
       "    .dataframe tbody tr th {\n",
       "        vertical-align: top;\n",
       "    }\n",
       "\n",
       "    .dataframe thead th {\n",
       "        text-align: right;\n",
       "    }\n",
       "</style>\n",
       "<table border=\"1\" class=\"dataframe\">\n",
       "  <thead>\n",
       "    <tr style=\"text-align: right;\">\n",
       "      <th>parameter</th>\n",
       "      <th>index</th>\n",
       "      <th>date</th>\n",
       "      <th>station_id</th>\n",
       "      <th>precipitation_height</th>\n",
       "      <th>temperature_air_max_200</th>\n",
       "      <th>temperature_air_mean_200</th>\n",
       "      <th>temperature_air_min_200</th>\n",
       "    </tr>\n",
       "  </thead>\n",
       "  <tbody>\n",
       "    <tr>\n",
       "      <th>0</th>\n",
       "      <td>0</td>\n",
       "      <td>1947-01-01 00:00:00+00:00</td>\n",
       "      <td>Würzburg</td>\n",
       "      <td>2.4</td>\n",
       "      <td>NaN</td>\n",
       "      <td>270.35</td>\n",
       "      <td>NaN</td>\n",
       "    </tr>\n",
       "    <tr>\n",
       "      <th>1</th>\n",
       "      <td>1</td>\n",
       "      <td>1947-01-02 00:00:00+00:00</td>\n",
       "      <td>Würzburg</td>\n",
       "      <td>0.4</td>\n",
       "      <td>NaN</td>\n",
       "      <td>272.55</td>\n",
       "      <td>NaN</td>\n",
       "    </tr>\n",
       "    <tr>\n",
       "      <th>2</th>\n",
       "      <td>2</td>\n",
       "      <td>1947-01-03 00:00:00+00:00</td>\n",
       "      <td>Würzburg</td>\n",
       "      <td>0.0</td>\n",
       "      <td>NaN</td>\n",
       "      <td>272.45</td>\n",
       "      <td>NaN</td>\n",
       "    </tr>\n",
       "    <tr>\n",
       "      <th>3</th>\n",
       "      <td>3</td>\n",
       "      <td>1947-01-04 00:00:00+00:00</td>\n",
       "      <td>Würzburg</td>\n",
       "      <td>0.0</td>\n",
       "      <td>NaN</td>\n",
       "      <td>264.95</td>\n",
       "      <td>NaN</td>\n",
       "    </tr>\n",
       "    <tr>\n",
       "      <th>4</th>\n",
       "      <td>4</td>\n",
       "      <td>1947-01-05 00:00:00+00:00</td>\n",
       "      <td>Würzburg</td>\n",
       "      <td>0.0</td>\n",
       "      <td>NaN</td>\n",
       "      <td>260.25</td>\n",
       "      <td>NaN</td>\n",
       "    </tr>\n",
       "    <tr>\n",
       "      <th>...</th>\n",
       "      <td>...</td>\n",
       "      <td>...</td>\n",
       "      <td>...</td>\n",
       "      <td>...</td>\n",
       "      <td>...</td>\n",
       "      <td>...</td>\n",
       "      <td>...</td>\n",
       "    </tr>\n",
       "    <tr>\n",
       "      <th>80715</th>\n",
       "      <td>80715</td>\n",
       "      <td>2021-12-30 00:00:00+00:00</td>\n",
       "      <td>Frankfurt</td>\n",
       "      <td>1.0</td>\n",
       "      <td>289.65</td>\n",
       "      <td>286.35</td>\n",
       "      <td>283.35</td>\n",
       "    </tr>\n",
       "    <tr>\n",
       "      <th>80716</th>\n",
       "      <td>80716</td>\n",
       "      <td>2021-12-30 00:00:00+00:00</td>\n",
       "      <td>Würzburg</td>\n",
       "      <td>1.2</td>\n",
       "      <td>288.05</td>\n",
       "      <td>285.65</td>\n",
       "      <td>282.95</td>\n",
       "    </tr>\n",
       "    <tr>\n",
       "      <th>80717</th>\n",
       "      <td>80717</td>\n",
       "      <td>2021-12-31 00:00:00+00:00</td>\n",
       "      <td>Bamberg</td>\n",
       "      <td>0.0</td>\n",
       "      <td>287.95</td>\n",
       "      <td>284.85</td>\n",
       "      <td>278.95</td>\n",
       "    </tr>\n",
       "    <tr>\n",
       "      <th>80718</th>\n",
       "      <td>80718</td>\n",
       "      <td>2021-12-31 00:00:00+00:00</td>\n",
       "      <td>Frankfurt</td>\n",
       "      <td>0.0</td>\n",
       "      <td>286.15</td>\n",
       "      <td>284.75</td>\n",
       "      <td>281.75</td>\n",
       "    </tr>\n",
       "    <tr>\n",
       "      <th>80719</th>\n",
       "      <td>80719</td>\n",
       "      <td>2021-12-31 00:00:00+00:00</td>\n",
       "      <td>Würzburg</td>\n",
       "      <td>0.0</td>\n",
       "      <td>287.25</td>\n",
       "      <td>284.55</td>\n",
       "      <td>282.85</td>\n",
       "    </tr>\n",
       "  </tbody>\n",
       "</table>\n",
       "<p>80720 rows × 7 columns</p>\n",
       "</div>"
      ],
      "text/plain": [
       "parameter  index                      date station_id  precipitation_height   \n",
       "0              0 1947-01-01 00:00:00+00:00   Würzburg                   2.4  \\\n",
       "1              1 1947-01-02 00:00:00+00:00   Würzburg                   0.4   \n",
       "2              2 1947-01-03 00:00:00+00:00   Würzburg                   0.0   \n",
       "3              3 1947-01-04 00:00:00+00:00   Würzburg                   0.0   \n",
       "4              4 1947-01-05 00:00:00+00:00   Würzburg                   0.0   \n",
       "...          ...                       ...        ...                   ...   \n",
       "80715      80715 2021-12-30 00:00:00+00:00  Frankfurt                   1.0   \n",
       "80716      80716 2021-12-30 00:00:00+00:00   Würzburg                   1.2   \n",
       "80717      80717 2021-12-31 00:00:00+00:00    Bamberg                   0.0   \n",
       "80718      80718 2021-12-31 00:00:00+00:00  Frankfurt                   0.0   \n",
       "80719      80719 2021-12-31 00:00:00+00:00   Würzburg                   0.0   \n",
       "\n",
       "parameter  temperature_air_max_200  temperature_air_mean_200   \n",
       "0                              NaN                    270.35  \\\n",
       "1                              NaN                    272.55   \n",
       "2                              NaN                    272.45   \n",
       "3                              NaN                    264.95   \n",
       "4                              NaN                    260.25   \n",
       "...                            ...                       ...   \n",
       "80715                       289.65                    286.35   \n",
       "80716                       288.05                    285.65   \n",
       "80717                       287.95                    284.85   \n",
       "80718                       286.15                    284.75   \n",
       "80719                       287.25                    284.55   \n",
       "\n",
       "parameter  temperature_air_min_200  \n",
       "0                              NaN  \n",
       "1                              NaN  \n",
       "2                              NaN  \n",
       "3                              NaN  \n",
       "4                              NaN  \n",
       "...                            ...  \n",
       "80715                       283.35  \n",
       "80716                       282.95  \n",
       "80717                       278.95  \n",
       "80718                       281.75  \n",
       "80719                       282.85  \n",
       "\n",
       "[80720 rows x 7 columns]"
      ]
     },
     "execution_count": 55,
     "metadata": {},
     "output_type": "execute_result"
    }
   ],
   "source": [
    "data.reset_index().reset_index()"
   ]
  },
  {
   "cell_type": "code",
   "execution_count": 51,
   "metadata": {
    "tags": []
   },
   "outputs": [
    {
     "data": {
      "text/plain": [
       "date\n",
       "1947-01-01 00:00:00+00:00    -2.8\n",
       "1947-01-02 00:00:00+00:00    -0.6\n",
       "1947-01-03 00:00:00+00:00    -0.7\n",
       "1947-01-04 00:00:00+00:00    -8.2\n",
       "1947-01-05 00:00:00+00:00   -12.9\n",
       "                             ... \n",
       "2021-12-30 00:00:00+00:00    13.2\n",
       "2021-12-30 00:00:00+00:00    12.5\n",
       "2021-12-31 00:00:00+00:00    11.7\n",
       "2021-12-31 00:00:00+00:00    11.6\n",
       "2021-12-31 00:00:00+00:00    11.4\n",
       "Name: temperature_air_mean_200, Length: 80720, dtype: float64"
      ]
     },
     "execution_count": 51,
     "metadata": {},
     "output_type": "execute_result"
    }
   ],
   "source": [
    "data['temperature_air_mean_200'] - 273.15"
   ]
  },
  {
   "attachments": {},
   "cell_type": "markdown",
   "metadata": {
    "slideshow": {
     "slide_type": "slide"
    }
   },
   "source": [
    "Or we can even apply write a function and apply it"
   ]
  },
  {
   "cell_type": "code",
   "execution_count": 56,
   "metadata": {
    "slideshow": {
     "slide_type": "fragment"
    },
    "tags": []
   },
   "outputs": [],
   "source": [
    "def kelvin2cel(x):\n",
    "    x = x - 273.15\n",
    "    return(x)"
   ]
  },
  {
   "cell_type": "code",
   "execution_count": 57,
   "metadata": {
    "slideshow": {
     "slide_type": "fragment"
    },
    "tags": []
   },
   "outputs": [
    {
     "data": {
      "text/plain": [
       "date\n",
       "1947-01-01 00:00:00+00:00    -2.8\n",
       "1947-01-02 00:00:00+00:00    -0.6\n",
       "1947-01-03 00:00:00+00:00    -0.7\n",
       "1947-01-04 00:00:00+00:00    -8.2\n",
       "1947-01-05 00:00:00+00:00   -12.9\n",
       "                             ... \n",
       "2021-12-30 00:00:00+00:00    13.2\n",
       "2021-12-30 00:00:00+00:00    12.5\n",
       "2021-12-31 00:00:00+00:00    11.7\n",
       "2021-12-31 00:00:00+00:00    11.6\n",
       "2021-12-31 00:00:00+00:00    11.4\n",
       "Name: temperature_air_mean_200, Length: 80720, dtype: float64"
      ]
     },
     "execution_count": 57,
     "metadata": {},
     "output_type": "execute_result"
    }
   ],
   "source": [
    "data[\"temperature_air_mean_200\"].apply(kelvin2cel)"
   ]
  },
  {
   "attachments": {},
   "cell_type": "markdown",
   "metadata": {},
   "source": [
    "### Create/Drop columns\n",
    "\n",
    "If we want to store our new values in the same dataframe, we can also create a new column. These can be created by  assigning of a Series to a non-existing column index."
   ]
  },
  {
   "cell_type": "code",
   "execution_count": 58,
   "metadata": {
    "tags": []
   },
   "outputs": [],
   "source": [
    "## create new temperature column\n",
    "\n",
    "data['mean_temp_c'] = data[\"temperature_air_mean_200\"].apply(kelvin2cel)\n",
    "data['max_temp_c'] = data[\"temperature_air_max_200\"].apply(kelvin2cel)\n",
    "data['min_temp_c'] = data[\"temperature_air_min_200\"].apply(kelvin2cel)\n"
   ]
  },
  {
   "attachments": {},
   "cell_type": "markdown",
   "metadata": {},
   "source": [
    "Of course we can also drop columns we don't need"
   ]
  },
  {
   "cell_type": "code",
   "execution_count": 59,
   "metadata": {
    "tags": []
   },
   "outputs": [
    {
     "data": {
      "text/html": [
       "<div>\n",
       "<style scoped>\n",
       "    .dataframe tbody tr th:only-of-type {\n",
       "        vertical-align: middle;\n",
       "    }\n",
       "\n",
       "    .dataframe tbody tr th {\n",
       "        vertical-align: top;\n",
       "    }\n",
       "\n",
       "    .dataframe thead th {\n",
       "        text-align: right;\n",
       "    }\n",
       "</style>\n",
       "<table border=\"1\" class=\"dataframe\">\n",
       "  <thead>\n",
       "    <tr style=\"text-align: right;\">\n",
       "      <th>parameter</th>\n",
       "      <th>station_id</th>\n",
       "      <th>precipitation_height</th>\n",
       "      <th>mean_temp_c</th>\n",
       "      <th>max_temp_c</th>\n",
       "      <th>min_temp_c</th>\n",
       "    </tr>\n",
       "    <tr>\n",
       "      <th>date</th>\n",
       "      <th></th>\n",
       "      <th></th>\n",
       "      <th></th>\n",
       "      <th></th>\n",
       "      <th></th>\n",
       "    </tr>\n",
       "  </thead>\n",
       "  <tbody>\n",
       "    <tr>\n",
       "      <th>1947-01-01 00:00:00+00:00</th>\n",
       "      <td>Würzburg</td>\n",
       "      <td>2.4</td>\n",
       "      <td>-2.8</td>\n",
       "      <td>NaN</td>\n",
       "      <td>NaN</td>\n",
       "    </tr>\n",
       "    <tr>\n",
       "      <th>1947-01-02 00:00:00+00:00</th>\n",
       "      <td>Würzburg</td>\n",
       "      <td>0.4</td>\n",
       "      <td>-0.6</td>\n",
       "      <td>NaN</td>\n",
       "      <td>NaN</td>\n",
       "    </tr>\n",
       "    <tr>\n",
       "      <th>1947-01-03 00:00:00+00:00</th>\n",
       "      <td>Würzburg</td>\n",
       "      <td>0.0</td>\n",
       "      <td>-0.7</td>\n",
       "      <td>NaN</td>\n",
       "      <td>NaN</td>\n",
       "    </tr>\n",
       "    <tr>\n",
       "      <th>1947-01-04 00:00:00+00:00</th>\n",
       "      <td>Würzburg</td>\n",
       "      <td>0.0</td>\n",
       "      <td>-8.2</td>\n",
       "      <td>NaN</td>\n",
       "      <td>NaN</td>\n",
       "    </tr>\n",
       "    <tr>\n",
       "      <th>1947-01-05 00:00:00+00:00</th>\n",
       "      <td>Würzburg</td>\n",
       "      <td>0.0</td>\n",
       "      <td>-12.9</td>\n",
       "      <td>NaN</td>\n",
       "      <td>NaN</td>\n",
       "    </tr>\n",
       "    <tr>\n",
       "      <th>...</th>\n",
       "      <td>...</td>\n",
       "      <td>...</td>\n",
       "      <td>...</td>\n",
       "      <td>...</td>\n",
       "      <td>...</td>\n",
       "    </tr>\n",
       "    <tr>\n",
       "      <th>2021-12-30 00:00:00+00:00</th>\n",
       "      <td>Frankfurt</td>\n",
       "      <td>1.0</td>\n",
       "      <td>13.2</td>\n",
       "      <td>16.5</td>\n",
       "      <td>10.2</td>\n",
       "    </tr>\n",
       "    <tr>\n",
       "      <th>2021-12-30 00:00:00+00:00</th>\n",
       "      <td>Würzburg</td>\n",
       "      <td>1.2</td>\n",
       "      <td>12.5</td>\n",
       "      <td>14.9</td>\n",
       "      <td>9.8</td>\n",
       "    </tr>\n",
       "    <tr>\n",
       "      <th>2021-12-31 00:00:00+00:00</th>\n",
       "      <td>Bamberg</td>\n",
       "      <td>0.0</td>\n",
       "      <td>11.7</td>\n",
       "      <td>14.8</td>\n",
       "      <td>5.8</td>\n",
       "    </tr>\n",
       "    <tr>\n",
       "      <th>2021-12-31 00:00:00+00:00</th>\n",
       "      <td>Frankfurt</td>\n",
       "      <td>0.0</td>\n",
       "      <td>11.6</td>\n",
       "      <td>13.0</td>\n",
       "      <td>8.6</td>\n",
       "    </tr>\n",
       "    <tr>\n",
       "      <th>2021-12-31 00:00:00+00:00</th>\n",
       "      <td>Würzburg</td>\n",
       "      <td>0.0</td>\n",
       "      <td>11.4</td>\n",
       "      <td>14.1</td>\n",
       "      <td>9.7</td>\n",
       "    </tr>\n",
       "  </tbody>\n",
       "</table>\n",
       "<p>80720 rows × 5 columns</p>\n",
       "</div>"
      ],
      "text/plain": [
       "parameter                 station_id  precipitation_height  mean_temp_c   \n",
       "date                                                                      \n",
       "1947-01-01 00:00:00+00:00   Würzburg                   2.4         -2.8  \\\n",
       "1947-01-02 00:00:00+00:00   Würzburg                   0.4         -0.6   \n",
       "1947-01-03 00:00:00+00:00   Würzburg                   0.0         -0.7   \n",
       "1947-01-04 00:00:00+00:00   Würzburg                   0.0         -8.2   \n",
       "1947-01-05 00:00:00+00:00   Würzburg                   0.0        -12.9   \n",
       "...                              ...                   ...          ...   \n",
       "2021-12-30 00:00:00+00:00  Frankfurt                   1.0         13.2   \n",
       "2021-12-30 00:00:00+00:00   Würzburg                   1.2         12.5   \n",
       "2021-12-31 00:00:00+00:00    Bamberg                   0.0         11.7   \n",
       "2021-12-31 00:00:00+00:00  Frankfurt                   0.0         11.6   \n",
       "2021-12-31 00:00:00+00:00   Würzburg                   0.0         11.4   \n",
       "\n",
       "parameter                  max_temp_c  min_temp_c  \n",
       "date                                               \n",
       "1947-01-01 00:00:00+00:00         NaN         NaN  \n",
       "1947-01-02 00:00:00+00:00         NaN         NaN  \n",
       "1947-01-03 00:00:00+00:00         NaN         NaN  \n",
       "1947-01-04 00:00:00+00:00         NaN         NaN  \n",
       "1947-01-05 00:00:00+00:00         NaN         NaN  \n",
       "...                               ...         ...  \n",
       "2021-12-30 00:00:00+00:00        16.5        10.2  \n",
       "2021-12-30 00:00:00+00:00        14.9         9.8  \n",
       "2021-12-31 00:00:00+00:00        14.8         5.8  \n",
       "2021-12-31 00:00:00+00:00        13.0         8.6  \n",
       "2021-12-31 00:00:00+00:00        14.1         9.7  \n",
       "\n",
       "[80720 rows x 5 columns]"
      ]
     },
     "execution_count": 59,
     "metadata": {},
     "output_type": "execute_result"
    }
   ],
   "source": [
    "data = data.drop(columns=[\"temperature_air_mean_200\", \"temperature_air_min_200\", \"temperature_air_max_200\"])\n",
    "data"
   ]
  },
  {
   "attachments": {},
   "cell_type": "markdown",
   "metadata": {},
   "source": [
    "### Groupby\n",
    "\n",
    "Next we want calculate the annual mean for each parameter in our datset. Therefor we can use the groupby() function"
   ]
  },
  {
   "cell_type": "code",
   "execution_count": 61,
   "metadata": {
    "tags": []
   },
   "outputs": [],
   "source": [
    "data['year'] = data.index.year\n",
    "data_annual = data.groupby(['year','station_id']).mean().reset_index()"
   ]
  },
  {
   "cell_type": "code",
   "execution_count": 62,
   "metadata": {
    "tags": []
   },
   "outputs": [
    {
     "data": {
      "text/html": [
       "<div>\n",
       "<style scoped>\n",
       "    .dataframe tbody tr th:only-of-type {\n",
       "        vertical-align: middle;\n",
       "    }\n",
       "\n",
       "    .dataframe tbody tr th {\n",
       "        vertical-align: top;\n",
       "    }\n",
       "\n",
       "    .dataframe thead th {\n",
       "        text-align: right;\n",
       "    }\n",
       "</style>\n",
       "<table border=\"1\" class=\"dataframe\">\n",
       "  <thead>\n",
       "    <tr style=\"text-align: right;\">\n",
       "      <th>parameter</th>\n",
       "      <th>year</th>\n",
       "      <th>station_id</th>\n",
       "      <th>precipitation_height</th>\n",
       "      <th>mean_temp_c</th>\n",
       "      <th>max_temp_c</th>\n",
       "      <th>min_temp_c</th>\n",
       "    </tr>\n",
       "  </thead>\n",
       "  <tbody>\n",
       "    <tr>\n",
       "      <th>0</th>\n",
       "      <td>1947</td>\n",
       "      <td>Würzburg</td>\n",
       "      <td>1.382192</td>\n",
       "      <td>9.860822</td>\n",
       "      <td>19.430909</td>\n",
       "      <td>7.913818</td>\n",
       "    </tr>\n",
       "    <tr>\n",
       "      <th>1</th>\n",
       "      <td>1948</td>\n",
       "      <td>Würzburg</td>\n",
       "      <td>1.558743</td>\n",
       "      <td>9.743169</td>\n",
       "      <td>14.770219</td>\n",
       "      <td>5.327596</td>\n",
       "    </tr>\n",
       "    <tr>\n",
       "      <th>2</th>\n",
       "      <td>1949</td>\n",
       "      <td>Bamberg</td>\n",
       "      <td>1.171507</td>\n",
       "      <td>9.856164</td>\n",
       "      <td>15.007945</td>\n",
       "      <td>4.796986</td>\n",
       "    </tr>\n",
       "    <tr>\n",
       "      <th>3</th>\n",
       "      <td>1949</td>\n",
       "      <td>Frankfurt</td>\n",
       "      <td>1.340274</td>\n",
       "      <td>10.547945</td>\n",
       "      <td>15.253425</td>\n",
       "      <td>5.507671</td>\n",
       "    </tr>\n",
       "    <tr>\n",
       "      <th>4</th>\n",
       "      <td>1949</td>\n",
       "      <td>Würzburg</td>\n",
       "      <td>1.213425</td>\n",
       "      <td>10.140000</td>\n",
       "      <td>15.375890</td>\n",
       "      <td>5.305479</td>\n",
       "    </tr>\n",
       "    <tr>\n",
       "      <th>...</th>\n",
       "      <td>...</td>\n",
       "      <td>...</td>\n",
       "      <td>...</td>\n",
       "      <td>...</td>\n",
       "      <td>...</td>\n",
       "      <td>...</td>\n",
       "    </tr>\n",
       "    <tr>\n",
       "      <th>216</th>\n",
       "      <td>2020</td>\n",
       "      <td>Frankfurt</td>\n",
       "      <td>1.482240</td>\n",
       "      <td>12.130055</td>\n",
       "      <td>17.017760</td>\n",
       "      <td>7.001913</td>\n",
       "    </tr>\n",
       "    <tr>\n",
       "      <th>217</th>\n",
       "      <td>2020</td>\n",
       "      <td>Würzburg</td>\n",
       "      <td>1.350000</td>\n",
       "      <td>11.319399</td>\n",
       "      <td>16.210929</td>\n",
       "      <td>6.566667</td>\n",
       "    </tr>\n",
       "    <tr>\n",
       "      <th>218</th>\n",
       "      <td>2021</td>\n",
       "      <td>Bamberg</td>\n",
       "      <td>1.901370</td>\n",
       "      <td>9.083014</td>\n",
       "      <td>14.456164</td>\n",
       "      <td>3.824110</td>\n",
       "    </tr>\n",
       "    <tr>\n",
       "      <th>219</th>\n",
       "      <td>2021</td>\n",
       "      <td>Frankfurt</td>\n",
       "      <td>1.758904</td>\n",
       "      <td>10.579452</td>\n",
       "      <td>15.235342</td>\n",
       "      <td>5.906301</td>\n",
       "    </tr>\n",
       "    <tr>\n",
       "      <th>220</th>\n",
       "      <td>2021</td>\n",
       "      <td>Würzburg</td>\n",
       "      <td>1.872055</td>\n",
       "      <td>9.863562</td>\n",
       "      <td>14.586301</td>\n",
       "      <td>5.649315</td>\n",
       "    </tr>\n",
       "  </tbody>\n",
       "</table>\n",
       "<p>221 rows × 6 columns</p>\n",
       "</div>"
      ],
      "text/plain": [
       "parameter  year station_id  precipitation_height  mean_temp_c  max_temp_c   \n",
       "0          1947   Würzburg              1.382192     9.860822   19.430909  \\\n",
       "1          1948   Würzburg              1.558743     9.743169   14.770219   \n",
       "2          1949    Bamberg              1.171507     9.856164   15.007945   \n",
       "3          1949  Frankfurt              1.340274    10.547945   15.253425   \n",
       "4          1949   Würzburg              1.213425    10.140000   15.375890   \n",
       "..          ...        ...                   ...          ...         ...   \n",
       "216        2020  Frankfurt              1.482240    12.130055   17.017760   \n",
       "217        2020   Würzburg              1.350000    11.319399   16.210929   \n",
       "218        2021    Bamberg              1.901370     9.083014   14.456164   \n",
       "219        2021  Frankfurt              1.758904    10.579452   15.235342   \n",
       "220        2021   Würzburg              1.872055     9.863562   14.586301   \n",
       "\n",
       "parameter  min_temp_c  \n",
       "0            7.913818  \n",
       "1            5.327596  \n",
       "2            4.796986  \n",
       "3            5.507671  \n",
       "4            5.305479  \n",
       "..                ...  \n",
       "216          7.001913  \n",
       "217          6.566667  \n",
       "218          3.824110  \n",
       "219          5.906301  \n",
       "220          5.649315  \n",
       "\n",
       "[221 rows x 6 columns]"
      ]
     },
     "execution_count": 62,
     "metadata": {},
     "output_type": "execute_result"
    }
   ],
   "source": [
    "data_annual"
   ]
  },
  {
   "attachments": {},
   "cell_type": "markdown",
   "metadata": {},
   "source": [
    "## Basic Plotting\n",
    "\n",
    "Pandas provides some basic plotting functions, which allow use to make some quick visualisations of our dataset\n",
    "For example, we can draw a histogram of the average temperature"
   ]
  },
  {
   "cell_type": "code",
   "execution_count": 145,
   "metadata": {},
   "outputs": [
    {
     "ename": "SyntaxError",
     "evalue": "invalid syntax (2447441821.py, line 1)",
     "output_type": "error",
     "traceback": [
      "\u001b[1;36m  Cell \u001b[1;32mIn[145], line 1\u001b[1;36m\u001b[0m\n\u001b[1;33m    python -m pip install -U matplotlib\u001b[0m\n\u001b[1;37m              ^\u001b[0m\n\u001b[1;31mSyntaxError\u001b[0m\u001b[1;31m:\u001b[0m invalid syntax\n"
     ]
    }
   ],
   "source": []
  },
  {
   "cell_type": "code",
   "execution_count": 64,
   "metadata": {
    "tags": []
   },
   "outputs": [
    {
     "data": {
      "text/plain": [
       "array([[<AxesSubplot: title={'center': 'mean_temp_c'}>]], dtype=object)"
      ]
     },
     "execution_count": 64,
     "metadata": {},
     "output_type": "execute_result"
    },
    {
     "data": {
      "image/png": "[encoded data removed]",
      "text/plain": [
       "<Figure size 640x480 with 1 Axes>"
      ]
     },
     "metadata": {},
     "output_type": "display_data"
    }
   ],
   "source": [
    "import matplotlib as pt\n",
    "data_annual[[\"mean_temp_c\"]].hist()"
   ]
  },
  {
   "attachments": {},
   "cell_type": "markdown",
   "metadata": {},
   "source": [
    "Or create a lineplot showing the mean temperature in Würzburg"
   ]
  },
  {
   "cell_type": "code",
   "execution_count": 65,
   "metadata": {
    "tags": []
   },
   "outputs": [
    {
     "data": {
      "text/plain": [
       "<AxesSubplot: title={'center': 'Temperature in Würzburg'}, ylabel='Temperature in °C'>"
      ]
     },
     "execution_count": 65,
     "metadata": {},
     "output_type": "execute_result"
    },
    {
     "data": {
      "image/png": "[encoded data removed]",
      "text/plain": [
       "<Figure size 640x480 with 1 Axes>"
      ]
     },
     "metadata": {},
     "output_type": "display_data"
    }
   ],
   "source": [
    "temp_wue = data_annual[data_annual['station_id'] == 'Würzburg']\n",
    "temp_wue[\"mean_temp_c\"].plot(title='Temperature in Würzburg',ylabel = 'Temperature in °C')"
   ]
  },
  {
   "attachments": {},
   "cell_type": "markdown",
   "metadata": {},
   "source": [
    "## Writing to disk\n",
    "\n",
    "If we are finished with the manipulation of our dataset we can just write it back to disk. In this case we will save the data as CSV. "
   ]
  },
  {
   "cell_type": "code",
   "execution_count": 66,
   "metadata": {
    "tags": []
   },
   "outputs": [
    {
     "ename": "OSError",
     "evalue": "Cannot save file into a non-existent directory: '..\\Data\\nonspatial'",
     "output_type": "error",
     "traceback": [
      "\u001b[1;31m---------------------------------------------------------------------------\u001b[0m",
      "\u001b[1;31mOSError\u001b[0m                                   Traceback (most recent call last)",
      "Cell \u001b[1;32mIn[66], line 1\u001b[0m\n\u001b[1;32m----> 1\u001b[0m data_annual\u001b[39m.\u001b[39;49mto_csv(\u001b[39m\"\u001b[39;49m\u001b[39m../Data/nonspatial/dwd_annual.csv\u001b[39;49m\u001b[39m\"\u001b[39;49m, index\u001b[39m=\u001b[39;49m\u001b[39mFalse\u001b[39;49;00m)\n",
      "File \u001b[1;32m~\\AppData\\Local\\Packages\\PythonSoftwareFoundation.Python.3.11_qbz5n2kfra8p0\\LocalCache\\local-packages\\Python311\\site-packages\\pandas\\core\\generic.py:3772\u001b[0m, in \u001b[0;36mNDFrame.to_csv\u001b[1;34m(self, path_or_buf, sep, na_rep, float_format, columns, header, index, index_label, mode, encoding, compression, quoting, quotechar, lineterminator, chunksize, date_format, doublequote, escapechar, decimal, errors, storage_options)\u001b[0m\n\u001b[0;32m   3761\u001b[0m df \u001b[39m=\u001b[39m \u001b[39mself\u001b[39m \u001b[39mif\u001b[39;00m \u001b[39misinstance\u001b[39m(\u001b[39mself\u001b[39m, ABCDataFrame) \u001b[39melse\u001b[39;00m \u001b[39mself\u001b[39m\u001b[39m.\u001b[39mto_frame()\n\u001b[0;32m   3763\u001b[0m formatter \u001b[39m=\u001b[39m DataFrameFormatter(\n\u001b[0;32m   3764\u001b[0m     frame\u001b[39m=\u001b[39mdf,\n\u001b[0;32m   3765\u001b[0m     header\u001b[39m=\u001b[39mheader,\n\u001b[1;32m   (...)\u001b[0m\n\u001b[0;32m   3769\u001b[0m     decimal\u001b[39m=\u001b[39mdecimal,\n\u001b[0;32m   3770\u001b[0m )\n\u001b[1;32m-> 3772\u001b[0m \u001b[39mreturn\u001b[39;00m DataFrameRenderer(formatter)\u001b[39m.\u001b[39;49mto_csv(\n\u001b[0;32m   3773\u001b[0m     path_or_buf,\n\u001b[0;32m   3774\u001b[0m     lineterminator\u001b[39m=\u001b[39;49mlineterminator,\n\u001b[0;32m   3775\u001b[0m     sep\u001b[39m=\u001b[39;49msep,\n\u001b[0;32m   3776\u001b[0m     encoding\u001b[39m=\u001b[39;49mencoding,\n\u001b[0;32m   3777\u001b[0m     errors\u001b[39m=\u001b[39;49merrors,\n\u001b[0;32m   3778\u001b[0m     compression\u001b[39m=\u001b[39;49mcompression,\n\u001b[0;32m   3779\u001b[0m     quoting\u001b[39m=\u001b[39;49mquoting,\n\u001b[0;32m   3780\u001b[0m     columns\u001b[39m=\u001b[39;49mcolumns,\n\u001b[0;32m   3781\u001b[0m     index_label\u001b[39m=\u001b[39;49mindex_label,\n\u001b[0;32m   3782\u001b[0m     mode\u001b[39m=\u001b[39;49mmode,\n\u001b[0;32m   3783\u001b[0m     chunksize\u001b[39m=\u001b[39;49mchunksize,\n\u001b[0;32m   3784\u001b[0m     quotechar\u001b[39m=\u001b[39;49mquotechar,\n\u001b[0;32m   3785\u001b[0m     date_format\u001b[39m=\u001b[39;49mdate_format,\n\u001b[0;32m   3786\u001b[0m     doublequote\u001b[39m=\u001b[39;49mdoublequote,\n\u001b[0;32m   3787\u001b[0m     escapechar\u001b[39m=\u001b[39;49mescapechar,\n\u001b[0;32m   3788\u001b[0m     storage_options\u001b[39m=\u001b[39;49mstorage_options,\n\u001b[0;32m   3789\u001b[0m )\n",
      "File \u001b[1;32m~\\AppData\\Local\\Packages\\PythonSoftwareFoundation.Python.3.11_qbz5n2kfra8p0\\LocalCache\\local-packages\\Python311\\site-packages\\pandas\\io\\formats\\format.py:1186\u001b[0m, in \u001b[0;36mDataFrameRenderer.to_csv\u001b[1;34m(self, path_or_buf, encoding, sep, columns, index_label, mode, compression, quoting, quotechar, lineterminator, chunksize, date_format, doublequote, escapechar, errors, storage_options)\u001b[0m\n\u001b[0;32m   1165\u001b[0m     created_buffer \u001b[39m=\u001b[39m \u001b[39mFalse\u001b[39;00m\n\u001b[0;32m   1167\u001b[0m csv_formatter \u001b[39m=\u001b[39m CSVFormatter(\n\u001b[0;32m   1168\u001b[0m     path_or_buf\u001b[39m=\u001b[39mpath_or_buf,\n\u001b[0;32m   1169\u001b[0m     lineterminator\u001b[39m=\u001b[39mlineterminator,\n\u001b[1;32m   (...)\u001b[0m\n\u001b[0;32m   1184\u001b[0m     formatter\u001b[39m=\u001b[39m\u001b[39mself\u001b[39m\u001b[39m.\u001b[39mfmt,\n\u001b[0;32m   1185\u001b[0m )\n\u001b[1;32m-> 1186\u001b[0m csv_formatter\u001b[39m.\u001b[39;49msave()\n\u001b[0;32m   1188\u001b[0m \u001b[39mif\u001b[39;00m created_buffer:\n\u001b[0;32m   1189\u001b[0m     \u001b[39massert\u001b[39;00m \u001b[39misinstance\u001b[39m(path_or_buf, StringIO)\n",
      "File \u001b[1;32m~\\AppData\\Local\\Packages\\PythonSoftwareFoundation.Python.3.11_qbz5n2kfra8p0\\LocalCache\\local-packages\\Python311\\site-packages\\pandas\\io\\formats\\csvs.py:240\u001b[0m, in \u001b[0;36mCSVFormatter.save\u001b[1;34m(self)\u001b[0m\n\u001b[0;32m    236\u001b[0m \u001b[39m\u001b[39m\u001b[39m\"\"\"\u001b[39;00m\n\u001b[0;32m    237\u001b[0m \u001b[39mCreate the writer & save.\u001b[39;00m\n\u001b[0;32m    238\u001b[0m \u001b[39m\"\"\"\u001b[39;00m\n\u001b[0;32m    239\u001b[0m \u001b[39m# apply compression and byte/text conversion\u001b[39;00m\n\u001b[1;32m--> 240\u001b[0m \u001b[39mwith\u001b[39;00m get_handle(\n\u001b[0;32m    241\u001b[0m     \u001b[39mself\u001b[39;49m\u001b[39m.\u001b[39;49mfilepath_or_buffer,\n\u001b[0;32m    242\u001b[0m     \u001b[39mself\u001b[39;49m\u001b[39m.\u001b[39;49mmode,\n\u001b[0;32m    243\u001b[0m     encoding\u001b[39m=\u001b[39;49m\u001b[39mself\u001b[39;49m\u001b[39m.\u001b[39;49mencoding,\n\u001b[0;32m    244\u001b[0m     errors\u001b[39m=\u001b[39;49m\u001b[39mself\u001b[39;49m\u001b[39m.\u001b[39;49merrors,\n\u001b[0;32m    245\u001b[0m     compression\u001b[39m=\u001b[39;49m\u001b[39mself\u001b[39;49m\u001b[39m.\u001b[39;49mcompression,\n\u001b[0;32m    246\u001b[0m     storage_options\u001b[39m=\u001b[39;49m\u001b[39mself\u001b[39;49m\u001b[39m.\u001b[39;49mstorage_options,\n\u001b[0;32m    247\u001b[0m ) \u001b[39mas\u001b[39;00m handles:\n\u001b[0;32m    248\u001b[0m     \u001b[39m# Note: self.encoding is irrelevant here\u001b[39;00m\n\u001b[0;32m    249\u001b[0m     \u001b[39mself\u001b[39m\u001b[39m.\u001b[39mwriter \u001b[39m=\u001b[39m csvlib\u001b[39m.\u001b[39mwriter(\n\u001b[0;32m    250\u001b[0m         handles\u001b[39m.\u001b[39mhandle,\n\u001b[0;32m    251\u001b[0m         lineterminator\u001b[39m=\u001b[39m\u001b[39mself\u001b[39m\u001b[39m.\u001b[39mlineterminator,\n\u001b[1;32m   (...)\u001b[0m\n\u001b[0;32m    256\u001b[0m         quotechar\u001b[39m=\u001b[39m\u001b[39mself\u001b[39m\u001b[39m.\u001b[39mquotechar,\n\u001b[0;32m    257\u001b[0m     )\n\u001b[0;32m    259\u001b[0m     \u001b[39mself\u001b[39m\u001b[39m.\u001b[39m_save()\n",
      "File \u001b[1;32m~\\AppData\\Local\\Packages\\PythonSoftwareFoundation.Python.3.11_qbz5n2kfra8p0\\LocalCache\\local-packages\\Python311\\site-packages\\pandas\\io\\common.py:737\u001b[0m, in \u001b[0;36mget_handle\u001b[1;34m(path_or_buf, mode, encoding, compression, memory_map, is_text, errors, storage_options)\u001b[0m\n\u001b[0;32m    735\u001b[0m \u001b[39m# Only for write methods\u001b[39;00m\n\u001b[0;32m    736\u001b[0m \u001b[39mif\u001b[39;00m \u001b[39m\"\u001b[39m\u001b[39mr\u001b[39m\u001b[39m\"\u001b[39m \u001b[39mnot\u001b[39;00m \u001b[39min\u001b[39;00m mode \u001b[39mand\u001b[39;00m is_path:\n\u001b[1;32m--> 737\u001b[0m     check_parent_directory(\u001b[39mstr\u001b[39;49m(handle))\n\u001b[0;32m    739\u001b[0m \u001b[39mif\u001b[39;00m compression:\n\u001b[0;32m    740\u001b[0m     \u001b[39mif\u001b[39;00m compression \u001b[39m!=\u001b[39m \u001b[39m\"\u001b[39m\u001b[39mzstd\u001b[39m\u001b[39m\"\u001b[39m:\n\u001b[0;32m    741\u001b[0m         \u001b[39m# compression libraries do not like an explicit text-mode\u001b[39;00m\n",
      "File \u001b[1;32m~\\AppData\\Local\\Packages\\PythonSoftwareFoundation.Python.3.11_qbz5n2kfra8p0\\LocalCache\\local-packages\\Python311\\site-packages\\pandas\\io\\common.py:600\u001b[0m, in \u001b[0;36mcheck_parent_directory\u001b[1;34m(path)\u001b[0m\n\u001b[0;32m    598\u001b[0m parent \u001b[39m=\u001b[39m Path(path)\u001b[39m.\u001b[39mparent\n\u001b[0;32m    599\u001b[0m \u001b[39mif\u001b[39;00m \u001b[39mnot\u001b[39;00m parent\u001b[39m.\u001b[39mis_dir():\n\u001b[1;32m--> 600\u001b[0m     \u001b[39mraise\u001b[39;00m \u001b[39mOSError\u001b[39;00m(\u001b[39mrf\u001b[39m\u001b[39m\"\u001b[39m\u001b[39mCannot save file into a non-existent directory: \u001b[39m\u001b[39m'\u001b[39m\u001b[39m{\u001b[39;00mparent\u001b[39m}\u001b[39;00m\u001b[39m'\u001b[39m\u001b[39m\"\u001b[39m)\n",
      "\u001b[1;31mOSError\u001b[0m: Cannot save file into a non-existent directory: '..\\Data\\nonspatial'"
     ]
    }
   ],
   "source": [
    "data_annual.to_csv(\"../Data/nonspatial/dwd_annual.csv\", index=False)"
   ]
  },
  {
   "attachments": {},
   "cell_type": "markdown",
   "metadata": {},
   "source": [
    "### Additional: Method Chaining\n",
    "\n",
    "The nice thing with pandas is that we don't to apply all the operations one by one. We can just chain our commands"
   ]
  },
  {
   "cell_type": "code",
   "execution_count": 68,
   "metadata": {
    "tags": []
   },
   "outputs": [
    {
     "data": {
      "text/plain": [
       "<AxesSubplot: xlabel='datetime'>"
      ]
     },
     "execution_count": 68,
     "metadata": {},
     "output_type": "execute_result"
    },
    {
     "data": {
      "image/png": "[encoded data removed]",
      "text/plain": [
       "<Figure size 640x480 with 1 Axes>"
      ]
     },
     "metadata": {},
     "output_type": "display_data"
    }
   ],
   "source": [
    "import pandas as pd\n",
    "\n",
    "new_values = {5705:'Würzburg',282:'Bamberg',1420:'Frankfurt'}\n",
    "\n",
    "temp = (pd.read_csv('station_data.csv')\n",
    "  .replace({\"station_id\": new_values})\n",
    "  .query(\"station_id == 'Würzburg' & parameter == 'temperature_air_mean_200'\")\n",
    "  .assign(datetime=lambda x: pd.to_datetime(x['date']))   \n",
    "  .assign(mean_temp_c=lambda x: x.value - 273.15 )     \n",
    "  .set_index('datetime')\n",
    "  .groupby(pd.Grouper(freq='M')).mean(numeric_only=True)      \n",
    " )\n",
    "\n",
    "temp['mean_temp_c'].plot()"
   ]
  },
  {
   "attachments": {},
   "cell_type": "markdown",
   "metadata": {
    "tags": []
   },
   "source": [
    "## Interactive data analysis with D-Tale"
   ]
  },
  {
   "attachments": {},
   "cell_type": "markdown",
   "metadata": {},
   "source": [
    "D-Tale is the combination of a Flask back-end and a React front-end to bring you an easy way to view & analyze Pandas data structures. It integrates seamlessly with ipython notebooks & python/ipython terminals. Currently this tool supports such Pandas objects as DataFrame, Series, MultiIndex, DatetimeIndex & RangeIndex."
   ]
  },
  {
   "cell_type": "code",
   "execution_count": 2,
   "metadata": {},
   "outputs": [
    {
     "name": "stdout",
     "output_type": "stream",
     "text": [
      "Collecting dtale\n",
      "  Using cached dtale-2.16.0-py2.py3-none-any.whl (14.0 MB)\n",
      "Requirement already satisfied: dash-colorscales in c:\\users\\subarno shankar\\appdata\\local\\packages\\pythonsoftwarefoundation.python.3.11_qbz5n2kfra8p0\\localcache\\local-packages\\python311\\site-packages (from dtale) (0.0.4)\n",
      "Collecting dash-daq (from dtale)\n",
      "  Using cached dash_daq-0.5.0-py3-none-any.whl\n",
      "Collecting Flask-Compress (from dtale)\n",
      "  Using cached Flask_Compress-1.13-py3-none-any.whl (7.9 kB)\n",
      "Requirement already satisfied: future>=0.14.0 in c:\\users\\subarno shankar\\appdata\\local\\packages\\pythonsoftwarefoundation.python.3.11_qbz5n2kfra8p0\\localcache\\local-packages\\python311\\site-packages (from dtale) (0.18.3)\n",
      "Requirement already satisfied: kaleido in c:\\users\\subarno shankar\\appdata\\local\\packages\\pythonsoftwarefoundation.python.3.11_qbz5n2kfra8p0\\localcache\\local-packages\\python311\\site-packages (from dtale) (0.2.1)\n",
      "Collecting missingno<=0.4.2 (from dtale)\n",
      "  Using cached missingno-0.4.2-py3-none-any.whl (9.7 kB)\n",
      "Requirement already satisfied: pandas in c:\\users\\subarno shankar\\appdata\\local\\packages\\pythonsoftwarefoundation.python.3.11_qbz5n2kfra8p0\\localcache\\local-packages\\python311\\site-packages (from dtale) (2.0.1)\n",
      "Requirement already satisfied: squarify in c:\\users\\subarno shankar\\appdata\\local\\packages\\pythonsoftwarefoundation.python.3.11_qbz5n2kfra8p0\\localcache\\local-packages\\python311\\site-packages (from dtale) (0.4.3)\n",
      "Requirement already satisfied: strsimpy in c:\\users\\subarno shankar\\appdata\\local\\packages\\pythonsoftwarefoundation.python.3.11_qbz5n2kfra8p0\\localcache\\local-packages\\python311\\site-packages (from dtale) (0.2.1)\n",
      "Requirement already satisfied: six in c:\\users\\subarno shankar\\appdata\\local\\packages\\pythonsoftwarefoundation.python.3.11_qbz5n2kfra8p0\\localcache\\local-packages\\python311\\site-packages (from dtale) (1.16.0)\n",
      "Requirement already satisfied: xlrd in c:\\users\\subarno shankar\\appdata\\local\\packages\\pythonsoftwarefoundation.python.3.11_qbz5n2kfra8p0\\localcache\\local-packages\\python311\\site-packages (from dtale) (2.0.1)\n",
      "Requirement already satisfied: beautifulsoup4 in c:\\users\\subarno shankar\\appdata\\local\\packages\\pythonsoftwarefoundation.python.3.11_qbz5n2kfra8p0\\localcache\\local-packages\\python311\\site-packages (from dtale) (4.12.2)\n",
      "Requirement already satisfied: certifi in c:\\users\\subarno shankar\\appdata\\local\\packages\\pythonsoftwarefoundation.python.3.11_qbz5n2kfra8p0\\localcache\\local-packages\\python311\\site-packages (from dtale) (2022.12.7)\n",
      "Requirement already satisfied: cycler in c:\\users\\subarno shankar\\appdata\\local\\packages\\pythonsoftwarefoundation.python.3.11_qbz5n2kfra8p0\\localcache\\local-packages\\python311\\site-packages (from dtale) (0.11.0)\n",
      "Collecting flask-ngrok (from dtale)\n",
      "  Using cached flask_ngrok-0.0.25-py3-none-any.whl (3.1 kB)\n",
      "Requirement already satisfied: lz4 in c:\\users\\subarno shankar\\appdata\\local\\packages\\pythonsoftwarefoundation.python.3.11_qbz5n2kfra8p0\\localcache\\local-packages\\python311\\site-packages (from dtale) (4.3.2)\n",
      "Collecting dash-bootstrap-components<=1.3.1 (from dtale)\n",
      "  Using cached dash_bootstrap_components-1.3.1-py3-none-any.whl (219 kB)\n",
      "Collecting seaborn (from dtale)\n",
      "  Using cached seaborn-0.12.2-py3-none-any.whl (293 kB)\n",
      "Requirement already satisfied: networkx in c:\\users\\subarno shankar\\appdata\\local\\packages\\pythonsoftwarefoundation.python.3.11_qbz5n2kfra8p0\\localcache\\local-packages\\python311\\site-packages (from dtale) (3.1)\n",
      "Requirement already satisfied: scikit-learn in c:\\users\\subarno shankar\\appdata\\local\\packages\\pythonsoftwarefoundation.python.3.11_qbz5n2kfra8p0\\localcache\\local-packages\\python311\\site-packages (from dtale) (1.2.2)\n",
      "Collecting statsmodels (from dtale)\n",
      "  Using cached statsmodels-0.14.0-cp311-cp311-win_amd64.whl (9.2 MB)\n",
      "Collecting matplotlib<=3.6.3 (from dtale)\n",
      "  Using cached matplotlib-3.6.3-cp311-cp311-win_amd64.whl (7.2 MB)\n",
      "Requirement already satisfied: numpy in c:\\users\\subarno shankar\\appdata\\local\\packages\\pythonsoftwarefoundation.python.3.11_qbz5n2kfra8p0\\localcache\\local-packages\\python311\\site-packages (from dtale) (1.24.3)\n",
      "Requirement already satisfied: openpyxl!=3.2.0b1 in c:\\users\\subarno shankar\\appdata\\local\\packages\\pythonsoftwarefoundation.python.3.11_qbz5n2kfra8p0\\localcache\\local-packages\\python311\\site-packages (from dtale) (3.1.2)\n",
      "Collecting xarray (from dtale)\n",
      "  Using cached xarray-2023.5.0-py3-none-any.whl (994 kB)\n",
      "Collecting dash (from dtale)\n",
      "  Using cached dash-2.10.1-py3-none-any.whl (10.3 MB)\n",
      "Requirement already satisfied: et-xmlfile in c:\\users\\subarno shankar\\appdata\\local\\packages\\pythonsoftwarefoundation.python.3.11_qbz5n2kfra8p0\\localcache\\local-packages\\python311\\site-packages (from dtale) (1.1.0)\n",
      "Requirement already satisfied: plotly in c:\\users\\subarno shankar\\appdata\\local\\packages\\pythonsoftwarefoundation.python.3.11_qbz5n2kfra8p0\\localcache\\local-packages\\python311\\site-packages (from dtale) (5.14.1)\n",
      "Requirement already satisfied: itsdangerous in c:\\users\\subarno shankar\\appdata\\local\\packages\\pythonsoftwarefoundation.python.3.11_qbz5n2kfra8p0\\localcache\\local-packages\\python311\\site-packages (from dtale) (2.1.2)\n",
      "Requirement already satisfied: requests in c:\\users\\subarno shankar\\appdata\\local\\packages\\pythonsoftwarefoundation.python.3.11_qbz5n2kfra8p0\\localcache\\local-packages\\python311\\site-packages (from dtale) (2.28.2)\n",
      "Collecting Flask (from dtale)\n",
      "  Using cached Flask-2.3.2-py3-none-any.whl (96 kB)\n",
      "Requirement already satisfied: scipy<=1.9.3 in c:\\users\\subarno shankar\\appdata\\local\\packages\\pythonsoftwarefoundation.python.3.11_qbz5n2kfra8p0\\localcache\\local-packages\\python311\\site-packages (from dtale) (1.9.3)\n",
      "  Using cached Flask-2.2.3-py3-none-any.whl (101 kB)\n",
      "Requirement already satisfied: Werkzeug<=2.2.3 in c:\\users\\subarno shankar\\appdata\\local\\packages\\pythonsoftwarefoundation.python.3.11_qbz5n2kfra8p0\\localcache\\local-packages\\python311\\site-packages (from dash->dtale) (2.2.3)\n",
      "Requirement already satisfied: dash-html-components==2.0.0 in c:\\users\\subarno shankar\\appdata\\local\\packages\\pythonsoftwarefoundation.python.3.11_qbz5n2kfra8p0\\localcache\\local-packages\\python311\\site-packages (from dash->dtale) (2.0.0)\n",
      "Requirement already satisfied: dash-core-components==2.0.0 in c:\\users\\subarno shankar\\appdata\\local\\packages\\pythonsoftwarefoundation.python.3.11_qbz5n2kfra8p0\\localcache\\local-packages\\python311\\site-packages (from dash->dtale) (2.0.0)\n",
      "Requirement already satisfied: dash-table==5.0.0 in c:\\users\\subarno shankar\\appdata\\local\\packages\\pythonsoftwarefoundation.python.3.11_qbz5n2kfra8p0\\localcache\\local-packages\\python311\\site-packages (from dash->dtale) (5.0.0)\n",
      "Requirement already satisfied: Jinja2>=3.0 in c:\\users\\subarno shankar\\appdata\\local\\packages\\pythonsoftwarefoundation.python.3.11_qbz5n2kfra8p0\\localcache\\local-packages\\python311\\site-packages (from Flask->dtale) (3.1.2)\n",
      "Requirement already satisfied: click>=8.0 in c:\\users\\subarno shankar\\appdata\\local\\packages\\pythonsoftwarefoundation.python.3.11_qbz5n2kfra8p0\\localcache\\local-packages\\python311\\site-packages (from Flask->dtale) (8.1.3)\n",
      "Requirement already satisfied: contourpy>=1.0.1 in c:\\users\\subarno shankar\\appdata\\local\\packages\\pythonsoftwarefoundation.python.3.11_qbz5n2kfra8p0\\localcache\\local-packages\\python311\\site-packages (from matplotlib<=3.6.3->dtale) (1.0.7)\n",
      "Requirement already satisfied: fonttools>=4.22.0 in c:\\users\\subarno shankar\\appdata\\local\\packages\\pythonsoftwarefoundation.python.3.11_qbz5n2kfra8p0\\localcache\\local-packages\\python311\\site-packages (from matplotlib<=3.6.3->dtale) (4.39.4)\n",
      "Requirement already satisfied: kiwisolver>=1.0.1 in c:\\users\\subarno shankar\\appdata\\local\\packages\\pythonsoftwarefoundation.python.3.11_qbz5n2kfra8p0\\localcache\\local-packages\\python311\\site-packages (from matplotlib<=3.6.3->dtale) (1.4.4)\n",
      "Requirement already satisfied: packaging>=20.0 in c:\\users\\subarno shankar\\appdata\\local\\packages\\pythonsoftwarefoundation.python.3.11_qbz5n2kfra8p0\\localcache\\local-packages\\python311\\site-packages (from matplotlib<=3.6.3->dtale) (23.1)\n",
      "Requirement already satisfied: pillow>=6.2.0 in c:\\users\\subarno shankar\\appdata\\local\\packages\\pythonsoftwarefoundation.python.3.11_qbz5n2kfra8p0\\localcache\\local-packages\\python311\\site-packages (from matplotlib<=3.6.3->dtale) (9.5.0)\n",
      "Requirement already satisfied: pyparsing>=2.2.1 in c:\\users\\subarno shankar\\appdata\\local\\packages\\pythonsoftwarefoundation.python.3.11_qbz5n2kfra8p0\\localcache\\local-packages\\python311\\site-packages (from matplotlib<=3.6.3->dtale) (3.0.9)\n",
      "Requirement already satisfied: python-dateutil>=2.7 in c:\\users\\subarno shankar\\appdata\\local\\packages\\pythonsoftwarefoundation.python.3.11_qbz5n2kfra8p0\\localcache\\local-packages\\python311\\site-packages (from matplotlib<=3.6.3->dtale) (2.8.2)\n",
      "Requirement already satisfied: tenacity>=6.2.0 in c:\\users\\subarno shankar\\appdata\\local\\packages\\pythonsoftwarefoundation.python.3.11_qbz5n2kfra8p0\\localcache\\local-packages\\python311\\site-packages (from plotly->dtale) (8.2.2)\n",
      "Requirement already satisfied: soupsieve>1.2 in c:\\users\\subarno shankar\\appdata\\local\\packages\\pythonsoftwarefoundation.python.3.11_qbz5n2kfra8p0\\localcache\\local-packages\\python311\\site-packages (from beautifulsoup4->dtale) (2.4.1)\n",
      "Requirement already satisfied: brotli in c:\\users\\subarno shankar\\appdata\\local\\packages\\pythonsoftwarefoundation.python.3.11_qbz5n2kfra8p0\\localcache\\local-packages\\python311\\site-packages (from Flask-Compress->dtale) (1.0.9)\n",
      "Requirement already satisfied: pytz>=2020.1 in c:\\users\\subarno shankar\\appdata\\local\\packages\\pythonsoftwarefoundation.python.3.11_qbz5n2kfra8p0\\localcache\\local-packages\\python311\\site-packages (from pandas->dtale) (2023.3)\n",
      "Requirement already satisfied: tzdata>=2022.1 in c:\\users\\subarno shankar\\appdata\\local\\packages\\pythonsoftwarefoundation.python.3.11_qbz5n2kfra8p0\\localcache\\local-packages\\python311\\site-packages (from pandas->dtale) (2023.3)\n",
      "Requirement already satisfied: charset-normalizer<4,>=2 in c:\\users\\subarno shankar\\appdata\\local\\packages\\pythonsoftwarefoundation.python.3.11_qbz5n2kfra8p0\\localcache\\local-packages\\python311\\site-packages (from requests->dtale) (3.1.0)\n",
      "Requirement already satisfied: idna<4,>=2.5 in c:\\users\\subarno shankar\\appdata\\local\\packages\\pythonsoftwarefoundation.python.3.11_qbz5n2kfra8p0\\localcache\\local-packages\\python311\\site-packages (from requests->dtale) (3.4)\n",
      "Requirement already satisfied: urllib3<1.27,>=1.21.1 in c:\\users\\subarno shankar\\appdata\\local\\packages\\pythonsoftwarefoundation.python.3.11_qbz5n2kfra8p0\\localcache\\local-packages\\python311\\site-packages (from requests->dtale) (1.26.15)\n",
      "Requirement already satisfied: joblib>=1.1.1 in c:\\users\\subarno shankar\\appdata\\local\\packages\\pythonsoftwarefoundation.python.3.11_qbz5n2kfra8p0\\localcache\\local-packages\\python311\\site-packages (from scikit-learn->dtale) (1.2.0)\n",
      "Requirement already satisfied: threadpoolctl>=2.0.0 in c:\\users\\subarno shankar\\appdata\\local\\packages\\pythonsoftwarefoundation.python.3.11_qbz5n2kfra8p0\\localcache\\local-packages\\python311\\site-packages (from scikit-learn->dtale) (3.1.0)\n",
      "Requirement already satisfied: patsy>=0.5.2 in c:\\users\\subarno shankar\\appdata\\local\\packages\\pythonsoftwarefoundation.python.3.11_qbz5n2kfra8p0\\localcache\\local-packages\\python311\\site-packages (from statsmodels->dtale) (0.5.3)\n",
      "Requirement already satisfied: colorama in c:\\users\\subarno shankar\\appdata\\local\\packages\\pythonsoftwarefoundation.python.3.11_qbz5n2kfra8p0\\localcache\\local-packages\\python311\\site-packages (from click>=8.0->Flask->dtale) (0.4.6)\n",
      "Requirement already satisfied: MarkupSafe>=2.0 in c:\\users\\subarno shankar\\appdata\\local\\packages\\pythonsoftwarefoundation.python.3.11_qbz5n2kfra8p0\\localcache\\local-packages\\python311\\site-packages (from Jinja2>=3.0->Flask->dtale) (2.1.2)\n",
      "Installing collected packages: matplotlib, Flask, xarray, statsmodels, seaborn, flask-ngrok, Flask-Compress, dash, missingno, dash-daq, dash-bootstrap-components, dtale\n",
      "Successfully installed Flask-2.2.3 Flask-Compress-1.13 dash-2.10.1 dash-bootstrap-components-1.3.1 dash-daq-0.5.0 dtale-2.16.0 flask-ngrok-0.0.25 matplotlib-3.6.3 missingno-0.4.2 seaborn-0.12.2 statsmodels-0.14.0 xarray-2023.5.0\n"
     ]
    }
   ],
   "source": []
  },
  {
   "cell_type": "code",
   "execution_count": 69,
   "metadata": {
    "tags": []
   },
   "outputs": [
    {
     "data": {
      "text/html": [
       "\n",
       "        <iframe\n",
       "            width=\"100%\"\n",
       "            height=\"475\"\n",
       "            src=\"http://Subarno:40000/dtale/iframe/1\"\n",
       "            frameborder=\"0\"\n",
       "            allowfullscreen\n",
       "            \n",
       "        ></iframe>\n",
       "        "
      ],
      "text/plain": [
       "<IPython.lib.display.IFrame at 0x275fbd4fd50>"
      ]
     },
     "metadata": {},
     "output_type": "display_data"
    },
    {
     "data": {
      "text/plain": []
     },
     "execution_count": 69,
     "metadata": {},
     "output_type": "execute_result"
    }
   ],
   "source": [
    "\n",
    "import dtale\n",
    "\n",
    "\n",
    "data_annual['date'] = pd.to_datetime(data_annual['year'])\n",
    "dtale.show(data_annual)\n",
    "\n",
    "\n",
    "adding a new file"
   ]
  },
  {
   "attachments": {},
   "cell_type": "markdown",
   "metadata": {},
   "source": [
    "## AI Pandas"
   ]
  },
  {
   "attachments": {},
   "cell_type": "markdown",
   "metadata": {},
   "source": [
    "Pandas AI is a Python library that adds generative artificial intelligence capabilities to Pandas, the popular data analysis and manipulation tool. It is designed to be used in conjunction with Pandas, and is not a replacement for it"
   ]
  },
  {
   "cell_type": "code",
   "execution_count": 73,
   "metadata": {
    "tags": []
   },
   "outputs": [
    {
     "name": "stdout",
     "output_type": "stream",
     "text": [
      "Collecting pandasai\n",
      "  Using cached pandasai-0.3.0-py3-none-any.whl (29 kB)\n",
      "Requirement already satisfied: astor<0.9.0,>=0.8.1 in c:\\users\\subarno shankar\\appdata\\local\\packages\\pythonsoftwarefoundation.python.3.11_qbz5n2kfra8p0\\localcache\\local-packages\\python311\\site-packages (from pandasai) (0.8.1)\n",
      "Collecting ipython<9.0.0,>=8.13.1 (from pandasai)\n",
      "  Using cached ipython-8.13.2-py3-none-any.whl (797 kB)\n",
      "Collecting matplotlib<4.0.0,>=3.7.1 (from pandasai)\n",
      "  Using cached matplotlib-3.7.1-cp311-cp311-win_amd64.whl (7.6 MB)\n",
      "Collecting openai<0.28.0,>=0.27.5 (from pandasai)\n",
      "  Using cached openai-0.27.7-py3-none-any.whl (71 kB)\n",
      "Requirement already satisfied: pandas<3.0.0,>=2.0.1 in c:\\users\\subarno shankar\\appdata\\local\\packages\\pythonsoftwarefoundation.python.3.11_qbz5n2kfra8p0\\localcache\\local-packages\\python311\\site-packages (from pandasai) (2.0.1)\n",
      "Requirement already satisfied: python-dotenv<2.0.0,>=1.0.0 in c:\\users\\subarno shankar\\appdata\\local\\packages\\pythonsoftwarefoundation.python.3.11_qbz5n2kfra8p0\\localcache\\local-packages\\python311\\site-packages (from pandasai) (1.0.0)\n",
      "Requirement already satisfied: backcall in c:\\users\\subarno shankar\\appdata\\local\\packages\\pythonsoftwarefoundation.python.3.11_qbz5n2kfra8p0\\localcache\\local-packages\\python311\\site-packages (from ipython<9.0.0,>=8.13.1->pandasai) (0.2.0)\n",
      "Requirement already satisfied: decorator in c:\\users\\subarno shankar\\appdata\\local\\packages\\pythonsoftwarefoundation.python.3.11_qbz5n2kfra8p0\\localcache\\local-packages\\python311\\site-packages (from ipython<9.0.0,>=8.13.1->pandasai) (5.1.1)\n",
      "Requirement already satisfied: jedi>=0.16 in c:\\users\\subarno shankar\\appdata\\local\\packages\\pythonsoftwarefoundation.python.3.11_qbz5n2kfra8p0\\localcache\\local-packages\\python311\\site-packages (from ipython<9.0.0,>=8.13.1->pandasai) (0.18.2)\n",
      "Requirement already satisfied: matplotlib-inline in c:\\users\\subarno shankar\\appdata\\local\\packages\\pythonsoftwarefoundation.python.3.11_qbz5n2kfra8p0\\localcache\\local-packages\\python311\\site-packages (from ipython<9.0.0,>=8.13.1->pandasai) (0.1.6)\n",
      "Requirement already satisfied: pickleshare in c:\\users\\subarno shankar\\appdata\\local\\packages\\pythonsoftwarefoundation.python.3.11_qbz5n2kfra8p0\\localcache\\local-packages\\python311\\site-packages (from ipython<9.0.0,>=8.13.1->pandasai) (0.7.5)\n",
      "Requirement already satisfied: prompt-toolkit!=3.0.37,<3.1.0,>=3.0.30 in c:\\users\\subarno shankar\\appdata\\local\\packages\\pythonsoftwarefoundation.python.3.11_qbz5n2kfra8p0\\localcache\\local-packages\\python311\\site-packages (from ipython<9.0.0,>=8.13.1->pandasai) (3.0.38)\n",
      "Requirement already satisfied: pygments>=2.4.0 in c:\\users\\subarno shankar\\appdata\\local\\packages\\pythonsoftwarefoundation.python.3.11_qbz5n2kfra8p0\\localcache\\local-packages\\python311\\site-packages (from ipython<9.0.0,>=8.13.1->pandasai) (2.15.1)\n",
      "Requirement already satisfied: stack-data in c:\\users\\subarno shankar\\appdata\\local\\packages\\pythonsoftwarefoundation.python.3.11_qbz5n2kfra8p0\\localcache\\local-packages\\python311\\site-packages (from ipython<9.0.0,>=8.13.1->pandasai) (0.6.2)\n",
      "Requirement already satisfied: traitlets>=5 in c:\\users\\subarno shankar\\appdata\\local\\packages\\pythonsoftwarefoundation.python.3.11_qbz5n2kfra8p0\\localcache\\local-packages\\python311\\site-packages (from ipython<9.0.0,>=8.13.1->pandasai) (5.9.0)\n",
      "Requirement already satisfied: colorama in c:\\users\\subarno shankar\\appdata\\local\\packages\\pythonsoftwarefoundation.python.3.11_qbz5n2kfra8p0\\localcache\\local-packages\\python311\\site-packages (from ipython<9.0.0,>=8.13.1->pandasai) (0.4.6)\n",
      "Requirement already satisfied: contourpy>=1.0.1 in c:\\users\\subarno shankar\\appdata\\local\\packages\\pythonsoftwarefoundation.python.3.11_qbz5n2kfra8p0\\localcache\\local-packages\\python311\\site-packages (from matplotlib<4.0.0,>=3.7.1->pandasai) (1.0.7)\n",
      "Requirement already satisfied: cycler>=0.10 in c:\\users\\subarno shankar\\appdata\\local\\packages\\pythonsoftwarefoundation.python.3.11_qbz5n2kfra8p0\\localcache\\local-packages\\python311\\site-packages (from matplotlib<4.0.0,>=3.7.1->pandasai) (0.11.0)\n",
      "Requirement already satisfied: fonttools>=4.22.0 in c:\\users\\subarno shankar\\appdata\\local\\packages\\pythonsoftwarefoundation.python.3.11_qbz5n2kfra8p0\\localcache\\local-packages\\python311\\site-packages (from matplotlib<4.0.0,>=3.7.1->pandasai) (4.39.4)\n",
      "Requirement already satisfied: kiwisolver>=1.0.1 in c:\\users\\subarno shankar\\appdata\\local\\packages\\pythonsoftwarefoundation.python.3.11_qbz5n2kfra8p0\\localcache\\local-packages\\python311\\site-packages (from matplotlib<4.0.0,>=3.7.1->pandasai) (1.4.4)\n",
      "Requirement already satisfied: numpy>=1.20 in c:\\users\\subarno shankar\\appdata\\local\\packages\\pythonsoftwarefoundation.python.3.11_qbz5n2kfra8p0\\localcache\\local-packages\\python311\\site-packages (from matplotlib<4.0.0,>=3.7.1->pandasai) (1.24.3)\n",
      "Requirement already satisfied: packaging>=20.0 in c:\\users\\subarno shankar\\appdata\\local\\packages\\pythonsoftwarefoundation.python.3.11_qbz5n2kfra8p0\\localcache\\local-packages\\python311\\site-packages (from matplotlib<4.0.0,>=3.7.1->pandasai) (23.1)\n",
      "Requirement already satisfied: pillow>=6.2.0 in c:\\users\\subarno shankar\\appdata\\local\\packages\\pythonsoftwarefoundation.python.3.11_qbz5n2kfra8p0\\localcache\\local-packages\\python311\\site-packages (from matplotlib<4.0.0,>=3.7.1->pandasai) (9.5.0)\n",
      "Requirement already satisfied: pyparsing>=2.3.1 in c:\\users\\subarno shankar\\appdata\\local\\packages\\pythonsoftwarefoundation.python.3.11_qbz5n2kfra8p0\\localcache\\local-packages\\python311\\site-packages (from matplotlib<4.0.0,>=3.7.1->pandasai) (3.0.9)\n",
      "Requirement already satisfied: python-dateutil>=2.7 in c:\\users\\subarno shankar\\appdata\\local\\packages\\pythonsoftwarefoundation.python.3.11_qbz5n2kfra8p0\\localcache\\local-packages\\python311\\site-packages (from matplotlib<4.0.0,>=3.7.1->pandasai) (2.8.2)\n",
      "Requirement already satisfied: requests>=2.20 in c:\\users\\subarno shankar\\appdata\\local\\packages\\pythonsoftwarefoundation.python.3.11_qbz5n2kfra8p0\\localcache\\local-packages\\python311\\site-packages (from openai<0.28.0,>=0.27.5->pandasai) (2.28.2)\n",
      "Requirement already satisfied: tqdm in c:\\users\\subarno shankar\\appdata\\local\\packages\\pythonsoftwarefoundation.python.3.11_qbz5n2kfra8p0\\localcache\\local-packages\\python311\\site-packages (from openai<0.28.0,>=0.27.5->pandasai) (4.65.0)\n",
      "Collecting aiohttp (from openai<0.28.0,>=0.27.5->pandasai)\n",
      "  Using cached aiohttp-3.8.4-cp311-cp311-win_amd64.whl (317 kB)\n",
      "Requirement already satisfied: pytz>=2020.1 in c:\\users\\subarno shankar\\appdata\\local\\packages\\pythonsoftwarefoundation.python.3.11_qbz5n2kfra8p0\\localcache\\local-packages\\python311\\site-packages (from pandas<3.0.0,>=2.0.1->pandasai) (2023.3)\n",
      "Requirement already satisfied: tzdata>=2022.1 in c:\\users\\subarno shankar\\appdata\\local\\packages\\pythonsoftwarefoundation.python.3.11_qbz5n2kfra8p0\\localcache\\local-packages\\python311\\site-packages (from pandas<3.0.0,>=2.0.1->pandasai) (2023.3)\n",
      "Requirement already satisfied: parso<0.9.0,>=0.8.0 in c:\\users\\subarno shankar\\appdata\\local\\packages\\pythonsoftwarefoundation.python.3.11_qbz5n2kfra8p0\\localcache\\local-packages\\python311\\site-packages (from jedi>=0.16->ipython<9.0.0,>=8.13.1->pandasai) (0.8.3)\n",
      "Requirement already satisfied: wcwidth in c:\\users\\subarno shankar\\appdata\\local\\packages\\pythonsoftwarefoundation.python.3.11_qbz5n2kfra8p0\\localcache\\local-packages\\python311\\site-packages (from prompt-toolkit!=3.0.37,<3.1.0,>=3.0.30->ipython<9.0.0,>=8.13.1->pandasai) (0.2.6)\n",
      "Requirement already satisfied: six>=1.5 in c:\\users\\subarno shankar\\appdata\\local\\packages\\pythonsoftwarefoundation.python.3.11_qbz5n2kfra8p0\\localcache\\local-packages\\python311\\site-packages (from python-dateutil>=2.7->matplotlib<4.0.0,>=3.7.1->pandasai) (1.16.0)\n",
      "Requirement already satisfied: charset-normalizer<4,>=2 in c:\\users\\subarno shankar\\appdata\\local\\packages\\pythonsoftwarefoundation.python.3.11_qbz5n2kfra8p0\\localcache\\local-packages\\python311\\site-packages (from requests>=2.20->openai<0.28.0,>=0.27.5->pandasai) (3.1.0)\n",
      "Requirement already satisfied: idna<4,>=2.5 in c:\\users\\subarno shankar\\appdata\\local\\packages\\pythonsoftwarefoundation.python.3.11_qbz5n2kfra8p0\\localcache\\local-packages\\python311\\site-packages (from requests>=2.20->openai<0.28.0,>=0.27.5->pandasai) (3.4)\n",
      "Requirement already satisfied: urllib3<1.27,>=1.21.1 in c:\\users\\subarno shankar\\appdata\\local\\packages\\pythonsoftwarefoundation.python.3.11_qbz5n2kfra8p0\\localcache\\local-packages\\python311\\site-packages (from requests>=2.20->openai<0.28.0,>=0.27.5->pandasai) (1.26.15)\n",
      "Requirement already satisfied: certifi>=2017.4.17 in c:\\users\\subarno shankar\\appdata\\local\\packages\\pythonsoftwarefoundation.python.3.11_qbz5n2kfra8p0\\localcache\\local-packages\\python311\\site-packages (from requests>=2.20->openai<0.28.0,>=0.27.5->pandasai) (2022.12.7)\n",
      "Requirement already satisfied: attrs>=17.3.0 in c:\\users\\subarno shankar\\appdata\\local\\packages\\pythonsoftwarefoundation.python.3.11_qbz5n2kfra8p0\\localcache\\local-packages\\python311\\site-packages (from aiohttp->openai<0.28.0,>=0.27.5->pandasai) (23.1.0)\n",
      "Requirement already satisfied: multidict<7.0,>=4.5 in c:\\users\\subarno shankar\\appdata\\local\\packages\\pythonsoftwarefoundation.python.3.11_qbz5n2kfra8p0\\localcache\\local-packages\\python311\\site-packages (from aiohttp->openai<0.28.0,>=0.27.5->pandasai) (6.0.4)\n",
      "Requirement already satisfied: async-timeout<5.0,>=4.0.0a3 in c:\\users\\subarno shankar\\appdata\\local\\packages\\pythonsoftwarefoundation.python.3.11_qbz5n2kfra8p0\\localcache\\local-packages\\python311\\site-packages (from aiohttp->openai<0.28.0,>=0.27.5->pandasai) (4.0.2)\n",
      "Requirement already satisfied: yarl<2.0,>=1.0 in c:\\users\\subarno shankar\\appdata\\local\\packages\\pythonsoftwarefoundation.python.3.11_qbz5n2kfra8p0\\localcache\\local-packages\\python311\\site-packages (from aiohttp->openai<0.28.0,>=0.27.5->pandasai) (1.9.2)\n",
      "Requirement already satisfied: frozenlist>=1.1.1 in c:\\users\\subarno shankar\\appdata\\local\\packages\\pythonsoftwarefoundation.python.3.11_qbz5n2kfra8p0\\localcache\\local-packages\\python311\\site-packages (from aiohttp->openai<0.28.0,>=0.27.5->pandasai) (1.3.3)\n",
      "Requirement already satisfied: aiosignal>=1.1.2 in c:\\users\\subarno shankar\\appdata\\local\\packages\\pythonsoftwarefoundation.python.3.11_qbz5n2kfra8p0\\localcache\\local-packages\\python311\\site-packages (from aiohttp->openai<0.28.0,>=0.27.5->pandasai) (1.3.1)\n",
      "Requirement already satisfied: executing>=1.2.0 in c:\\users\\subarno shankar\\appdata\\local\\packages\\pythonsoftwarefoundation.python.3.11_qbz5n2kfra8p0\\localcache\\local-packages\\python311\\site-packages (from stack-data->ipython<9.0.0,>=8.13.1->pandasai) (1.2.0)\n",
      "Requirement already satisfied: asttokens>=2.1.0 in c:\\users\\subarno shankar\\appdata\\local\\packages\\pythonsoftwarefoundation.python.3.11_qbz5n2kfra8p0\\localcache\\local-packages\\python311\\site-packages (from stack-data->ipython<9.0.0,>=8.13.1->pandasai) (2.2.1)\n",
      "Requirement already satisfied: pure-eval in c:\\users\\subarno shankar\\appdata\\local\\packages\\pythonsoftwarefoundation.python.3.11_qbz5n2kfra8p0\\localcache\\local-packages\\python311\\site-packages (from stack-data->ipython<9.0.0,>=8.13.1->pandasai) (0.2.2)\n",
      "Installing collected packages: matplotlib, aiohttp, openai, ipython, pandasai\n",
      "Note: you may need to restart the kernel to use updated packages.\n"
     ]
    },
    {
     "name": "stderr",
     "output_type": "stream",
     "text": [
      "WARNING: Ignoring invalid distribution ~atplotlib (C:\\Users\\Subarno Shankar\\AppData\\Local\\Packages\\PythonSoftwareFoundation.Python.3.11_qbz5n2kfra8p0\\LocalCache\\local-packages\\Python311\\site-packages)\n",
      "WARNING: Ignoring invalid distribution ~atplotlib (C:\\Users\\Subarno Shankar\\AppData\\Local\\Packages\\PythonSoftwareFoundation.Python.3.11_qbz5n2kfra8p0\\LocalCache\\local-packages\\Python311\\site-packages)\n",
      "WARNING: Ignoring invalid distribution ~atplotlib (C:\\Users\\Subarno Shankar\\AppData\\Local\\Packages\\PythonSoftwareFoundation.Python.3.11_qbz5n2kfra8p0\\LocalCache\\local-packages\\Python311\\site-packages)\n",
      "ERROR: Could not install packages due to an OSError: [WinError 32] The process cannot access the file because it is being used by another process: 'C:\\\\Users\\\\Subarno Shankar\\\\AppData\\\\Local\\\\Packages\\\\PythonSoftwareFoundation.Python.3.11_qbz5n2kfra8p0\\\\LocalCache\\\\local-packages\\\\Python311\\\\site-packages\\\\matplotlib\\\\mpl-data\\\\fonts\\\\ttf\\\\DejaVuSans.ttf'\n",
      "Check the permissions.\n",
      "\n",
      "WARNING: Ignoring invalid distribution ~atplotlib (C:\\Users\\Subarno Shankar\\AppData\\Local\\Packages\\PythonSoftwareFoundation.Python.3.11_qbz5n2kfra8p0\\LocalCache\\local-packages\\Python311\\site-packages)\n"
     ]
    }
   ],
   "source": [
    "pip install pandasai"
   ]
  },
  {
   "cell_type": "code",
   "execution_count": 76,
   "metadata": {
    "tags": []
   },
   "outputs": [
    {
     "ename": "ModuleNotFoundError",
     "evalue": "No module named 'PandasAI'",
     "output_type": "error",
     "traceback": [
      "\u001b[1;31m---------------------------------------------------------------------------\u001b[0m",
      "\u001b[1;31mModuleNotFoundError\u001b[0m                       Traceback (most recent call last)",
      "Cell \u001b[1;32mIn[76], line 2\u001b[0m\n\u001b[0;32m      1\u001b[0m \u001b[39mimport\u001b[39;00m \u001b[39mpandas\u001b[39;00m \u001b[39mas\u001b[39;00m \u001b[39mpd\u001b[39;00m\n\u001b[1;32m----> 2\u001b[0m \u001b[39mimport\u001b[39;00m \u001b[39mPandasAI\u001b[39;00m\n\u001b[0;32m      4\u001b[0m \u001b[39m# Sample DataFrame\u001b[39;00m\n\u001b[0;32m      5\u001b[0m df \u001b[39m=\u001b[39m pd\u001b[39m.\u001b[39mDataFrame({\n\u001b[0;32m      6\u001b[0m     \u001b[39m\"\u001b[39m\u001b[39mcountry\u001b[39m\u001b[39m\"\u001b[39m: [\u001b[39m\"\u001b[39m\u001b[39mUnited States\u001b[39m\u001b[39m\"\u001b[39m, \u001b[39m\"\u001b[39m\u001b[39mUnited Kingdom\u001b[39m\u001b[39m\"\u001b[39m, \u001b[39m\"\u001b[39m\u001b[39mFrance\u001b[39m\u001b[39m\"\u001b[39m, \u001b[39m\"\u001b[39m\u001b[39mGermany\u001b[39m\u001b[39m\"\u001b[39m, \u001b[39m\"\u001b[39m\u001b[39mItaly\u001b[39m\u001b[39m\"\u001b[39m, \u001b[39m\"\u001b[39m\u001b[39mSpain\u001b[39m\u001b[39m\"\u001b[39m, \u001b[39m\"\u001b[39m\u001b[39mCanada\u001b[39m\u001b[39m\"\u001b[39m, \u001b[39m\"\u001b[39m\u001b[39mAustralia\u001b[39m\u001b[39m\"\u001b[39m, \u001b[39m\"\u001b[39m\u001b[39mJapan\u001b[39m\u001b[39m\"\u001b[39m, \u001b[39m\"\u001b[39m\u001b[39mChina\u001b[39m\u001b[39m\"\u001b[39m],\n\u001b[0;32m      7\u001b[0m     \u001b[39m\"\u001b[39m\u001b[39mgdp\u001b[39m\u001b[39m\"\u001b[39m: [\u001b[39m19294482071552\u001b[39m, \u001b[39m2891615567872\u001b[39m, \u001b[39m2411255037952\u001b[39m, \u001b[39m3435817336832\u001b[39m, \u001b[39m1745433788416\u001b[39m, \u001b[39m1181205135360\u001b[39m, \u001b[39m1607402389504\u001b[39m, \u001b[39m1490967855104\u001b[39m, \u001b[39m4380756541440\u001b[39m, \u001b[39m14631844184064\u001b[39m]\n\u001b[0;32m      8\u001b[0m })\n",
      "\u001b[1;31mModuleNotFoundError\u001b[0m: No module named 'PandasAI'"
     ]
    }
   ],
   "source": [
    "import pandas as pd\n",
    "from pandasai import PandasAI\n",
    "\n",
    "# Sample DataFrame\n",
    "df = pd.DataFrame({\n",
    "    \"country\": [\"United States\", \"United Kingdom\", \"France\", \"Germany\", \"Italy\", \"Spain\", \"Canada\", \"Australia\", \"Japan\", \"China\"],\n",
    "    \"gdp\": [19294482071552, 2891615567872, 2411255037952, 3435817336832, 1745433788416, 1181205135360, 1607402389504, 1490967855104, 4380756541440, 14631844184064]\n",
    "})\n",
    "\n",
    "# Instantiate a LLM\n",
    "from pandasai.llm.openai import OpenAI\n",
    "llm = OpenAI(api_token=\"\")\n",
    "\n",
    "pandas_ai = PandasAI(llm, conversational=False)\n",
    "pandas_ai.run(\n",
    "    df,\n",
    "    \"Plot the histogram of countries showing for each the gpd, using different colors for each bar\",\n",
    ")"
   ]
  },
  {
   "attachments": {},
   "cell_type": "markdown",
   "metadata": {},
   "source": [
    "## Alternative Packages"
   ]
  },
  {
   "attachments": {},
   "cell_type": "markdown",
   "metadata": {},
   "source": [
    "### Polars: Pandas DataFrame but Much Faster\n",
    "\n",
    "Polars is a DataFrame interface on top of an OLAP Query Engine implemented in Rust using Apache Arrow Columnar Format as the memory model.\n",
    "\n",
    "The goal of Polars is to provide a lightning fast DataFrame library that:\n",
    "\n",
    "- Utilizes all available cores on your machine.\n",
    "- Optimizes queries to reduce unneeded work/memory allocations.\n",
    "- Handles datasets much larger than your available RAM.\n",
    "- Has an API that is consistent and predictable.\n",
    "- Has a strict schema (data-types should be known before running the query).\n",
    "\n",
    "Polars is written in Rust which gives it C/C++ performance and allows it to fully control performance critical parts in a query engine\n",
    "\n",
    "https://pola-rs.github.io/polars-book/user-guide/"
   ]
  },
  {
   "cell_type": "code",
   "execution_count": 77,
   "metadata": {
    "tags": []
   },
   "outputs": [
    {
     "name": "stdout",
     "output_type": "stream",
     "text": [
      "Requirement already satisfied: polars in c:\\users\\subarno shankar\\appdata\\local\\packages\\pythonsoftwarefoundation.python.3.11_qbz5n2kfra8p0\\localcache\\local-packages\\python311\\site-packages (0.17.15)\n",
      "Note: you may need to restart the kernel to use updated packages.\n"
     ]
    },
    {
     "name": "stderr",
     "output_type": "stream",
     "text": [
      "WARNING: Ignoring invalid distribution ~atplotlib (C:\\Users\\Subarno Shankar\\AppData\\Local\\Packages\\PythonSoftwareFoundation.Python.3.11_qbz5n2kfra8p0\\LocalCache\\local-packages\\Python311\\site-packages)\n",
      "WARNING: Ignoring invalid distribution ~atplotlib (C:\\Users\\Subarno Shankar\\AppData\\Local\\Packages\\PythonSoftwareFoundation.Python.3.11_qbz5n2kfra8p0\\LocalCache\\local-packages\\Python311\\site-packages)\n",
      "WARNING: Ignoring invalid distribution ~atplotlib (C:\\Users\\Subarno Shankar\\AppData\\Local\\Packages\\PythonSoftwareFoundation.Python.3.11_qbz5n2kfra8p0\\LocalCache\\local-packages\\Python311\\site-packages)\n",
      "WARNING: Ignoring invalid distribution ~atplotlib (C:\\Users\\Subarno Shankar\\AppData\\Local\\Packages\\PythonSoftwareFoundation.Python.3.11_qbz5n2kfra8p0\\LocalCache\\local-packages\\Python311\\site-packages)\n"
     ]
    }
   ],
   "source": [
    "%pip install polars"
   ]
  },
  {
   "cell_type": "code",
   "execution_count": 78,
   "metadata": {
    "tags": []
   },
   "outputs": [],
   "source": [
    "import pandas as pd\n",
    "import polars as pl\n",
    "import time\n",
    "import numpy as np"
   ]
  },
  {
   "cell_type": "code",
   "execution_count": 85,
   "metadata": {
    "tags": []
   },
   "outputs": [
    {
     "name": "stdout",
     "output_type": "stream",
     "text": [
      "\u001b[1;31mSignature:\u001b[0m\n",
      "\u001b[0mpd\u001b[0m\u001b[1;33m.\u001b[0m\u001b[0mread_csv\u001b[0m\u001b[1;33m(\u001b[0m\u001b[1;33m\n",
      "\u001b[0m    \u001b[0mfilepath_or_buffer\u001b[0m\u001b[1;33m:\u001b[0m \u001b[1;34m'FilePath | ReadCsvBuffer[bytes] | ReadCsvBuffer[str]'\u001b[0m\u001b[1;33m,\u001b[0m\u001b[1;33m\n",
      "\u001b[0m    \u001b[1;33m*\u001b[0m\u001b[1;33m,\u001b[0m\u001b[1;33m\n",
      "\u001b[0m    \u001b[0msep\u001b[0m\u001b[1;33m:\u001b[0m \u001b[1;34m'str | None | lib.NoDefault'\u001b[0m \u001b[1;33m=\u001b[0m \u001b[1;33m<\u001b[0m\u001b[0mno_default\u001b[0m\u001b[1;33m>\u001b[0m\u001b[1;33m,\u001b[0m\u001b[1;33m\n",
      "\u001b[0m    \u001b[0mdelimiter\u001b[0m\u001b[1;33m:\u001b[0m \u001b[1;34m'str | None | lib.NoDefault'\u001b[0m \u001b[1;33m=\u001b[0m \u001b[1;32mNone\u001b[0m\u001b[1;33m,\u001b[0m\u001b[1;33m\n",
      "\u001b[0m    \u001b[0mheader\u001b[0m\u001b[1;33m:\u001b[0m \u001b[1;34m\"int | Sequence[int] | None | Literal['infer']\"\u001b[0m \u001b[1;33m=\u001b[0m \u001b[1;34m'infer'\u001b[0m\u001b[1;33m,\u001b[0m\u001b[1;33m\n",
      "\u001b[0m    \u001b[0mnames\u001b[0m\u001b[1;33m:\u001b[0m \u001b[1;34m'Sequence[Hashable] | None | lib.NoDefault'\u001b[0m \u001b[1;33m=\u001b[0m \u001b[1;33m<\u001b[0m\u001b[0mno_default\u001b[0m\u001b[1;33m>\u001b[0m\u001b[1;33m,\u001b[0m\u001b[1;33m\n",
      "\u001b[0m    \u001b[0mindex_col\u001b[0m\u001b[1;33m:\u001b[0m \u001b[1;34m'IndexLabel | Literal[False] | None'\u001b[0m \u001b[1;33m=\u001b[0m \u001b[1;32mNone\u001b[0m\u001b[1;33m,\u001b[0m\u001b[1;33m\n",
      "\u001b[0m    \u001b[0musecols\u001b[0m\u001b[1;33m=\u001b[0m\u001b[1;32mNone\u001b[0m\u001b[1;33m,\u001b[0m\u001b[1;33m\n",
      "\u001b[0m    \u001b[0mdtype\u001b[0m\u001b[1;33m:\u001b[0m \u001b[1;34m'DtypeArg | None'\u001b[0m \u001b[1;33m=\u001b[0m \u001b[1;32mNone\u001b[0m\u001b[1;33m,\u001b[0m\u001b[1;33m\n",
      "\u001b[0m    \u001b[0mengine\u001b[0m\u001b[1;33m:\u001b[0m \u001b[1;34m'CSVEngine | None'\u001b[0m \u001b[1;33m=\u001b[0m \u001b[1;32mNone\u001b[0m\u001b[1;33m,\u001b[0m\u001b[1;33m\n",
      "\u001b[0m    \u001b[0mconverters\u001b[0m\u001b[1;33m=\u001b[0m\u001b[1;32mNone\u001b[0m\u001b[1;33m,\u001b[0m\u001b[1;33m\n",
      "\u001b[0m    \u001b[0mtrue_values\u001b[0m\u001b[1;33m=\u001b[0m\u001b[1;32mNone\u001b[0m\u001b[1;33m,\u001b[0m\u001b[1;33m\n",
      "\u001b[0m    \u001b[0mfalse_values\u001b[0m\u001b[1;33m=\u001b[0m\u001b[1;32mNone\u001b[0m\u001b[1;33m,\u001b[0m\u001b[1;33m\n",
      "\u001b[0m    \u001b[0mskipinitialspace\u001b[0m\u001b[1;33m:\u001b[0m \u001b[1;34m'bool'\u001b[0m \u001b[1;33m=\u001b[0m \u001b[1;32mFalse\u001b[0m\u001b[1;33m,\u001b[0m\u001b[1;33m\n",
      "\u001b[0m    \u001b[0mskiprows\u001b[0m\u001b[1;33m=\u001b[0m\u001b[1;32mNone\u001b[0m\u001b[1;33m,\u001b[0m\u001b[1;33m\n",
      "\u001b[0m    \u001b[0mskipfooter\u001b[0m\u001b[1;33m:\u001b[0m \u001b[1;34m'int'\u001b[0m \u001b[1;33m=\u001b[0m \u001b[1;36m0\u001b[0m\u001b[1;33m,\u001b[0m\u001b[1;33m\n",
      "\u001b[0m    \u001b[0mnrows\u001b[0m\u001b[1;33m:\u001b[0m \u001b[1;34m'int | None'\u001b[0m \u001b[1;33m=\u001b[0m \u001b[1;32mNone\u001b[0m\u001b[1;33m,\u001b[0m\u001b[1;33m\n",
      "\u001b[0m    \u001b[0mna_values\u001b[0m\u001b[1;33m=\u001b[0m\u001b[1;32mNone\u001b[0m\u001b[1;33m,\u001b[0m\u001b[1;33m\n",
      "\u001b[0m    \u001b[0mkeep_default_na\u001b[0m\u001b[1;33m:\u001b[0m \u001b[1;34m'bool'\u001b[0m \u001b[1;33m=\u001b[0m \u001b[1;32mTrue\u001b[0m\u001b[1;33m,\u001b[0m\u001b[1;33m\n",
      "\u001b[0m    \u001b[0mna_filter\u001b[0m\u001b[1;33m:\u001b[0m \u001b[1;34m'bool'\u001b[0m \u001b[1;33m=\u001b[0m \u001b[1;32mTrue\u001b[0m\u001b[1;33m,\u001b[0m\u001b[1;33m\n",
      "\u001b[0m    \u001b[0mverbose\u001b[0m\u001b[1;33m:\u001b[0m \u001b[1;34m'bool'\u001b[0m \u001b[1;33m=\u001b[0m \u001b[1;32mFalse\u001b[0m\u001b[1;33m,\u001b[0m\u001b[1;33m\n",
      "\u001b[0m    \u001b[0mskip_blank_lines\u001b[0m\u001b[1;33m:\u001b[0m \u001b[1;34m'bool'\u001b[0m \u001b[1;33m=\u001b[0m \u001b[1;32mTrue\u001b[0m\u001b[1;33m,\u001b[0m\u001b[1;33m\n",
      "\u001b[0m    \u001b[0mparse_dates\u001b[0m\u001b[1;33m:\u001b[0m \u001b[1;34m'bool | Sequence[Hashable] | None'\u001b[0m \u001b[1;33m=\u001b[0m \u001b[1;32mNone\u001b[0m\u001b[1;33m,\u001b[0m\u001b[1;33m\n",
      "\u001b[0m    \u001b[0minfer_datetime_format\u001b[0m\u001b[1;33m:\u001b[0m \u001b[1;34m'bool | lib.NoDefault'\u001b[0m \u001b[1;33m=\u001b[0m \u001b[1;33m<\u001b[0m\u001b[0mno_default\u001b[0m\u001b[1;33m>\u001b[0m\u001b[1;33m,\u001b[0m\u001b[1;33m\n",
      "\u001b[0m    \u001b[0mkeep_date_col\u001b[0m\u001b[1;33m:\u001b[0m \u001b[1;34m'bool'\u001b[0m \u001b[1;33m=\u001b[0m \u001b[1;32mFalse\u001b[0m\u001b[1;33m,\u001b[0m\u001b[1;33m\n",
      "\u001b[0m    \u001b[0mdate_parser\u001b[0m\u001b[1;33m=\u001b[0m\u001b[1;33m<\u001b[0m\u001b[0mno_default\u001b[0m\u001b[1;33m>\u001b[0m\u001b[1;33m,\u001b[0m\u001b[1;33m\n",
      "\u001b[0m    \u001b[0mdate_format\u001b[0m\u001b[1;33m:\u001b[0m \u001b[1;34m'str | None'\u001b[0m \u001b[1;33m=\u001b[0m \u001b[1;32mNone\u001b[0m\u001b[1;33m,\u001b[0m\u001b[1;33m\n",
      "\u001b[0m    \u001b[0mdayfirst\u001b[0m\u001b[1;33m:\u001b[0m \u001b[1;34m'bool'\u001b[0m \u001b[1;33m=\u001b[0m \u001b[1;32mFalse\u001b[0m\u001b[1;33m,\u001b[0m\u001b[1;33m\n",
      "\u001b[0m    \u001b[0mcache_dates\u001b[0m\u001b[1;33m:\u001b[0m \u001b[1;34m'bool'\u001b[0m \u001b[1;33m=\u001b[0m \u001b[1;32mTrue\u001b[0m\u001b[1;33m,\u001b[0m\u001b[1;33m\n",
      "\u001b[0m    \u001b[0miterator\u001b[0m\u001b[1;33m:\u001b[0m \u001b[1;34m'bool'\u001b[0m \u001b[1;33m=\u001b[0m \u001b[1;32mFalse\u001b[0m\u001b[1;33m,\u001b[0m\u001b[1;33m\n",
      "\u001b[0m    \u001b[0mchunksize\u001b[0m\u001b[1;33m:\u001b[0m \u001b[1;34m'int | None'\u001b[0m \u001b[1;33m=\u001b[0m \u001b[1;32mNone\u001b[0m\u001b[1;33m,\u001b[0m\u001b[1;33m\n",
      "\u001b[0m    \u001b[0mcompression\u001b[0m\u001b[1;33m:\u001b[0m \u001b[1;34m'CompressionOptions'\u001b[0m \u001b[1;33m=\u001b[0m \u001b[1;34m'infer'\u001b[0m\u001b[1;33m,\u001b[0m\u001b[1;33m\n",
      "\u001b[0m    \u001b[0mthousands\u001b[0m\u001b[1;33m:\u001b[0m \u001b[1;34m'str | None'\u001b[0m \u001b[1;33m=\u001b[0m \u001b[1;32mNone\u001b[0m\u001b[1;33m,\u001b[0m\u001b[1;33m\n",
      "\u001b[0m    \u001b[0mdecimal\u001b[0m\u001b[1;33m:\u001b[0m \u001b[1;34m'str'\u001b[0m \u001b[1;33m=\u001b[0m \u001b[1;34m'.'\u001b[0m\u001b[1;33m,\u001b[0m\u001b[1;33m\n",
      "\u001b[0m    \u001b[0mlineterminator\u001b[0m\u001b[1;33m:\u001b[0m \u001b[1;34m'str | None'\u001b[0m \u001b[1;33m=\u001b[0m \u001b[1;32mNone\u001b[0m\u001b[1;33m,\u001b[0m\u001b[1;33m\n",
      "\u001b[0m    \u001b[0mquotechar\u001b[0m\u001b[1;33m:\u001b[0m \u001b[1;34m'str'\u001b[0m \u001b[1;33m=\u001b[0m \u001b[1;34m'\"'\u001b[0m\u001b[1;33m,\u001b[0m\u001b[1;33m\n",
      "\u001b[0m    \u001b[0mquoting\u001b[0m\u001b[1;33m:\u001b[0m \u001b[1;34m'int'\u001b[0m \u001b[1;33m=\u001b[0m \u001b[1;36m0\u001b[0m\u001b[1;33m,\u001b[0m\u001b[1;33m\n",
      "\u001b[0m    \u001b[0mdoublequote\u001b[0m\u001b[1;33m:\u001b[0m \u001b[1;34m'bool'\u001b[0m \u001b[1;33m=\u001b[0m \u001b[1;32mTrue\u001b[0m\u001b[1;33m,\u001b[0m\u001b[1;33m\n",
      "\u001b[0m    \u001b[0mescapechar\u001b[0m\u001b[1;33m:\u001b[0m \u001b[1;34m'str | None'\u001b[0m \u001b[1;33m=\u001b[0m \u001b[1;32mNone\u001b[0m\u001b[1;33m,\u001b[0m\u001b[1;33m\n",
      "\u001b[0m    \u001b[0mcomment\u001b[0m\u001b[1;33m:\u001b[0m \u001b[1;34m'str | None'\u001b[0m \u001b[1;33m=\u001b[0m \u001b[1;32mNone\u001b[0m\u001b[1;33m,\u001b[0m\u001b[1;33m\n",
      "\u001b[0m    \u001b[0mencoding\u001b[0m\u001b[1;33m:\u001b[0m \u001b[1;34m'str | None'\u001b[0m \u001b[1;33m=\u001b[0m \u001b[1;32mNone\u001b[0m\u001b[1;33m,\u001b[0m\u001b[1;33m\n",
      "\u001b[0m    \u001b[0mencoding_errors\u001b[0m\u001b[1;33m:\u001b[0m \u001b[1;34m'str | None'\u001b[0m \u001b[1;33m=\u001b[0m \u001b[1;34m'strict'\u001b[0m\u001b[1;33m,\u001b[0m\u001b[1;33m\n",
      "\u001b[0m    \u001b[0mdialect\u001b[0m\u001b[1;33m:\u001b[0m \u001b[1;34m'str | csv.Dialect | None'\u001b[0m \u001b[1;33m=\u001b[0m \u001b[1;32mNone\u001b[0m\u001b[1;33m,\u001b[0m\u001b[1;33m\n",
      "\u001b[0m    \u001b[0mon_bad_lines\u001b[0m\u001b[1;33m:\u001b[0m \u001b[1;34m'str'\u001b[0m \u001b[1;33m=\u001b[0m \u001b[1;34m'error'\u001b[0m\u001b[1;33m,\u001b[0m\u001b[1;33m\n",
      "\u001b[0m    \u001b[0mdelim_whitespace\u001b[0m\u001b[1;33m:\u001b[0m \u001b[1;34m'bool'\u001b[0m \u001b[1;33m=\u001b[0m \u001b[1;32mFalse\u001b[0m\u001b[1;33m,\u001b[0m\u001b[1;33m\n",
      "\u001b[0m    \u001b[0mlow_memory\u001b[0m\u001b[1;33m=\u001b[0m\u001b[1;32mTrue\u001b[0m\u001b[1;33m,\u001b[0m\u001b[1;33m\n",
      "\u001b[0m    \u001b[0mmemory_map\u001b[0m\u001b[1;33m:\u001b[0m \u001b[1;34m'bool'\u001b[0m \u001b[1;33m=\u001b[0m \u001b[1;32mFalse\u001b[0m\u001b[1;33m,\u001b[0m\u001b[1;33m\n",
      "\u001b[0m    \u001b[0mfloat_precision\u001b[0m\u001b[1;33m:\u001b[0m \u001b[1;34m\"Literal['high', 'legacy'] | None\"\u001b[0m \u001b[1;33m=\u001b[0m \u001b[1;32mNone\u001b[0m\u001b[1;33m,\u001b[0m\u001b[1;33m\n",
      "\u001b[0m    \u001b[0mstorage_options\u001b[0m\u001b[1;33m:\u001b[0m \u001b[1;34m'StorageOptions'\u001b[0m \u001b[1;33m=\u001b[0m \u001b[1;32mNone\u001b[0m\u001b[1;33m,\u001b[0m\u001b[1;33m\n",
      "\u001b[0m    \u001b[0mdtype_backend\u001b[0m\u001b[1;33m:\u001b[0m \u001b[1;34m'DtypeBackend | lib.NoDefault'\u001b[0m \u001b[1;33m=\u001b[0m \u001b[1;33m<\u001b[0m\u001b[0mno_default\u001b[0m\u001b[1;33m>\u001b[0m\u001b[1;33m,\u001b[0m\u001b[1;33m\n",
      "\u001b[0m\u001b[1;33m)\u001b[0m \u001b[1;33m->\u001b[0m \u001b[1;34m'DataFrame | TextFileReader'\u001b[0m\u001b[1;33m\u001b[0m\u001b[1;33m\u001b[0m\u001b[0m\n",
      "\u001b[1;31mDocstring:\u001b[0m\n",
      "Read a comma-separated values (csv) file into DataFrame.\n",
      "\n",
      "Also supports optionally iterating or breaking of the file\n",
      "into chunks.\n",
      "\n",
      "Additional help can be found in the online docs for\n",
      "`IO Tools <https://pandas.pydata.org/pandas-docs/stable/user_guide/io.html>`_.\n",
      "\n",
      "Parameters\n",
      "----------\n",
      "filepath_or_buffer : str, path object or file-like object\n",
      "    Any valid string path is acceptable. The string could be a URL. Valid\n",
      "    URL schemes include http, ftp, s3, gs, and file. For file URLs, a host is\n",
      "    expected. A local file could be: file://localhost/path/to/table.csv.\n",
      "\n",
      "    If you want to pass in a path object, pandas accepts any ``os.PathLike``.\n",
      "\n",
      "    By file-like object, we refer to objects with a ``read()`` method, such as\n",
      "    a file handle (e.g. via builtin ``open`` function) or ``StringIO``.\n",
      "sep : str, default ','\n",
      "    Delimiter to use. If sep is None, the C engine cannot automatically detect\n",
      "    the separator, but the Python parsing engine can, meaning the latter will\n",
      "    be used and automatically detect the separator by Python's builtin sniffer\n",
      "    tool, ``csv.Sniffer``. In addition, separators longer than 1 character and\n",
      "    different from ``'\\s+'`` will be interpreted as regular expressions and\n",
      "    will also force the use of the Python parsing engine. Note that regex\n",
      "    delimiters are prone to ignoring quoted data. Regex example: ``'\\r\\t'``.\n",
      "delimiter : str, default ``None``\n",
      "    Alias for sep.\n",
      "header : int, list of int, None, default 'infer'\n",
      "    Row number(s) to use as the column names, and the start of the\n",
      "    data.  Default behavior is to infer the column names: if no names\n",
      "    are passed the behavior is identical to ``header=0`` and column\n",
      "    names are inferred from the first line of the file, if column\n",
      "    names are passed explicitly then the behavior is identical to\n",
      "    ``header=None``. Explicitly pass ``header=0`` to be able to\n",
      "    replace existing names. The header can be a list of integers that\n",
      "    specify row locations for a multi-index on the columns\n",
      "    e.g. [0,1,3]. Intervening rows that are not specified will be\n",
      "    skipped (e.g. 2 in this example is skipped). Note that this\n",
      "    parameter ignores commented lines and empty lines if\n",
      "    ``skip_blank_lines=True``, so ``header=0`` denotes the first line of\n",
      "    data rather than the first line of the file.\n",
      "names : array-like, optional\n",
      "    List of column names to use. If the file contains a header row,\n",
      "    then you should explicitly pass ``header=0`` to override the column names.\n",
      "    Duplicates in this list are not allowed.\n",
      "index_col : int, str, sequence of int / str, or False, optional, default ``None``\n",
      "  Column(s) to use as the row labels of the ``DataFrame``, either given as\n",
      "  string name or column index. If a sequence of int / str is given, a\n",
      "  MultiIndex is used.\n",
      "\n",
      "  Note: ``index_col=False`` can be used to force pandas to *not* use the first\n",
      "  column as the index, e.g. when you have a malformed file with delimiters at\n",
      "  the end of each line.\n",
      "usecols : list-like or callable, optional\n",
      "    Return a subset of the columns. If list-like, all elements must either\n",
      "    be positional (i.e. integer indices into the document columns) or strings\n",
      "    that correspond to column names provided either by the user in `names` or\n",
      "    inferred from the document header row(s). If ``names`` are given, the document\n",
      "    header row(s) are not taken into account. For example, a valid list-like\n",
      "    `usecols` parameter would be ``[0, 1, 2]`` or ``['foo', 'bar', 'baz']``.\n",
      "    Element order is ignored, so ``usecols=[0, 1]`` is the same as ``[1, 0]``.\n",
      "    To instantiate a DataFrame from ``data`` with element order preserved use\n",
      "    ``pd.read_csv(data, usecols=['foo', 'bar'])[['foo', 'bar']]`` for columns\n",
      "    in ``['foo', 'bar']`` order or\n",
      "    ``pd.read_csv(data, usecols=['foo', 'bar'])[['bar', 'foo']]``\n",
      "    for ``['bar', 'foo']`` order.\n",
      "\n",
      "    If callable, the callable function will be evaluated against the column\n",
      "    names, returning names where the callable function evaluates to True. An\n",
      "    example of a valid callable argument would be ``lambda x: x.upper() in\n",
      "    ['AAA', 'BBB', 'DDD']``. Using this parameter results in much faster\n",
      "    parsing time and lower memory usage.\n",
      "dtype : Type name or dict of column -> type, optional\n",
      "    Data type for data or columns. E.g. {'a': np.float64, 'b': np.int32,\n",
      "    'c': 'Int64'}\n",
      "    Use `str` or `object` together with suitable `na_values` settings\n",
      "    to preserve and not interpret dtype.\n",
      "    If converters are specified, they will be applied INSTEAD\n",
      "    of dtype conversion.\n",
      "\n",
      "    .. versionadded:: 1.5.0\n",
      "\n",
      "        Support for defaultdict was added. Specify a defaultdict as input where\n",
      "        the default determines the dtype of the columns which are not explicitly\n",
      "        listed.\n",
      "engine : {'c', 'python', 'pyarrow'}, optional\n",
      "    Parser engine to use. The C and pyarrow engines are faster, while the python engine\n",
      "    is currently more feature-complete. Multithreading is currently only supported by\n",
      "    the pyarrow engine.\n",
      "\n",
      "    .. versionadded:: 1.4.0\n",
      "\n",
      "        The \"pyarrow\" engine was added as an *experimental* engine, and some features\n",
      "        are unsupported, or may not work correctly, with this engine.\n",
      "converters : dict, optional\n",
      "    Dict of functions for converting values in certain columns. Keys can either\n",
      "    be integers or column labels.\n",
      "true_values : list, optional\n",
      "    Values to consider as True in addition to case-insensitive variants of \"True\".\n",
      "false_values : list, optional\n",
      "    Values to consider as False in addition to case-insensitive variants of \"False\".\n",
      "skipinitialspace : bool, default False\n",
      "    Skip spaces after delimiter.\n",
      "skiprows : list-like, int or callable, optional\n",
      "    Line numbers to skip (0-indexed) or number of lines to skip (int)\n",
      "    at the start of the file.\n",
      "\n",
      "    If callable, the callable function will be evaluated against the row\n",
      "    indices, returning True if the row should be skipped and False otherwise.\n",
      "    An example of a valid callable argument would be ``lambda x: x in [0, 2]``.\n",
      "skipfooter : int, default 0\n",
      "    Number of lines at bottom of file to skip (Unsupported with engine='c').\n",
      "nrows : int, optional\n",
      "    Number of rows of file to read. Useful for reading pieces of large files.\n",
      "na_values : scalar, str, list-like, or dict, optional\n",
      "    Additional strings to recognize as NA/NaN. If dict passed, specific\n",
      "    per-column NA values.  By default the following values are interpreted as\n",
      "    NaN: '', '#N/A', '#N/A N/A', '#NA', '-1.#IND', '-1.#QNAN', '-NaN', '-nan',\n",
      "    '1.#IND', '1.#QNAN', '<NA>', 'N/A', 'NA', 'NULL', 'NaN', 'None',\n",
      "    'n/a', 'nan', 'null'.\n",
      "keep_default_na : bool, default True\n",
      "    Whether or not to include the default NaN values when parsing the data.\n",
      "    Depending on whether `na_values` is passed in, the behavior is as follows:\n",
      "\n",
      "    * If `keep_default_na` is True, and `na_values` are specified, `na_values`\n",
      "      is appended to the default NaN values used for parsing.\n",
      "    * If `keep_default_na` is True, and `na_values` are not specified, only\n",
      "      the default NaN values are used for parsing.\n",
      "    * If `keep_default_na` is False, and `na_values` are specified, only\n",
      "      the NaN values specified `na_values` are used for parsing.\n",
      "    * If `keep_default_na` is False, and `na_values` are not specified, no\n",
      "      strings will be parsed as NaN.\n",
      "\n",
      "    Note that if `na_filter` is passed in as False, the `keep_default_na` and\n",
      "    `na_values` parameters will be ignored.\n",
      "na_filter : bool, default True\n",
      "    Detect missing value markers (empty strings and the value of na_values). In\n",
      "    data without any NAs, passing na_filter=False can improve the performance\n",
      "    of reading a large file.\n",
      "verbose : bool, default False\n",
      "    Indicate number of NA values placed in non-numeric columns.\n",
      "skip_blank_lines : bool, default True\n",
      "    If True, skip over blank lines rather than interpreting as NaN values.\n",
      "parse_dates : bool or list of int or names or list of lists or dict, default False\n",
      "    The behavior is as follows:\n",
      "\n",
      "    * boolean. If True -> try parsing the index.\n",
      "    * list of int or names. e.g. If [1, 2, 3] -> try parsing columns 1, 2, 3\n",
      "      each as a separate date column.\n",
      "    * list of lists. e.g.  If [[1, 3]] -> combine columns 1 and 3 and parse as\n",
      "      a single date column.\n",
      "    * dict, e.g. {'foo' : [1, 3]} -> parse columns 1, 3 as date and call\n",
      "      result 'foo'\n",
      "\n",
      "    If a column or index cannot be represented as an array of datetimes,\n",
      "    say because of an unparsable value or a mixture of timezones, the column\n",
      "    or index will be returned unaltered as an object data type. For\n",
      "    non-standard datetime parsing, use ``pd.to_datetime`` after\n",
      "    ``pd.read_csv``.\n",
      "\n",
      "    Note: A fast-path exists for iso8601-formatted dates.\n",
      "infer_datetime_format : bool, default False\n",
      "    If True and `parse_dates` is enabled, pandas will attempt to infer the\n",
      "    format of the datetime strings in the columns, and if it can be inferred,\n",
      "    switch to a faster method of parsing them. In some cases this can increase\n",
      "    the parsing speed by 5-10x.\n",
      "\n",
      "    .. deprecated:: 2.0.0\n",
      "        A strict version of this argument is now the default, passing it has no effect.\n",
      "\n",
      "keep_date_col : bool, default False\n",
      "    If True and `parse_dates` specifies combining multiple columns then\n",
      "    keep the original columns.\n",
      "date_parser : function, optional\n",
      "    Function to use for converting a sequence of string columns to an array of\n",
      "    datetime instances. The default uses ``dateutil.parser.parser`` to do the\n",
      "    conversion. Pandas will try to call `date_parser` in three different ways,\n",
      "    advancing to the next if an exception occurs: 1) Pass one or more arrays\n",
      "    (as defined by `parse_dates`) as arguments; 2) concatenate (row-wise) the\n",
      "    string values from the columns defined by `parse_dates` into a single array\n",
      "    and pass that; and 3) call `date_parser` once for each row using one or\n",
      "    more strings (corresponding to the columns defined by `parse_dates`) as\n",
      "    arguments.\n",
      "\n",
      "    .. deprecated:: 2.0.0\n",
      "       Use ``date_format`` instead, or read in as ``object`` and then apply\n",
      "       :func:`to_datetime` as-needed.\n",
      "date_format : str or dict of column -> format, default ``None``\n",
      "   If used in conjunction with ``parse_dates``, will parse dates according to this\n",
      "   format. For anything more complex,\n",
      "   please read in as ``object`` and then apply :func:`to_datetime` as-needed.\n",
      "\n",
      "   .. versionadded:: 2.0.0\n",
      "dayfirst : bool, default False\n",
      "    DD/MM format dates, international and European format.\n",
      "cache_dates : bool, default True\n",
      "    If True, use a cache of unique, converted dates to apply the datetime\n",
      "    conversion. May produce significant speed-up when parsing duplicate\n",
      "    date strings, especially ones with timezone offsets.\n",
      "\n",
      "iterator : bool, default False\n",
      "    Return TextFileReader object for iteration or getting chunks with\n",
      "    ``get_chunk()``.\n",
      "\n",
      "    .. versionchanged:: 1.2\n",
      "\n",
      "       ``TextFileReader`` is a context manager.\n",
      "chunksize : int, optional\n",
      "    Return TextFileReader object for iteration.\n",
      "    See the `IO Tools docs\n",
      "    <https://pandas.pydata.org/pandas-docs/stable/io.html#io-chunking>`_\n",
      "    for more information on ``iterator`` and ``chunksize``.\n",
      "\n",
      "    .. versionchanged:: 1.2\n",
      "\n",
      "       ``TextFileReader`` is a context manager.\n",
      "compression : str or dict, default 'infer'\n",
      "    For on-the-fly decompression of on-disk data. If 'infer' and 'filepath_or_buffer' is\n",
      "    path-like, then detect compression from the following extensions: '.gz',\n",
      "    '.bz2', '.zip', '.xz', '.zst', '.tar', '.tar.gz', '.tar.xz' or '.tar.bz2'\n",
      "    (otherwise no compression).\n",
      "    If using 'zip' or 'tar', the ZIP file must contain only one data file to be read in.\n",
      "    Set to ``None`` for no decompression.\n",
      "    Can also be a dict with key ``'method'`` set\n",
      "    to one of {``'zip'``, ``'gzip'``, ``'bz2'``, ``'zstd'``, ``'tar'``} and other\n",
      "    key-value pairs are forwarded to\n",
      "    ``zipfile.ZipFile``, ``gzip.GzipFile``,\n",
      "    ``bz2.BZ2File``, ``zstandard.ZstdDecompressor`` or\n",
      "    ``tarfile.TarFile``, respectively.\n",
      "    As an example, the following could be passed for Zstandard decompression using a\n",
      "    custom compression dictionary:\n",
      "    ``compression={'method': 'zstd', 'dict_data': my_compression_dict}``.\n",
      "\n",
      "    .. versionadded:: 1.5.0\n",
      "        Added support for `.tar` files.\n",
      "\n",
      "    .. versionchanged:: 1.4.0 Zstandard support.\n",
      "\n",
      "thousands : str, optional\n",
      "    Thousands separator.\n",
      "decimal : str, default '.'\n",
      "    Character to recognize as decimal point (e.g. use ',' for European data).\n",
      "lineterminator : str (length 1), optional\n",
      "    Character to break file into lines. Only valid with C parser.\n",
      "quotechar : str (length 1), optional\n",
      "    The character used to denote the start and end of a quoted item. Quoted\n",
      "    items can include the delimiter and it will be ignored.\n",
      "quoting : int or csv.QUOTE_* instance, default 0\n",
      "    Control field quoting behavior per ``csv.QUOTE_*`` constants. Use one of\n",
      "    QUOTE_MINIMAL (0), QUOTE_ALL (1), QUOTE_NONNUMERIC (2) or QUOTE_NONE (3).\n",
      "doublequote : bool, default ``True``\n",
      "   When quotechar is specified and quoting is not ``QUOTE_NONE``, indicate\n",
      "   whether or not to interpret two consecutive quotechar elements INSIDE a\n",
      "   field as a single ``quotechar`` element.\n",
      "escapechar : str (length 1), optional\n",
      "    One-character string used to escape other characters.\n",
      "comment : str, optional\n",
      "    Indicates remainder of line should not be parsed. If found at the beginning\n",
      "    of a line, the line will be ignored altogether. This parameter must be a\n",
      "    single character. Like empty lines (as long as ``skip_blank_lines=True``),\n",
      "    fully commented lines are ignored by the parameter `header` but not by\n",
      "    `skiprows`. For example, if ``comment='#'``, parsing\n",
      "    ``#empty\\na,b,c\\n1,2,3`` with ``header=0`` will result in 'a,b,c' being\n",
      "    treated as the header.\n",
      "encoding : str, optional, default \"utf-8\"\n",
      "    Encoding to use for UTF when reading/writing (ex. 'utf-8'). `List of Python\n",
      "    standard encodings\n",
      "    <https://docs.python.org/3/library/codecs.html#standard-encodings>`_ .\n",
      "\n",
      "    .. versionchanged:: 1.2\n",
      "\n",
      "       When ``encoding`` is ``None``, ``errors=\"replace\"`` is passed to\n",
      "       ``open()``. Otherwise, ``errors=\"strict\"`` is passed to ``open()``.\n",
      "       This behavior was previously only the case for ``engine=\"python\"``.\n",
      "\n",
      "    .. versionchanged:: 1.3.0\n",
      "\n",
      "       ``encoding_errors`` is a new argument. ``encoding`` has no longer an\n",
      "       influence on how encoding errors are handled.\n",
      "\n",
      "encoding_errors : str, optional, default \"strict\"\n",
      "    How encoding errors are treated. `List of possible values\n",
      "    <https://docs.python.org/3/library/codecs.html#error-handlers>`_ .\n",
      "\n",
      "    .. versionadded:: 1.3.0\n",
      "\n",
      "dialect : str or csv.Dialect, optional\n",
      "    If provided, this parameter will override values (default or not) for the\n",
      "    following parameters: `delimiter`, `doublequote`, `escapechar`,\n",
      "    `skipinitialspace`, `quotechar`, and `quoting`. If it is necessary to\n",
      "    override values, a ParserWarning will be issued. See csv.Dialect\n",
      "    documentation for more details.\n",
      "on_bad_lines : {'error', 'warn', 'skip'} or callable, default 'error'\n",
      "    Specifies what to do upon encountering a bad line (a line with too many fields).\n",
      "    Allowed values are :\n",
      "\n",
      "        - 'error', raise an Exception when a bad line is encountered.\n",
      "        - 'warn', raise a warning when a bad line is encountered and skip that line.\n",
      "        - 'skip', skip bad lines without raising or warning when they are encountered.\n",
      "\n",
      "    .. versionadded:: 1.3.0\n",
      "\n",
      "    .. versionadded:: 1.4.0\n",
      "\n",
      "        - callable, function with signature\n",
      "          ``(bad_line: list[str]) -> list[str] | None`` that will process a single\n",
      "          bad line. ``bad_line`` is a list of strings split by the ``sep``.\n",
      "          If the function returns ``None``, the bad line will be ignored.\n",
      "          If the function returns a new list of strings with more elements than\n",
      "          expected, a ``ParserWarning`` will be emitted while dropping extra elements.\n",
      "          Only supported when ``engine=\"python\"``\n",
      "\n",
      "delim_whitespace : bool, default False\n",
      "    Specifies whether or not whitespace (e.g. ``' '`` or ``'    '``) will be\n",
      "    used as the sep. Equivalent to setting ``sep='\\s+'``. If this option\n",
      "    is set to True, nothing should be passed in for the ``delimiter``\n",
      "    parameter.\n",
      "low_memory : bool, default True\n",
      "    Internally process the file in chunks, resulting in lower memory use\n",
      "    while parsing, but possibly mixed type inference.  To ensure no mixed\n",
      "    types either set False, or specify the type with the `dtype` parameter.\n",
      "    Note that the entire file is read into a single DataFrame regardless,\n",
      "    use the `chunksize` or `iterator` parameter to return the data in chunks.\n",
      "    (Only valid with C parser).\n",
      "memory_map : bool, default False\n",
      "    If a filepath is provided for `filepath_or_buffer`, map the file object\n",
      "    directly onto memory and access the data directly from there. Using this\n",
      "    option can improve performance because there is no longer any I/O overhead.\n",
      "float_precision : str, optional\n",
      "    Specifies which converter the C engine should use for floating-point\n",
      "    values. The options are ``None`` or 'high' for the ordinary converter,\n",
      "    'legacy' for the original lower precision pandas converter, and\n",
      "    'round_trip' for the round-trip converter.\n",
      "\n",
      "    .. versionchanged:: 1.2\n",
      "\n",
      "storage_options : dict, optional\n",
      "    Extra options that make sense for a particular storage connection, e.g.\n",
      "    host, port, username, password, etc. For HTTP(S) URLs the key-value pairs\n",
      "    are forwarded to ``urllib.request.Request`` as header options. For other\n",
      "    URLs (e.g. starting with \"s3://\", and \"gcs://\") the key-value pairs are\n",
      "    forwarded to ``fsspec.open``. Please see ``fsspec`` and ``urllib`` for more\n",
      "    details, and for more examples on storage options refer `here\n",
      "    <https://pandas.pydata.org/docs/user_guide/io.html?\n",
      "    highlight=storage_options#reading-writing-remote-files>`_.\n",
      "\n",
      "    .. versionadded:: 1.2\n",
      "\n",
      "dtype_backend : {\"numpy_nullable\", \"pyarrow\"}, defaults to NumPy backed DataFrames\n",
      "    Which dtype_backend to use, e.g. whether a DataFrame should have NumPy\n",
      "    arrays, nullable dtypes are used for all dtypes that have a nullable\n",
      "    implementation when \"numpy_nullable\" is set, pyarrow is used for all\n",
      "    dtypes if \"pyarrow\" is set.\n",
      "\n",
      "    The dtype_backends are still experimential.\n",
      "\n",
      "    .. versionadded:: 2.0\n",
      "\n",
      "Returns\n",
      "-------\n",
      "DataFrame or TextFileReader\n",
      "    A comma-separated values (csv) file is returned as two-dimensional\n",
      "    data structure with labeled axes.\n",
      "\n",
      "See Also\n",
      "--------\n",
      "DataFrame.to_csv : Write DataFrame to a comma-separated values (csv) file.\n",
      "read_csv : Read a comma-separated values (csv) file into DataFrame.\n",
      "read_fwf : Read a table of fixed-width formatted lines into DataFrame.\n",
      "\n",
      "Examples\n",
      "--------\n",
      ">>> pd.read_csv('data.csv')  # doctest: +SKIP\n",
      "\u001b[1;31mFile:\u001b[0m      c:\\users\\subarno shankar\\appdata\\local\\packages\\pythonsoftwarefoundation.python.3.11_qbz5n2kfra8p0\\localcache\\local-packages\\python311\\site-packages\\pandas\\io\\parsers\\readers.py\n",
      "\u001b[1;31mType:\u001b[0m      function"
     ]
    }
   ],
   "source": [
    "ptime = []\n",
    "for i in range(1000):\n",
    "    start = time.time()\n",
    "    df_pandas = pd.read_csv('dwd_annual.csv')\n",
    "    df_pandas['precipitation_height'].agg(['min','max','mean','median','std'])\n",
    "    cols=['station_id','precipitation_height'] \n",
    "    df_pandas.sort_values(by=cols,ascending=True)\n",
    "    df_pandas.groupby(\"station_id\", as_index=False)\n",
    "    end = time.time()\n",
    "    ptime.append(end-start)\n",
    "    \n",
    "print(np.mean(ptime))\n"
   ]
  },
  {
   "cell_type": "code",
   "execution_count": 86,
   "metadata": {
    "tags": []
   },
   "outputs": [
    {
     "ename": "FileNotFoundError",
     "evalue": "No such file or directory: ../Data/nonspatial/dwd_annual.csv",
     "output_type": "error",
     "traceback": [
      "\u001b[1;31m---------------------------------------------------------------------------\u001b[0m",
      "\u001b[1;31mFileNotFoundError\u001b[0m                         Traceback (most recent call last)",
      "Cell \u001b[1;32mIn[86], line 4\u001b[0m\n\u001b[0;32m      2\u001b[0m \u001b[39mfor\u001b[39;00m i \u001b[39min\u001b[39;00m \u001b[39mrange\u001b[39m(\u001b[39m1000\u001b[39m):\n\u001b[0;32m      3\u001b[0m     start \u001b[39m=\u001b[39m time\u001b[39m.\u001b[39mtime()\n\u001b[1;32m----> 4\u001b[0m     df_polars \u001b[39m=\u001b[39m pl\u001b[39m.\u001b[39;49mread_csv(\u001b[39m\"\u001b[39;49m\u001b[39m../Data/nonspatial/dwd_annual.csv\u001b[39;49m\u001b[39m\"\u001b[39;49m)\n\u001b[0;32m      5\u001b[0m     df_polars\u001b[39m.\u001b[39mwith_columns([\n\u001b[0;32m      6\u001b[0m         pl\u001b[39m.\u001b[39mcol(\u001b[39m'\u001b[39m\u001b[39mprecipitation_height\u001b[39m\u001b[39m'\u001b[39m)\u001b[39m.\u001b[39mmin()\u001b[39m.\u001b[39msuffix(\u001b[39m'\u001b[39m\u001b[39m_min\u001b[39m\u001b[39m'\u001b[39m),\n\u001b[0;32m      7\u001b[0m         pl\u001b[39m.\u001b[39mcol(\u001b[39m'\u001b[39m\u001b[39mprecipitation_height\u001b[39m\u001b[39m'\u001b[39m)\u001b[39m.\u001b[39mmax()\u001b[39m.\u001b[39msuffix(\u001b[39m'\u001b[39m\u001b[39m_max\u001b[39m\u001b[39m'\u001b[39m),\n\u001b[1;32m   (...)\u001b[0m\n\u001b[0;32m     10\u001b[0m         pl\u001b[39m.\u001b[39mcol(\u001b[39m'\u001b[39m\u001b[39mprecipitation_height\u001b[39m\u001b[39m'\u001b[39m)\u001b[39m.\u001b[39mstd()\u001b[39m.\u001b[39msuffix(\u001b[39m'\u001b[39m\u001b[39m_std\u001b[39m\u001b[39m'\u001b[39m)\n\u001b[0;32m     11\u001b[0m     ])\n\u001b[0;32m     12\u001b[0m     cols\u001b[39m=\u001b[39m[\u001b[39m'\u001b[39m\u001b[39mstation_id\u001b[39m\u001b[39m'\u001b[39m,\u001b[39m'\u001b[39m\u001b[39mprecipitation_height\u001b[39m\u001b[39m'\u001b[39m] \n",
      "File \u001b[1;32m~\\AppData\\Local\\Packages\\PythonSoftwareFoundation.Python.3.11_qbz5n2kfra8p0\\LocalCache\\local-packages\\Python311\\site-packages\\polars\\io\\csv\\functions.py:354\u001b[0m, in \u001b[0;36mread_csv\u001b[1;34m(source, has_header, columns, new_columns, separator, comment_char, quote_char, skip_rows, dtypes, null_values, missing_utf8_is_empty_string, ignore_errors, try_parse_dates, n_threads, infer_schema_length, batch_size, n_rows, encoding, low_memory, rechunk, use_pyarrow, storage_options, skip_rows_after_header, row_count_name, row_count_offset, sample_size, eol_char)\u001b[0m\n\u001b[0;32m    346\u001b[0m         dtypes \u001b[39m=\u001b[39m {\n\u001b[0;32m    347\u001b[0m             new_to_current\u001b[39m.\u001b[39mget(column_name, column_name): column_dtype\n\u001b[0;32m    348\u001b[0m             \u001b[39mfor\u001b[39;00m column_name, column_dtype \u001b[39min\u001b[39;00m dtypes\u001b[39m.\u001b[39mitems()\n\u001b[0;32m    349\u001b[0m         }\n\u001b[0;32m    351\u001b[0m \u001b[39mwith\u001b[39;00m _prepare_file_arg(\n\u001b[0;32m    352\u001b[0m     source, encoding\u001b[39m=\u001b[39mencoding, use_pyarrow\u001b[39m=\u001b[39m\u001b[39mFalse\u001b[39;00m, \u001b[39m*\u001b[39m\u001b[39m*\u001b[39mstorage_options\n\u001b[0;32m    353\u001b[0m ) \u001b[39mas\u001b[39;00m data:\n\u001b[1;32m--> 354\u001b[0m     df \u001b[39m=\u001b[39m pl\u001b[39m.\u001b[39;49mDataFrame\u001b[39m.\u001b[39;49m_read_csv(\n\u001b[0;32m    355\u001b[0m         data,\n\u001b[0;32m    356\u001b[0m         has_header\u001b[39m=\u001b[39;49mhas_header,\n\u001b[0;32m    357\u001b[0m         columns\u001b[39m=\u001b[39;49mcolumns \u001b[39mif\u001b[39;49;00m columns \u001b[39melse\u001b[39;49;00m projection,\n\u001b[0;32m    358\u001b[0m         separator\u001b[39m=\u001b[39;49mseparator,\n\u001b[0;32m    359\u001b[0m         comment_char\u001b[39m=\u001b[39;49mcomment_char,\n\u001b[0;32m    360\u001b[0m         quote_char\u001b[39m=\u001b[39;49mquote_char,\n\u001b[0;32m    361\u001b[0m         skip_rows\u001b[39m=\u001b[39;49mskip_rows,\n\u001b[0;32m    362\u001b[0m         dtypes\u001b[39m=\u001b[39;49mdtypes,\n\u001b[0;32m    363\u001b[0m         null_values\u001b[39m=\u001b[39;49mnull_values,\n\u001b[0;32m    364\u001b[0m         missing_utf8_is_empty_string\u001b[39m=\u001b[39;49mmissing_utf8_is_empty_string,\n\u001b[0;32m    365\u001b[0m         ignore_errors\u001b[39m=\u001b[39;49mignore_errors,\n\u001b[0;32m    366\u001b[0m         try_parse_dates\u001b[39m=\u001b[39;49mtry_parse_dates,\n\u001b[0;32m    367\u001b[0m         n_threads\u001b[39m=\u001b[39;49mn_threads,\n\u001b[0;32m    368\u001b[0m         infer_schema_length\u001b[39m=\u001b[39;49minfer_schema_length,\n\u001b[0;32m    369\u001b[0m         batch_size\u001b[39m=\u001b[39;49mbatch_size,\n\u001b[0;32m    370\u001b[0m         n_rows\u001b[39m=\u001b[39;49mn_rows,\n\u001b[0;32m    371\u001b[0m         encoding\u001b[39m=\u001b[39;49mencoding \u001b[39mif\u001b[39;49;00m encoding \u001b[39m==\u001b[39;49m \u001b[39m\"\u001b[39;49m\u001b[39mutf8-lossy\u001b[39;49m\u001b[39m\"\u001b[39;49m \u001b[39melse\u001b[39;49;00m \u001b[39m\"\u001b[39;49m\u001b[39mutf8\u001b[39;49m\u001b[39m\"\u001b[39;49m,\n\u001b[0;32m    372\u001b[0m         low_memory\u001b[39m=\u001b[39;49mlow_memory,\n\u001b[0;32m    373\u001b[0m         rechunk\u001b[39m=\u001b[39;49mrechunk,\n\u001b[0;32m    374\u001b[0m         skip_rows_after_header\u001b[39m=\u001b[39;49mskip_rows_after_header,\n\u001b[0;32m    375\u001b[0m         row_count_name\u001b[39m=\u001b[39;49mrow_count_name,\n\u001b[0;32m    376\u001b[0m         row_count_offset\u001b[39m=\u001b[39;49mrow_count_offset,\n\u001b[0;32m    377\u001b[0m         sample_size\u001b[39m=\u001b[39;49msample_size,\n\u001b[0;32m    378\u001b[0m         eol_char\u001b[39m=\u001b[39;49meol_char,\n\u001b[0;32m    379\u001b[0m     )\n\u001b[0;32m    381\u001b[0m \u001b[39mif\u001b[39;00m new_columns:\n\u001b[0;32m    382\u001b[0m     \u001b[39mreturn\u001b[39;00m _update_columns(df, new_columns)\n",
      "File \u001b[1;32m~\\AppData\\Local\\Packages\\PythonSoftwareFoundation.Python.3.11_qbz5n2kfra8p0\\LocalCache\\local-packages\\Python311\\site-packages\\polars\\dataframe\\frame.py:784\u001b[0m, in \u001b[0;36mDataFrame._read_csv\u001b[1;34m(cls, source, has_header, columns, separator, comment_char, quote_char, skip_rows, dtypes, null_values, missing_utf8_is_empty_string, ignore_errors, try_parse_dates, n_threads, infer_schema_length, batch_size, n_rows, encoding, low_memory, rechunk, skip_rows_after_header, row_count_name, row_count_offset, sample_size, eol_char)\u001b[0m\n\u001b[0;32m    777\u001b[0m         \u001b[39mraise\u001b[39;00m \u001b[39mValueError\u001b[39;00m(\n\u001b[0;32m    778\u001b[0m             \u001b[39m\"\u001b[39m\u001b[39mcannot use glob patterns and integer based projection as `columns`\u001b[39m\u001b[39m\"\u001b[39m\n\u001b[0;32m    779\u001b[0m             \u001b[39m\"\u001b[39m\u001b[39m argument; Use columns: List[str]\u001b[39m\u001b[39m\"\u001b[39m\n\u001b[0;32m    780\u001b[0m         )\n\u001b[0;32m    782\u001b[0m projection, columns \u001b[39m=\u001b[39m handle_projection_columns(columns)\n\u001b[1;32m--> 784\u001b[0m \u001b[39mself\u001b[39m\u001b[39m.\u001b[39m_df \u001b[39m=\u001b[39m PyDataFrame\u001b[39m.\u001b[39;49mread_csv(\n\u001b[0;32m    785\u001b[0m     source,\n\u001b[0;32m    786\u001b[0m     infer_schema_length,\n\u001b[0;32m    787\u001b[0m     batch_size,\n\u001b[0;32m    788\u001b[0m     has_header,\n\u001b[0;32m    789\u001b[0m     ignore_errors,\n\u001b[0;32m    790\u001b[0m     n_rows,\n\u001b[0;32m    791\u001b[0m     skip_rows,\n\u001b[0;32m    792\u001b[0m     projection,\n\u001b[0;32m    793\u001b[0m     separator,\n\u001b[0;32m    794\u001b[0m     rechunk,\n\u001b[0;32m    795\u001b[0m     columns,\n\u001b[0;32m    796\u001b[0m     encoding,\n\u001b[0;32m    797\u001b[0m     n_threads,\n\u001b[0;32m    798\u001b[0m     path,\n\u001b[0;32m    799\u001b[0m     dtype_list,\n\u001b[0;32m    800\u001b[0m     dtype_slice,\n\u001b[0;32m    801\u001b[0m     low_memory,\n\u001b[0;32m    802\u001b[0m     comment_char,\n\u001b[0;32m    803\u001b[0m     quote_char,\n\u001b[0;32m    804\u001b[0m     processed_null_values,\n\u001b[0;32m    805\u001b[0m     missing_utf8_is_empty_string,\n\u001b[0;32m    806\u001b[0m     try_parse_dates,\n\u001b[0;32m    807\u001b[0m     skip_rows_after_header,\n\u001b[0;32m    808\u001b[0m     _prepare_row_count_args(row_count_name, row_count_offset),\n\u001b[0;32m    809\u001b[0m     sample_size\u001b[39m=\u001b[39;49msample_size,\n\u001b[0;32m    810\u001b[0m     eol_char\u001b[39m=\u001b[39;49meol_char,\n\u001b[0;32m    811\u001b[0m )\n\u001b[0;32m    812\u001b[0m \u001b[39mreturn\u001b[39;00m \u001b[39mself\u001b[39m\n",
      "\u001b[1;31mFileNotFoundError\u001b[0m: No such file or directory: ../Data/nonspatial/dwd_annual.csv"
     ]
    }
   ],
   "source": [
    "ptime = []\n",
    "for i in range(1000):\n",
    "    start = time.time()\n",
    "    df_polars = pl.read_csv(\"../Data/nonspatial/dwd_annual.csv\")\n",
    "    df_polars.with_columns([\n",
    "        pl.col('precipitation_height').min().suffix('_min'),\n",
    "        pl.col('precipitation_height').max().suffix('_max'),\n",
    "        pl.col('precipitation_height').mean().suffix('_mean'),\n",
    "        pl.col('precipitation_height').median().suffix('_median'),\n",
    "        pl.col('precipitation_height').std().suffix('_std')\n",
    "    ])\n",
    "    cols=['station_id','precipitation_height'] \n",
    "    df_polars.sort(cols,descending=False)\n",
    "    df_polars.groupby(\"station_id\")\n",
    "    end = time.time()\n",
    "    ptime.append(end-start)\n",
    "    \n",
    "print(np.mean(ptime))"
   ]
  },
  {
   "attachments": {},
   "cell_type": "markdown",
   "metadata": {
    "tags": []
   },
   "source": [
    "## Exercise 7\n",
    "\n",
    "- Import ***GlobalLandTemperaturesByMajorCity.csv***\n",
    "- Look at the first 5 entries\n",
    "- Print the name of all the columns\n",
    "- What is the number of observations in the dataset?\n",
    "-  Display a summary of the basic information about this DataFrame and its data.\n",
    "- Select just the 'AverageTemperature' and 'City' columns from the DataFrame\n",
    "- Count the number of cities in the dataset\n",
    "- Calculate the mean temperature for each city over all years. Sort the values in the 'AverageTemperature' - in decending order\n",
    "- Calculate the maximal AverageTemperature in european cities between 1990 and 2013"
   ]
  },
  {
   "attachments": {},
   "cell_type": "markdown",
   "metadata": {},
   "source": []
  },
  {
   "attachments": {},
   "cell_type": "markdown",
   "metadata": {},
   "source": [
    " Importing the Dataset ***GlobalLandTemperaturesByMajorCity.csv***"
   ]
  },
  {
   "cell_type": "code",
   "execution_count": 102,
   "metadata": {},
   "outputs": [
    {
     "data": {
      "text/html": [
       "<div>\n",
       "<style scoped>\n",
       "    .dataframe tbody tr th:only-of-type {\n",
       "        vertical-align: middle;\n",
       "    }\n",
       "\n",
       "    .dataframe tbody tr th {\n",
       "        vertical-align: top;\n",
       "    }\n",
       "\n",
       "    .dataframe thead th {\n",
       "        text-align: right;\n",
       "    }\n",
       "</style>\n",
       "<table border=\"1\" class=\"dataframe\">\n",
       "  <thead>\n",
       "    <tr style=\"text-align: right;\">\n",
       "      <th></th>\n",
       "      <th>dt</th>\n",
       "      <th>AverageTemperature</th>\n",
       "      <th>AverageTemperatureUncertainty</th>\n",
       "      <th>City</th>\n",
       "      <th>Country</th>\n",
       "      <th>Latitude</th>\n",
       "      <th>Longitude</th>\n",
       "    </tr>\n",
       "  </thead>\n",
       "  <tbody>\n",
       "    <tr>\n",
       "      <th>0</th>\n",
       "      <td>1849-01-01</td>\n",
       "      <td>26.704</td>\n",
       "      <td>1.435</td>\n",
       "      <td>Abidjan</td>\n",
       "      <td>Côte D'Ivoire</td>\n",
       "      <td>5.63N</td>\n",
       "      <td>3.23W</td>\n",
       "    </tr>\n",
       "    <tr>\n",
       "      <th>1</th>\n",
       "      <td>1849-02-01</td>\n",
       "      <td>27.434</td>\n",
       "      <td>1.362</td>\n",
       "      <td>Abidjan</td>\n",
       "      <td>Côte D'Ivoire</td>\n",
       "      <td>5.63N</td>\n",
       "      <td>3.23W</td>\n",
       "    </tr>\n",
       "    <tr>\n",
       "      <th>2</th>\n",
       "      <td>1849-03-01</td>\n",
       "      <td>28.101</td>\n",
       "      <td>1.612</td>\n",
       "      <td>Abidjan</td>\n",
       "      <td>Côte D'Ivoire</td>\n",
       "      <td>5.63N</td>\n",
       "      <td>3.23W</td>\n",
       "    </tr>\n",
       "    <tr>\n",
       "      <th>3</th>\n",
       "      <td>1849-04-01</td>\n",
       "      <td>26.140</td>\n",
       "      <td>1.387</td>\n",
       "      <td>Abidjan</td>\n",
       "      <td>Côte D'Ivoire</td>\n",
       "      <td>5.63N</td>\n",
       "      <td>3.23W</td>\n",
       "    </tr>\n",
       "    <tr>\n",
       "      <th>4</th>\n",
       "      <td>1849-05-01</td>\n",
       "      <td>25.427</td>\n",
       "      <td>1.200</td>\n",
       "      <td>Abidjan</td>\n",
       "      <td>Côte D'Ivoire</td>\n",
       "      <td>5.63N</td>\n",
       "      <td>3.23W</td>\n",
       "    </tr>\n",
       "    <tr>\n",
       "      <th>...</th>\n",
       "      <td>...</td>\n",
       "      <td>...</td>\n",
       "      <td>...</td>\n",
       "      <td>...</td>\n",
       "      <td>...</td>\n",
       "      <td>...</td>\n",
       "      <td>...</td>\n",
       "    </tr>\n",
       "    <tr>\n",
       "      <th>239172</th>\n",
       "      <td>2013-05-01</td>\n",
       "      <td>18.979</td>\n",
       "      <td>0.807</td>\n",
       "      <td>Xian</td>\n",
       "      <td>China</td>\n",
       "      <td>34.56N</td>\n",
       "      <td>108.97E</td>\n",
       "    </tr>\n",
       "    <tr>\n",
       "      <th>239173</th>\n",
       "      <td>2013-06-01</td>\n",
       "      <td>23.522</td>\n",
       "      <td>0.647</td>\n",
       "      <td>Xian</td>\n",
       "      <td>China</td>\n",
       "      <td>34.56N</td>\n",
       "      <td>108.97E</td>\n",
       "    </tr>\n",
       "    <tr>\n",
       "      <th>239174</th>\n",
       "      <td>2013-07-01</td>\n",
       "      <td>25.251</td>\n",
       "      <td>1.042</td>\n",
       "      <td>Xian</td>\n",
       "      <td>China</td>\n",
       "      <td>34.56N</td>\n",
       "      <td>108.97E</td>\n",
       "    </tr>\n",
       "    <tr>\n",
       "      <th>239175</th>\n",
       "      <td>2013-08-01</td>\n",
       "      <td>24.528</td>\n",
       "      <td>0.840</td>\n",
       "      <td>Xian</td>\n",
       "      <td>China</td>\n",
       "      <td>34.56N</td>\n",
       "      <td>108.97E</td>\n",
       "    </tr>\n",
       "    <tr>\n",
       "      <th>239176</th>\n",
       "      <td>2013-09-01</td>\n",
       "      <td>NaN</td>\n",
       "      <td>NaN</td>\n",
       "      <td>Xian</td>\n",
       "      <td>China</td>\n",
       "      <td>34.56N</td>\n",
       "      <td>108.97E</td>\n",
       "    </tr>\n",
       "  </tbody>\n",
       "</table>\n",
       "<p>239177 rows × 7 columns</p>\n",
       "</div>"
      ],
      "text/plain": [
       "                dt  AverageTemperature  AverageTemperatureUncertainty   \n",
       "0       1849-01-01              26.704                          1.435  \\\n",
       "1       1849-02-01              27.434                          1.362   \n",
       "2       1849-03-01              28.101                          1.612   \n",
       "3       1849-04-01              26.140                          1.387   \n",
       "4       1849-05-01              25.427                          1.200   \n",
       "...            ...                 ...                            ...   \n",
       "239172  2013-05-01              18.979                          0.807   \n",
       "239173  2013-06-01              23.522                          0.647   \n",
       "239174  2013-07-01              25.251                          1.042   \n",
       "239175  2013-08-01              24.528                          0.840   \n",
       "239176  2013-09-01                 NaN                            NaN   \n",
       "\n",
       "           City        Country Latitude Longitude  \n",
       "0       Abidjan  Côte D'Ivoire    5.63N     3.23W  \n",
       "1       Abidjan  Côte D'Ivoire    5.63N     3.23W  \n",
       "2       Abidjan  Côte D'Ivoire    5.63N     3.23W  \n",
       "3       Abidjan  Côte D'Ivoire    5.63N     3.23W  \n",
       "4       Abidjan  Côte D'Ivoire    5.63N     3.23W  \n",
       "...         ...            ...      ...       ...  \n",
       "239172     Xian          China   34.56N   108.97E  \n",
       "239173     Xian          China   34.56N   108.97E  \n",
       "239174     Xian          China   34.56N   108.97E  \n",
       "239175     Xian          China   34.56N   108.97E  \n",
       "239176     Xian          China   34.56N   108.97E  \n",
       "\n",
       "[239177 rows x 7 columns]"
      ]
     },
     "execution_count": 102,
     "metadata": {},
     "output_type": "execute_result"
    }
   ],
   "source": [
    "# Importing the Dataset\n",
    "import pandas as pd \n",
    "df = pd.read_csv('GlobalLandTemperaturesByMajorCity.csv')\n",
    "df\n",
    "\n",
    "# Looking at the first 5 entries\n"
   ]
  },
  {
   "attachments": {},
   "cell_type": "markdown",
   "metadata": {
    "slideshow": {
     "slide_type": "slide"
    }
   },
   "source": [
    " ## Visualize data with python\n",
    "\n",
    "Producing high-quality graphics is one of the main reasons for doing statistical computing. For this purpose, we will use the matplotlib library, which is probably the most used python library for 2D-graphics. Matplotlib is the \"grandfather\" library of data visualization with Python. It was created by John Hunter. Matplotlib allows a quick data visualization and the creation of publication-quality figures.\n",
    "Import matplotlib's pyplot module as well as numpy and pandas.\n",
    "(Pyplot is a module in the matplotlib package. The module allows you to implicitly and automatically create figures and axes)"
   ]
  },
  {
   "attachments": {},
   "cell_type": "markdown",
   "metadata": {},
   "source": [
    "Some of the major Pros of Matplotlib are:\n",
    "\n",
    "- easy to get started for simple plots\n",
    "- custom labels and texts\n",
    "- control of every element in a figure\n",
    "- high-quality output in many formats\n",
    " "
   ]
  },
  {
   "cell_type": "code",
   "execution_count": null,
   "metadata": {
    "slideshow": {
     "slide_type": "slide"
    }
   },
   "outputs": [],
   "source": [
    "%pip install matplotlib"
   ]
  },
  {
   "cell_type": "code",
   "execution_count": null,
   "metadata": {
    "slideshow": {
     "slide_type": "slide"
    }
   },
   "outputs": [],
   "source": [
    "%matplotlib inline\n",
    "import matplotlib.pyplot as plt\n",
    "import numpy as np\n",
    "import pandas as pd"
   ]
  },
  {
   "attachments": {},
   "cell_type": "markdown",
   "metadata": {
    "slideshow": {
     "slide_type": "slide"
    }
   },
   "source": [
    "#### A Basic Plot\n",
    "\n",
    "First we start with something easy."
   ]
  },
  {
   "cell_type": "code",
   "execution_count": null,
   "metadata": {},
   "outputs": [],
   "source": [
    "df = pd.read_csv('../Data/nonspatial/dwd_annual.csv')\n",
    "df"
   ]
  },
  {
   "cell_type": "code",
   "execution_count": null,
   "metadata": {},
   "outputs": [],
   "source": [
    "temp_wue = df[(df['station_id'] == 'Würzburg')]\n",
    "temp_wue"
   ]
  },
  {
   "cell_type": "code",
   "execution_count": null,
   "metadata": {},
   "outputs": [],
   "source": [
    "plt.plot(temp_wue['mean_temp_c'])"
   ]
  },
  {
   "attachments": {},
   "cell_type": "markdown",
   "metadata": {},
   "source": [
    "That was easy. But in order to customize our plot we have to understand a bit more about how the plt.plot() works. \n",
    "The plt.plot accepts 3 basic arguments in the following order: (x, y, format). Let's look deeper into the format parameter. If we want to change the styling of our plot we can do this via the a combination of {color}{marker}{line}. Let's assume we want to plot a green dots connected by dashed line. Therefor we would use the formatting code 'go--'."
   ]
  },
  {
   "cell_type": "code",
   "execution_count": null,
   "metadata": {
    "scrolled": true
   },
   "outputs": [],
   "source": [
    "plt.plot(temp_wue['mean_temp_c'],'go--' )"
   ]
  },
  {
   "attachments": {},
   "cell_type": "markdown",
   "metadata": {},
   "source": [
    "Of course matplotlib offers a bunch of diffrent styling options:\n",
    "- 'b'    : blue markers with default shape\n",
    "- 'or'   : red circles\n",
    "- '-g'   : green solid line\n",
    "- '--'   : dashed line with default color\n",
    "- '^k:'  : black triangle_up markers connected by a dotted line\n",
    "- 'r*--' : ‘red stars with dashed lines’\n",
    "- 'kp:' : ‘black pentagons with dotted line’\n",
    "- 'bD-.' : ‘blue diamonds with the dash-dot line’."
   ]
  },
  {
   "attachments": {},
   "cell_type": "markdown",
   "metadata": {},
   "source": [
    "Now that we have our first plot lets go through the things which are still missing. First of all we can see that the x-axis is still showing wrong values. This is because matplotlib will use the index by default. Let's change this"
   ]
  },
  {
   "cell_type": "code",
   "execution_count": null,
   "metadata": {},
   "outputs": [],
   "source": [
    "plt.plot(temp_wue['year'],temp_wue['mean_temp_c'])"
   ]
  },
  {
   "attachments": {},
   "cell_type": "markdown",
   "metadata": {},
   "source": [
    "matplotlib offers a variety of different plot types. Here are just a few examples"
   ]
  },
  {
   "cell_type": "code",
   "execution_count": null,
   "metadata": {},
   "outputs": [],
   "source": [
    "#plt.scatter(temp_wue['year'],temp_wue['mean_temp_c'])\n",
    "#plt.bar(temp_wue['year'],temp_wue['mean_temp_c'])\n",
    "#plt.stem(temp_wue['year'],temp_wue['mean_temp_c'])\n",
    "#plt.hist(temp_wue['mean_temp_c'])\n",
    "#plt.step(temp_wue['year'],temp_wue['mean_temp_c'])\n",
    "#plt.boxplot(temp_wue[['mean_temp_c','min_temp_c','max_temp_c']])\n",
    "plt.violinplot(temp_wue[['mean_temp_c','min_temp_c','max_temp_c']])"
   ]
  },
  {
   "attachments": {},
   "cell_type": "markdown",
   "metadata": {},
   "source": [
    "But let's move back to our lineplot. We already managed to plot the temperature per year. But of course a proper plot consists of more elements than just the graph and its values. "
   ]
  },
  {
   "attachments": {},
   "cell_type": "markdown",
   "metadata": {},
   "source": [
    "<img src=\"images/matplot.jpg\"  width=600/>"
   ]
  },
  {
   "cell_type": "code",
   "execution_count": null,
   "metadata": {},
   "outputs": [],
   "source": [
    "plt.figure(figsize=(18,4), dpi=120)\n",
    "plt.plot(temp_wue['year'],temp_wue['mean_temp_c'], label='Würzburg')\n",
    "plt.title('Mean Temperature Würzburg')\n",
    "plt.xlabel('Year')\n",
    "plt.ylabel('Temperature in °Celsius')\n",
    "plt.legend(loc='best')"
   ]
  },
  {
   "attachments": {},
   "cell_type": "markdown",
   "metadata": {},
   "source": [
    "Let's also add the maximum and the minimum temperature to our graph by just adding another plt.plot()"
   ]
  },
  {
   "cell_type": "code",
   "execution_count": null,
   "metadata": {},
   "outputs": [],
   "source": [
    "plt.figure(figsize=(18,4), dpi=120)\n",
    "plt.plot(temp_wue['year'],temp_wue['mean_temp_c'],'-g', label='mean_temp')\n",
    "plt.plot(temp_wue['year'],temp_wue['max_temp_c'],'-r', label='max_temp')\n",
    "plt.plot(temp_wue['year'],temp_wue['min_temp_c'],'-b', label='min_temp')\n",
    "plt.title('Temperature Würzburg')\n",
    "plt.xlabel('Year')\n",
    "plt.ylabel('Temperature in °Celsius')\n",
    "plt.legend(loc='best')\n",
    "plt.grid(True)"
   ]
  },
  {
   "attachments": {},
   "cell_type": "markdown",
   "metadata": {},
   "source": [
    "You can use the subplot() method to add more than one plot in a figure"
   ]
  },
  {
   "cell_type": "code",
   "execution_count": null,
   "metadata": {},
   "outputs": [],
   "source": [
    "temp_bam = df[(df['station_id'] == 'Bamberg')]\n",
    "temp_bam"
   ]
  },
  {
   "cell_type": "code",
   "execution_count": null,
   "metadata": {},
   "outputs": [],
   "source": [
    "plt.figure(figsize=(18, 4))\n",
    "plt.subplot(1,2,1)\n",
    "plt.plot(temp_wue['year'],temp_wue['mean_temp_c'], label='Würzburg')\n",
    "plt.title('Würzburg')\n",
    "plt.xlabel('Year')\n",
    "plt.ylabel('Temperature in °Celsius')\n",
    "\n",
    "plt.subplot(1,2,2)\n",
    "plt.plot(temp_bam['year'],temp_bam['mean_temp_c'], label='Bamberg')\n",
    "plt.title('Bamberg')\n",
    "plt.xlabel('Year')\n",
    "plt.ylabel('Temperature in °Celsius')\n",
    "\n",
    "plt.suptitle('Annual Temperature in Würzburg and Bamberg')\n",
    "plt.show()\n"
   ]
  },
  {
   "cell_type": "code",
   "execution_count": null,
   "metadata": {},
   "outputs": [],
   "source": [
    "plt.figure(figsize=(18, 4))\n",
    "plt.subplot(2,1,1)\n",
    "plt.plot(temp_wue['year'],temp_wue['mean_temp_c'], label='Würzburg')\n",
    "plt.title('Würzburg')\n",
    "plt.xlabel('Year')\n",
    "plt.ylabel('Temperature in °Celsius')\n",
    "\n",
    "plt.subplot(2,1,2)\n",
    "plt.plot(temp_bam['year'],temp_bam['mean_temp_c'], label='Bamberg')\n",
    "plt.title('Bamberg')\n",
    "plt.xlabel('Year')\n",
    "plt.ylabel('Temperature in °Celsius')\n",
    "\n",
    "plt.suptitle('Annual Temperature in Würzburg and Bamberg')\n",
    "plt.show()"
   ]
  },
  {
   "attachments": {},
   "cell_type": "markdown",
   "metadata": {},
   "source": [
    "Unitl now you had a first glimpse into the world of matplotlib. But in order to create more advanced plot it is important to know a little bit more abbout matplotlib. One important big-picture matplotlib concept is its object hierarchy.\n",
    "\n",
    "We already called the function plt.plot(). This one-liner hides the fact that a plot is really a hierarchy of nested Python objects. A “hierarchy” here means that there is a tree-like structure of matplotlib objects underlying each plot."
   ]
  },
  {
   "attachments": {},
   "cell_type": "markdown",
   "metadata": {},
   "source": [
    "####   The Matplotlib Object Hierarchy\n",
    "\n",
    "\n",
    "- When we call plt.plot(x, y), we internally create a hierarchy of nested Python objects: Figure and Axes.\n",
    "\n",
    "- A Figure object is the outermost container for a matplotlib graphic, which can contain multiple Axes objects.\n",
    "\n",
    "- An Axes actually translates into what we think of as an individual plot or graph\n",
    "\n",
    "- Below the Axes in the hierarchy are smaller objects such as tick marks, individual lines, legends, and text boxes. Almost every “element” of a chart is its own manipulable Python object, all the way down to the ticks and labels\n",
    "\n",
    "\n",
    "<img src=\"images/matplot.png\" width=300/>\n",
    "\n",
    "\n",
    "You can think of the Figure object as a box-like container holding one or more Axes (actual plots). Below the Axes in the hierarchy are smaller objects such as tick marks, individual lines, legends, and text boxes. Almost every “element” of a chart is its own manipulable Python object, all the way down to the ticks and labels."
   ]
  },
  {
   "attachments": {},
   "cell_type": "markdown",
   "metadata": {},
   "source": [
    "### Pyplot vs. Object-Oriented\n",
    "\n",
    "matplotlib on the surface is made to imitate MATLAB's methods. All the pyplot commands make changes and modify the same figure. This is a state-based interface, where the state (i.e., the figure) is preserved through various function calls (i.e., the methods that modify the figure). This interface allows us to quickly and easily generate plots. The state-based nature of the interface allows us to add elements and/or modify the plot as we need, when we need it. This is the method which we have already used."
   ]
  },
  {
   "attachments": {},
   "cell_type": "markdown",
   "metadata": {},
   "source": [
    "The pyplot interface makes it quite easy to create fast and easy plots. So why should we use a different method. Here is an example:"
   ]
  },
  {
   "cell_type": "code",
   "execution_count": null,
   "metadata": {},
   "outputs": [],
   "source": [
    "plt.figure(figsize=(18,4), dpi=120)\n",
    "plt.plot(temp_wue['year'],temp_wue['mean_temp_c'],'-r', label='max_temp')\n",
    "plt.plot(temp_wue['year'],temp_wue['precipitation_height'],'-b', label='prec_height')\n",
    "plt.title('Temperature Würzburg')\n",
    "plt.xlabel('Year')\n",
    "plt.ylabel('Temperature in °Celsius')\n",
    "plt.legend(loc='best')\n",
    "plt.grid(True)"
   ]
  },
  {
   "attachments": {},
   "cell_type": "markdown",
   "metadata": {},
   "source": [
    "Here, we run into some obvious and serious issues. We can see that since both the quantities share the same axis but have very different magnitudes, the graph looks disproportionate. What we need to do is separate the two quantities on two different axes. This is where the second approach to making plot comes into play.\n",
    "\n",
    "Also, the pyplot approach doesn't really scale when we are required to make multiple plots or when we have to make intricate plots that require a lot of customisation. However, internally matplotlib has an Object-Oriented interface that can be accessed just as easily, which allows to reuse objects.\n",
    "\n",
    "Although this looks more complicated, using this method gives us full control over the plot"
   ]
  },
  {
   "attachments": {},
   "cell_type": "markdown",
   "metadata": {},
   "source": [
    "<img src=\"https://matplotlib.org/stable/_images/anatomy.png\" width=600 />"
   ]
  },
  {
   "cell_type": "code",
   "execution_count": null,
   "metadata": {},
   "outputs": [],
   "source": [
    "fig, ax1 = plt.subplots()\n",
    "\n",
    "ax1.set_ylabel(\"precipitation height\")\n",
    "ax1.set_xlabel(\"Year\")\n",
    "ax1.bar(temp_wue['year'],temp_wue['precipitation_height'], color='skyblue')\n",
    "ax1.set_ylabel('Precipitation in mm')\n",
    "ax1.yaxis.label.set_color('skyblue')\n",
    "ax1.tick_params(axis='y', labelcolor='skyblue')\n",
    "ax2 = ax1.twinx() # create another y-axis sharing a common x-axis\n",
    "ax2.set_ylabel(\"temperature air mean\")\n",
    "ax2.set_xlabel(\"Year\")\n",
    "ax2.plot(temp_wue['year'],temp_wue['mean_temp_c'], \"red\")\n",
    "ax2.set_ylabel('Temperature in °C')\n",
    "ax2.yaxis.label.set_color('red')\n",
    "ax2.tick_params(axis='y', labelcolor='red')\n",
    "\n",
    "fig.set_size_inches(7,3)\n",
    "fig.set_dpi(100)\n",
    "\n",
    "plt.show()"
   ]
  },
  {
   "attachments": {},
   "cell_type": "markdown",
   "metadata": {},
   "source": [
    "or we can do something like that"
   ]
  },
  {
   "cell_type": "code",
   "execution_count": null,
   "metadata": {},
   "outputs": [],
   "source": [
    "fig, ax1 = plt.subplots(figsize=(10,6))\n",
    "ax1.set_ylabel(\"temperature air mean\")\n",
    "ax1.set_xlabel(\"year\")\n",
    "ax1.set_xlabel(\"temperature\")\n",
    "ax1.plot(temp_wue['year'],temp_wue['mean_temp_c'], \"red\")\n",
    "ax1.set_ylabel('Temperature in °C')\n",
    "l, b, h, w = .19, .65, .2, .2\n",
    "ax2 = fig.add_axes([l, b, w, h])\n",
    "ax2.set_ylabel(\"precipitation height\")\n",
    "ax2.set_xlabel(\"year\")\n",
    "ax2.set_ylabel(\"precipitation\")\n",
    "ax2.bar(temp_wue['year'],temp_wue['precipitation_height'])\n",
    "ax2.set_ylabel('Precipitation in mm')\n",
    "plt.show()"
   ]
  },
  {
   "attachments": {},
   "cell_type": "markdown",
   "metadata": {
    "tags": []
   },
   "source": [
    "## Customizing Matplotlib"
   ]
  },
  {
   "cell_type": "code",
   "execution_count": null,
   "metadata": {
    "tags": []
   },
   "outputs": [],
   "source": [
    "import numpy as np\n",
    "import matplotlib.pyplot as plt\n",
    "%matplotlib inline"
   ]
  },
  {
   "cell_type": "code",
   "execution_count": null,
   "metadata": {
    "tags": []
   },
   "outputs": [],
   "source": [
    "x = np.random.randn(1000)\n",
    "plt.hist(x);"
   ]
  },
  {
   "attachments": {},
   "cell_type": "markdown",
   "metadata": {
    "tags": []
   },
   "source": [
    "### Customization by Hand"
   ]
  },
  {
   "cell_type": "code",
   "execution_count": null,
   "metadata": {
    "tags": []
   },
   "outputs": [],
   "source": [
    "ax = plt.axes(facecolor='#E6E6E6')\n",
    "ax.set_axisbelow(True)\n",
    "plt.grid(color='w', linestyle='solid')\n",
    "for spine in ax.spines.values():\n",
    "    spine.set_visible(False)\n",
    "ax.xaxis.tick_bottom()\n",
    "ax.yaxis.tick_left()\n",
    "ax.tick_params(colors='gray', direction='out')\n",
    "for tick in ax.get_xticklabels():\n",
    "    tick.set_color('gray')\n",
    "for tick in ax.get_yticklabels():\n",
    "    tick.set_color('gray')\n",
    "ax.hist(x, edgecolor='#E6E6E6', color='#EE6666');"
   ]
  },
  {
   "attachments": {},
   "cell_type": "markdown",
   "metadata": {
    "tags": []
   },
   "source": [
    "### Stylesheets"
   ]
  },
  {
   "cell_type": "code",
   "execution_count": null,
   "metadata": {
    "tags": []
   },
   "outputs": [],
   "source": [
    "plt.style.available[:10]"
   ]
  },
  {
   "cell_type": "code",
   "execution_count": null,
   "metadata": {
    "tags": []
   },
   "outputs": [],
   "source": [
    "plt.style.use('ggplot')\n",
    "plt.hist(x);"
   ]
  },
  {
   "attachments": {},
   "cell_type": "markdown",
   "metadata": {},
   "source": [
    "### Additional syling packages"
   ]
  },
  {
   "cell_type": "code",
   "execution_count": null,
   "metadata": {
    "tags": []
   },
   "outputs": [],
   "source": [
    "# Generate x values\n",
    "x = np.linspace(0, 10, 20)\n",
    "# Generate y values\n",
    "y = np.sin(x)\n",
    "y2 = np.cos(x)"
   ]
  },
  {
   "cell_type": "code",
   "execution_count": null,
   "metadata": {
    "tags": []
   },
   "outputs": [],
   "source": [
    "!pip install mplcyberpunk\n",
    "!pip install matplotx\n",
    "!pip install SciencePlots"
   ]
  },
  {
   "cell_type": "code",
   "execution_count": null,
   "metadata": {
    "tags": []
   },
   "outputs": [],
   "source": [
    "import mplcyberpunk\n",
    "plt.style.use('cyberpunk')\n",
    "plt.figure()\n",
    "\n",
    "plt.plot(x, y, marker = 'o')\n",
    "plt.plot(x, y2, marker = 'o', c='lime')\n",
    "\n",
    "mplcyberpunk.make_lines_glow()\n",
    "\n",
    "plt.xlabel('X-Axis')\n",
    "plt.ylabel('Y-Axis')\n",
    "\n",
    "plt.show()"
   ]
  },
  {
   "cell_type": "code",
   "execution_count": null,
   "metadata": {
    "tags": []
   },
   "outputs": [],
   "source": [
    "import matplotx\n",
    "\n",
    "with plt.style.context(matplotx.styles.pitaya_smoothie['light']):\n",
    "  plt.scatter(x, y, c=y2)\n",
    "  plt.colorbar(label='Y2')\n",
    "  plt.xlabel('X')\n",
    "  plt.ylabel('Y')\n",
    "  plt.show"
   ]
  },
  {
   "cell_type": "code",
   "execution_count": null,
   "metadata": {
    "tags": []
   },
   "outputs": [],
   "source": [
    "import scienceplots\n",
    "\n",
    "plt.style.use('default')\n",
    "with plt.style.context(['science', 'ieee', 'std-colors']):\n",
    "    plt.figure(figsize = (10,10))\n",
    "    plt.plot(x, y, marker='o', label='Line 1')\n",
    "    plt.plot(x, y2, marker='o', label='Line 2')\n",
    "\n",
    "    plt.xlabel('X')\n",
    "    plt.ylabel('Y')\n",
    "    plt.legend()\n",
    "    plt.show()"
   ]
  },
  {
   "attachments": {},
   "cell_type": "markdown",
   "metadata": {},
   "source": [
    "### Seaborn\n",
    "\n",
    "Another powerful Python visualization library is seaborn which is based on matplotlib. Seaborn can do the same things as matplotlib and it makes plotting easier. It is often preferred, because user think the default settings in seaborn are more pleasing then in matplotlib. And the good thing is, if you know matplotlib, seaborn is really easy to learn. Let´s try some nice example plots (More plot examples can be found on http://seaborn.pydata.org/)"
   ]
  },
  {
   "cell_type": "code",
   "execution_count": null,
   "metadata": {
    "slideshow": {
     "slide_type": "slide"
    }
   },
   "outputs": [],
   "source": [
    "import seaborn as sns\n",
    "\n",
    "sns.lineplot(x=temp_wue['year'],y=temp_wue['mean_temp_c'], linewidth=2.5)"
   ]
  },
  {
   "cell_type": "code",
   "execution_count": null,
   "metadata": {
    "slideshow": {
     "slide_type": "slide"
    }
   },
   "outputs": [],
   "source": [
    "import seaborn as sns\n",
    "\n",
    "sns.set(style=\"darkgrid\")\n",
    "\n",
    "plt.figure(figsize=(13, 5))\n",
    "ax = sns.scatterplot(x=temp_wue['year'],y=temp_wue['mean_temp_c'], palette=\"flare\", hue=temp_wue['mean_temp_c'])"
   ]
  },
  {
   "cell_type": "code",
   "execution_count": null,
   "metadata": {
    "slideshow": {
     "slide_type": "slide"
    }
   },
   "outputs": [],
   "source": [
    "plt.figure(figsize=(13, 8))\n",
    "ax = sns.regplot(x=temp_wue['year'],y=temp_wue['mean_temp_c'])"
   ]
  },
  {
   "cell_type": "code",
   "execution_count": null,
   "metadata": {},
   "outputs": [],
   "source": [
    "plt.figure(figsize=(18, 4))\n",
    "sns.lineplot(data=df, x=\"year\", y=\"precipitation_height\", hue=\"station_id\")"
   ]
  },
  {
   "attachments": {},
   "cell_type": "markdown",
   "metadata": {
    "slideshow": {
     "slide_type": "slide"
    }
   },
   "source": [
    "## Visualization alternatives\n",
    "\n",
    "Few years ago matplotlib was the only answer to the question: \"How do I make plots in python?\". But nowadays we have a lot of choices. Each library takes a slightly different approach to plotting data. Which one you use is up to you."
   ]
  },
  {
   "cell_type": "code",
   "execution_count": null,
   "metadata": {
    "tags": []
   },
   "outputs": [],
   "source": [
    "%pip install altair"
   ]
  },
  {
   "cell_type": "code",
   "execution_count": null,
   "metadata": {
    "scrolled": true,
    "slideshow": {
     "slide_type": "slide"
    }
   },
   "outputs": [],
   "source": [
    "import altair as alt\n",
    "alt.data_transformers.disable_max_rows()\n",
    "\n",
    "alt.Chart(temp_wue).mark_line().encode(\n",
    "    alt.X('year:Q',scale=alt.Scale(zero=False)),\n",
    "    alt.Y('mean_temp_c:Q',scale=alt.Scale(zero=False)),\n",
    "    color=alt.Color(\n",
    "        'mean(mean_temp_c):Q', scale=alt.Scale(scheme='reds', domain=(-5, 20))),\n",
    "    tooltip=[\n",
    "        alt.Tooltip('year', title='Year'),\n",
    "        alt.Tooltip('mean(mean_temp_c):Q', title='AverageTemperature')\n",
    "    ]\n",
    " ).properties(width=600, height=300)\n",
    "\n",
    "\n"
   ]
  },
  {
   "cell_type": "code",
   "execution_count": null,
   "metadata": {},
   "outputs": [],
   "source": [
    "%pip install plotly"
   ]
  },
  {
   "cell_type": "code",
   "execution_count": null,
   "metadata": {
    "scrolled": true,
    "slideshow": {
     "slide_type": "slide"
    }
   },
   "outputs": [],
   "source": [
    "import plotly.graph_objs as go\n",
    "from plotly.offline import download_plotlyjs, init_notebook_mode, plot, iplot\n",
    "\n",
    "\n",
    "init_notebook_mode(connected=True)\n",
    "\n",
    "trace_middle = go.Scatter(\n",
    "    x=temp_wue.year, \n",
    "    y=temp_wue.mean_temp_c,\n",
    "    name = \"Temp\",\n",
    "    line = dict(color = '#17BECF'),\n",
    "    opacity = 0.8)\n",
    "\n",
    "trace_high = go.Scatter(\n",
    "    x=temp_wue.year, \n",
    "    y=temp_wue.max_temp_c,\n",
    "    name = \"High\",\n",
    "    line = dict(color = '#7F7F7F'),\n",
    "    opacity = 0.8)    \n",
    "    \n",
    "trace_low = go.Scatter(\n",
    "      x=temp_wue.year, \n",
    "    y=temp_wue.min_temp_c,\n",
    "    name = \"Low\",\n",
    "    line = dict(color = '#7F7F7F'),\n",
    "    opacity = 0.8)\n",
    "\n",
    "data = [trace_high,trace_middle,trace_low]\n",
    "\n",
    "layout = dict(\n",
    "    title='Time Series with Rangeslider',\n",
    "    xaxis=dict(\n",
    "        rangeselector=dict(\n",
    "            buttons=list([\n",
    "                dict(count=1,\n",
    "                     label='1y',\n",
    "                     step='year',\n",
    "                     stepmode='backward'),\n",
    "                dict(count=6,\n",
    "                     label='10y',\n",
    "                     step='year',\n",
    "                     stepmode='backward'),\n",
    "                dict(step='all')\n",
    "            ])\n",
    "        ),\n",
    "        rangeslider=dict(\n",
    "            visible = True\n",
    "        ),\n",
    "        type='date'\n",
    "    )\n",
    ")\n",
    "\n",
    "fig = dict(data=data, layout=layout)\n",
    "iplot(fig, filename = \"Time Series with Rangeslider\")"
   ]
  },
  {
   "cell_type": "code",
   "execution_count": null,
   "metadata": {},
   "outputs": [],
   "source": []
  },
  {
   "attachments": {},
   "cell_type": "markdown",
   "metadata": {
    "slideshow": {
     "slide_type": "slide"
    }
   },
   "source": [
    "#### Exercise 8\n",
    "\n",
    "- Calculate the mean temperature (all countries) for each year plot the data\n",
    "- Calculate the mean temperature of countries in Europe for each year (between 1990 and 2013). Create a plot with 4 graphs each showing the mean temperature for one season (spring, summer, autumn, winter) per year\n",
    "- Calculate the intra-annual temperature difference for each country in Europe for the 2010 and create a barplot showing the ranked temperature difference "
   ]
  }
 ],
 "metadata": {
  "celltoolbar": "Slideshow",
  "kernelspec": {
   "display_name": "Python 3 (ipykernel)",
   "language": "python",
   "name": "python3"
  },
  "language_info": {
   "codemirror_mode": {
    "name": "ipython",
    "version": 3
   },
   "file_extension": ".py",
   "mimetype": "text/x-python",
   "name": "python",
   "nbconvert_exporter": "python",
   "pygments_lexer": "ipython3",
   "version": "3.11.3"
  },
  "toc": {
   "base_numbering": 1,
   "nav_menu": {},
   "number_sections": true,
   "sideBar": true,
   "skip_h1_title": false,
   "title_cell": "Table of Contents",
   "title_sidebar": "Contents",
   "toc_cell": false,
   "toc_position": {},
   "toc_section_display": true,
   "toc_window_display": false
  }
 },
 "nbformat": 4,
 "nbformat_minor": 4
}
