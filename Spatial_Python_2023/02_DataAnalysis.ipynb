{
 "cells": [
  {
   "attachments": {},
   "cell_type": "markdown",
   "metadata": {
    "slideshow": {
     "slide_type": "slide"
    }
   },
   "source": [
    "# Data Analysis in Python"
   ]
  },
  {
   "attachments": {},
   "cell_type": "markdown",
   "metadata": {
    "slideshow": {
     "slide_type": "slide"
    }
   },
   "source": [
    "Let's start with some basic data analysis in Python! Therefor we need two popular python packages\n",
    "\n",
    "- ***Pandas***: \"[pandas](https://pandas.pydata.org) is an open source, BSD-licensed library providing high-performance, easy-to-use data structures and data analysis tools for the Python programming language*\"\n",
    "\n",
    "\n",
    "- ***Matplotlib***: \"[Matplotlib](https://matplotlib.org) is a Python 2D plotting library which produces publication quality figures in a variety of hardcopy formats and interactive environments across platforms*\"\n",
    "\n",
    "<img src=\"images/pandas_matplotlib.png\" width=200 align=right />"
   ]
  },
  {
   "attachments": {},
   "cell_type": "markdown",
   "metadata": {
    "slideshow": {
     "slide_type": "slide"
    }
   },
   "source": [
    "## Installation\n",
    "\n",
    "```conda install pandas matplotlib```\n",
    "\n",
    "OR\n",
    "\n",
    "```pip install pandas matplotlib```\n"
   ]
  },
  {
   "attachments": {},
   "cell_type": "markdown",
   "metadata": {
    "slideshow": {
     "slide_type": "slide"
    }
   },
   "source": [
    "## Powerful pandas\n",
    "\n",
    "Pandas is a very powerful and flexible tool for data munging and preparing. \n",
    "\n",
    "Pandas deals with 3 data structures:\n",
    "- **Series**: homogeneous 1-dimensional array\n",
    "- **DataFrames**: heterogenous 2-dimensional array\n",
    "- **Panel**: heterogenous 3-dimensional array\n"
   ]
  },
  {
   "attachments": {},
   "cell_type": "markdown",
   "metadata": {
    "slideshow": {
     "slide_type": "slide"
    }
   },
   "source": [
    "<img src=\"images/dataframe.png\" width=400   />"
   ]
  },
  {
   "attachments": {},
   "cell_type": "markdown",
   "metadata": {
    "slideshow": {
     "slide_type": "slide"
    }
   },
   "source": [
    "### Pandas Series\n",
    "\n",
    "A Series is a one-dimensional object similar to an array, list, or column in a table."
   ]
  },
  {
   "cell_type": "code",
   "execution_count": 2,
   "metadata": {
    "tags": []
   },
   "outputs": [],
   "source": [
    "import pandas as pd"
   ]
  },
  {
   "cell_type": "code",
   "execution_count": 3,
   "metadata": {
    "tags": []
   },
   "outputs": [
    {
     "data": {
      "text/plain": [
       "0    Würzburg\n",
       "1      127.88\n",
       "2         177\n",
       "3        87.6\n",
       "dtype: object"
      ]
     },
     "execution_count": 3,
     "metadata": {},
     "output_type": "execute_result"
    }
   ],
   "source": [
    "# create a Series with an arbitrary list\n",
    "s = pd.Series(['Würzburg',127.880, 177, 87.6 ])\n",
    "s"
   ]
  },
  {
   "attachments": {},
   "cell_type": "markdown",
   "metadata": {},
   "source": [
    "Pandas by default creates an index from 0 to N for each item. Of course we can also define our own index"
   ]
  },
  {
   "cell_type": "code",
   "execution_count": 4,
   "metadata": {
    "tags": []
   },
   "outputs": [
    {
     "data": {
      "text/plain": [
       "Name          Würzburg\n",
       "Population      127.88\n",
       "Altitude           177\n",
       "Area              87.6\n",
       "dtype: object"
      ]
     },
     "execution_count": 4,
     "metadata": {},
     "output_type": "execute_result"
    }
   ],
   "source": [
    "s = pd.Series(['Würzburg',127.880, 177, 87.6],\n",
    "              index=['Name', 'Population', 'Altitude', 'Area'])\n",
    "s"
   ]
  },
  {
   "attachments": {},
   "cell_type": "markdown",
   "metadata": {},
   "source": [
    "You can also use dictionaries to create a pandas series"
   ]
  },
  {
   "cell_type": "code",
   "execution_count": 5,
   "metadata": {
    "tags": []
   },
   "outputs": [
    {
     "data": {
      "text/plain": [
       "Name          Würzburg\n",
       "Population      127.88\n",
       "Altitude           177\n",
       "Area              87.6\n",
       "dtype: object"
      ]
     },
     "execution_count": 5,
     "metadata": {},
     "output_type": "execute_result"
    }
   ],
   "source": [
    "d = {'Name': 'Würzburg', 'Population': 127.880, 'Altitude': 177, 'Area': 87.6}\n",
    "s = pd.Series(d)\n",
    "s"
   ]
  },
  {
   "attachments": {},
   "cell_type": "markdown",
   "metadata": {},
   "source": [
    "We can now use the index to select specific items from the Series or just use integer indexing/slicing"
   ]
  },
  {
   "cell_type": "code",
   "execution_count": 6,
   "metadata": {
    "tags": []
   },
   "outputs": [
    {
     "data": {
      "text/plain": [
       "Name          Würzburg\n",
       "Population      127.88\n",
       "dtype: object"
      ]
     },
     "execution_count": 6,
     "metadata": {},
     "output_type": "execute_result"
    }
   ],
   "source": [
    "s['Name']\n",
    "s[0]\n",
    "s[:2]"
   ]
  },
  {
   "attachments": {},
   "cell_type": "markdown",
   "metadata": {},
   "source": [
    "### DataFrames"
   ]
  },
  {
   "attachments": {},
   "cell_type": "markdown",
   "metadata": {},
   "source": [
    "In order to create a Pandas DataFrame we can pass a dictionary of lists to the DataFrame constructor. "
   ]
  },
  {
   "cell_type": "code",
   "execution_count": 8,
   "metadata": {
    "tags": []
   },
   "outputs": [
    {
     "data": {
      "text/html": [
       "<div>\n",
       "<style scoped>\n",
       "    .dataframe tbody tr th:only-of-type {\n",
       "        vertical-align: middle;\n",
       "    }\n",
       "\n",
       "    .dataframe tbody tr th {\n",
       "        vertical-align: top;\n",
       "    }\n",
       "\n",
       "    .dataframe thead th {\n",
       "        text-align: right;\n",
       "    }\n",
       "</style>\n",
       "<table border=\"1\" class=\"dataframe\">\n",
       "  <thead>\n",
       "    <tr style=\"text-align: right;\">\n",
       "      <th></th>\n",
       "      <th>City</th>\n",
       "      <th>Elevation</th>\n",
       "      <th>Population</th>\n",
       "      <th>Country</th>\n",
       "    </tr>\n",
       "  </thead>\n",
       "  <tbody>\n",
       "    <tr>\n",
       "      <th>0</th>\n",
       "      <td>Madrid</td>\n",
       "      <td>667</td>\n",
       "      <td>3266126</td>\n",
       "      <td>Spain</td>\n",
       "    </tr>\n",
       "    <tr>\n",
       "      <th>1</th>\n",
       "      <td>Berlin</td>\n",
       "      <td>34</td>\n",
       "      <td>3664088</td>\n",
       "      <td>Germany</td>\n",
       "    </tr>\n",
       "    <tr>\n",
       "      <th>2</th>\n",
       "      <td>Lisbon</td>\n",
       "      <td>15</td>\n",
       "      <td>544851</td>\n",
       "      <td>Portugal</td>\n",
       "    </tr>\n",
       "    <tr>\n",
       "      <th>3</th>\n",
       "      <td>Paris</td>\n",
       "      <td>34</td>\n",
       "      <td>2165423</td>\n",
       "      <td>France</td>\n",
       "    </tr>\n",
       "    <tr>\n",
       "      <th>4</th>\n",
       "      <td>Rome</td>\n",
       "      <td>14</td>\n",
       "      <td>2837332</td>\n",
       "      <td>Italy</td>\n",
       "    </tr>\n",
       "    <tr>\n",
       "      <th>5</th>\n",
       "      <td>Copenhagen</td>\n",
       "      <td>10</td>\n",
       "      <td>805420</td>\n",
       "      <td>Denmark</td>\n",
       "    </tr>\n",
       "    <tr>\n",
       "      <th>6</th>\n",
       "      <td>London</td>\n",
       "      <td>14</td>\n",
       "      <td>9002488</td>\n",
       "      <td>United Kingdom</td>\n",
       "    </tr>\n",
       "  </tbody>\n",
       "</table>\n",
       "</div>"
      ],
      "text/plain": [
       "         City  Elevation  Population         Country\n",
       "0      Madrid        667     3266126           Spain\n",
       "1      Berlin         34     3664088         Germany\n",
       "2      Lisbon         15      544851        Portugal\n",
       "3       Paris         34     2165423          France\n",
       "4        Rome         14     2837332           Italy\n",
       "5  Copenhagen         10      805420         Denmark\n",
       "6      London         14     9002488  United Kingdom"
      ]
     },
     "execution_count": 8,
     "metadata": {},
     "output_type": "execute_result"
    }
   ],
   "source": [
    "data = {'City': ['Madrid', 'Berlin', 'Lisbon', 'Paris', 'Rome', 'Copenhagen', 'London'],\n",
    "        'Elevation': [667, 34, 15, 34, 14, 10, 14],\n",
    "        'Population': [3266126, 3664088, 544851, 2165423, 2837332, 805420, 9002488],\n",
    "        'Country': ['Spain', 'Germany', 'Portugal', 'France', 'Italy', 'Denmark', 'United Kingdom']}\n",
    "cities = pd.DataFrame(data, columns=['City', 'Elevation', 'Population', 'Country'])\n",
    "cities"
   ]
  },
  {
   "attachments": {},
   "cell_type": "markdown",
   "metadata": {},
   "source": [
    "Much more often, you'll have a dataset you want to read into a DataFrame. Lets read a real world dataset into python. The dataset contains several observations from three different weather stations (5705:'Würzburg',282:'Bamberg',1420:'Frankfurt'). The pd.read_csv function is used to read a CSV file into a DataFrame in our Python environment. Of course pandas can read much more file formats than csv files. For more information have a look at https://pandas.pydata.org/docs/user_guide/io.html"
   ]
  },
  {
   "cell_type": "code",
   "execution_count": 10,
   "metadata": {
    "scrolled": true,
    "slideshow": {
     "slide_type": "fragment"
    },
    "tags": []
   },
   "outputs": [
    {
     "data": {
      "text/html": [
       "<div>\n",
       "<style scoped>\n",
       "    .dataframe tbody tr th:only-of-type {\n",
       "        vertical-align: middle;\n",
       "    }\n",
       "\n",
       "    .dataframe tbody tr th {\n",
       "        vertical-align: top;\n",
       "    }\n",
       "\n",
       "    .dataframe thead th {\n",
       "        text-align: right;\n",
       "    }\n",
       "</style>\n",
       "<table border=\"1\" class=\"dataframe\">\n",
       "  <thead>\n",
       "    <tr style=\"text-align: right;\">\n",
       "      <th></th>\n",
       "      <th>station_id</th>\n",
       "      <th>dataset</th>\n",
       "      <th>parameter</th>\n",
       "      <th>date</th>\n",
       "      <th>value</th>\n",
       "      <th>quality</th>\n",
       "    </tr>\n",
       "  </thead>\n",
       "  <tbody>\n",
       "    <tr>\n",
       "      <th>0</th>\n",
       "      <td>282</td>\n",
       "      <td>climate_summary</td>\n",
       "      <td>temperature_air_mean_200</td>\n",
       "      <td>1949-01-01 00:00:00+00:00</td>\n",
       "      <td>276.95</td>\n",
       "      <td>5.0</td>\n",
       "    </tr>\n",
       "    <tr>\n",
       "      <th>1</th>\n",
       "      <td>282</td>\n",
       "      <td>climate_summary</td>\n",
       "      <td>temperature_air_mean_200</td>\n",
       "      <td>1949-01-02 00:00:00+00:00</td>\n",
       "      <td>275.85</td>\n",
       "      <td>5.0</td>\n",
       "    </tr>\n",
       "    <tr>\n",
       "      <th>2</th>\n",
       "      <td>282</td>\n",
       "      <td>climate_summary</td>\n",
       "      <td>temperature_air_mean_200</td>\n",
       "      <td>1949-01-03 00:00:00+00:00</td>\n",
       "      <td>275.85</td>\n",
       "      <td>5.0</td>\n",
       "    </tr>\n",
       "    <tr>\n",
       "      <th>3</th>\n",
       "      <td>282</td>\n",
       "      <td>climate_summary</td>\n",
       "      <td>temperature_air_mean_200</td>\n",
       "      <td>1949-01-04 00:00:00+00:00</td>\n",
       "      <td>274.95</td>\n",
       "      <td>5.0</td>\n",
       "    </tr>\n",
       "    <tr>\n",
       "      <th>4</th>\n",
       "      <td>282</td>\n",
       "      <td>climate_summary</td>\n",
       "      <td>temperature_air_mean_200</td>\n",
       "      <td>1949-01-05 00:00:00+00:00</td>\n",
       "      <td>275.75</td>\n",
       "      <td>5.0</td>\n",
       "    </tr>\n",
       "    <tr>\n",
       "      <th>...</th>\n",
       "      <td>...</td>\n",
       "      <td>...</td>\n",
       "      <td>...</td>\n",
       "      <td>...</td>\n",
       "      <td>...</td>\n",
       "      <td>...</td>\n",
       "    </tr>\n",
       "    <tr>\n",
       "      <th>322875</th>\n",
       "      <td>5705</td>\n",
       "      <td>climate_summary</td>\n",
       "      <td>precipitation_height</td>\n",
       "      <td>2021-12-27 00:00:00+00:00</td>\n",
       "      <td>1.50</td>\n",
       "      <td>3.0</td>\n",
       "    </tr>\n",
       "    <tr>\n",
       "      <th>322876</th>\n",
       "      <td>5705</td>\n",
       "      <td>climate_summary</td>\n",
       "      <td>precipitation_height</td>\n",
       "      <td>2021-12-28 00:00:00+00:00</td>\n",
       "      <td>14.90</td>\n",
       "      <td>3.0</td>\n",
       "    </tr>\n",
       "    <tr>\n",
       "      <th>322877</th>\n",
       "      <td>5705</td>\n",
       "      <td>climate_summary</td>\n",
       "      <td>precipitation_height</td>\n",
       "      <td>2021-12-29 00:00:00+00:00</td>\n",
       "      <td>2.70</td>\n",
       "      <td>3.0</td>\n",
       "    </tr>\n",
       "    <tr>\n",
       "      <th>322878</th>\n",
       "      <td>5705</td>\n",
       "      <td>climate_summary</td>\n",
       "      <td>precipitation_height</td>\n",
       "      <td>2021-12-30 00:00:00+00:00</td>\n",
       "      <td>1.20</td>\n",
       "      <td>3.0</td>\n",
       "    </tr>\n",
       "    <tr>\n",
       "      <th>322879</th>\n",
       "      <td>5705</td>\n",
       "      <td>climate_summary</td>\n",
       "      <td>precipitation_height</td>\n",
       "      <td>2021-12-31 00:00:00+00:00</td>\n",
       "      <td>0.00</td>\n",
       "      <td>3.0</td>\n",
       "    </tr>\n",
       "  </tbody>\n",
       "</table>\n",
       "<p>322880 rows × 6 columns</p>\n",
       "</div>"
      ],
      "text/plain": [
       "        station_id          dataset                 parameter   \n",
       "0              282  climate_summary  temperature_air_mean_200  \\\n",
       "1              282  climate_summary  temperature_air_mean_200   \n",
       "2              282  climate_summary  temperature_air_mean_200   \n",
       "3              282  climate_summary  temperature_air_mean_200   \n",
       "4              282  climate_summary  temperature_air_mean_200   \n",
       "...            ...              ...                       ...   \n",
       "322875        5705  climate_summary      precipitation_height   \n",
       "322876        5705  climate_summary      precipitation_height   \n",
       "322877        5705  climate_summary      precipitation_height   \n",
       "322878        5705  climate_summary      precipitation_height   \n",
       "322879        5705  climate_summary      precipitation_height   \n",
       "\n",
       "                             date   value  quality  \n",
       "0       1949-01-01 00:00:00+00:00  276.95      5.0  \n",
       "1       1949-01-02 00:00:00+00:00  275.85      5.0  \n",
       "2       1949-01-03 00:00:00+00:00  275.85      5.0  \n",
       "3       1949-01-04 00:00:00+00:00  274.95      5.0  \n",
       "4       1949-01-05 00:00:00+00:00  275.75      5.0  \n",
       "...                           ...     ...      ...  \n",
       "322875  2021-12-27 00:00:00+00:00    1.50      3.0  \n",
       "322876  2021-12-28 00:00:00+00:00   14.90      3.0  \n",
       "322877  2021-12-29 00:00:00+00:00    2.70      3.0  \n",
       "322878  2021-12-30 00:00:00+00:00    1.20      3.0  \n",
       "322879  2021-12-31 00:00:00+00:00    0.00      3.0  \n",
       "\n",
       "[322880 rows x 6 columns]"
      ]
     },
     "execution_count": 10,
     "metadata": {},
     "output_type": "execute_result"
    }
   ],
   "source": [
    "import pandas as pd\n",
    "\n",
    "df = pd.read_csv('../Data/nonspatial/station_data.csv', sep=',')\n",
    "df"
   ]
  },
  {
   "attachments": {},
   "cell_type": "markdown",
   "metadata": {},
   "source": [
    "Note that rows and columns are labelled using indices\n",
    "\n",
    "In this case:\n",
    "\n",
    "- Rows are labelled with integers\n",
    "\n",
    "- Columns are labelled with column names"
   ]
  },
  {
   "attachments": {},
   "cell_type": "markdown",
   "metadata": {},
   "source": [
    "## Data exploration"
   ]
  },
  {
   "attachments": {},
   "cell_type": "markdown",
   "metadata": {},
   "source": [
    "\n",
    "### DataFrame Porperties"
   ]
  },
  {
   "attachments": {},
   "cell_type": "markdown",
   "metadata": {
    "slideshow": {
     "slide_type": "slide"
    }
   },
   "source": [
    "First of all we want to have a first glance at the data we are dealing with. Pandas provides in-built functions for data inspection. The properties tail() and head() allow us to look at the first/last rows of our datafame"
   ]
  },
  {
   "cell_type": "code",
   "execution_count": 11,
   "metadata": {
    "slideshow": {
     "slide_type": "fragment"
    },
    "tags": []
   },
   "outputs": [
    {
     "data": {
      "text/html": [
       "<div>\n",
       "<style scoped>\n",
       "    .dataframe tbody tr th:only-of-type {\n",
       "        vertical-align: middle;\n",
       "    }\n",
       "\n",
       "    .dataframe tbody tr th {\n",
       "        vertical-align: top;\n",
       "    }\n",
       "\n",
       "    .dataframe thead th {\n",
       "        text-align: right;\n",
       "    }\n",
       "</style>\n",
       "<table border=\"1\" class=\"dataframe\">\n",
       "  <thead>\n",
       "    <tr style=\"text-align: right;\">\n",
       "      <th></th>\n",
       "      <th>station_id</th>\n",
       "      <th>dataset</th>\n",
       "      <th>parameter</th>\n",
       "      <th>date</th>\n",
       "      <th>value</th>\n",
       "      <th>quality</th>\n",
       "    </tr>\n",
       "  </thead>\n",
       "  <tbody>\n",
       "    <tr>\n",
       "      <th>0</th>\n",
       "      <td>282</td>\n",
       "      <td>climate_summary</td>\n",
       "      <td>temperature_air_mean_200</td>\n",
       "      <td>1949-01-01 00:00:00+00:00</td>\n",
       "      <td>276.95</td>\n",
       "      <td>5.0</td>\n",
       "    </tr>\n",
       "    <tr>\n",
       "      <th>1</th>\n",
       "      <td>282</td>\n",
       "      <td>climate_summary</td>\n",
       "      <td>temperature_air_mean_200</td>\n",
       "      <td>1949-01-02 00:00:00+00:00</td>\n",
       "      <td>275.85</td>\n",
       "      <td>5.0</td>\n",
       "    </tr>\n",
       "    <tr>\n",
       "      <th>2</th>\n",
       "      <td>282</td>\n",
       "      <td>climate_summary</td>\n",
       "      <td>temperature_air_mean_200</td>\n",
       "      <td>1949-01-03 00:00:00+00:00</td>\n",
       "      <td>275.85</td>\n",
       "      <td>5.0</td>\n",
       "    </tr>\n",
       "    <tr>\n",
       "      <th>3</th>\n",
       "      <td>282</td>\n",
       "      <td>climate_summary</td>\n",
       "      <td>temperature_air_mean_200</td>\n",
       "      <td>1949-01-04 00:00:00+00:00</td>\n",
       "      <td>274.95</td>\n",
       "      <td>5.0</td>\n",
       "    </tr>\n",
       "    <tr>\n",
       "      <th>4</th>\n",
       "      <td>282</td>\n",
       "      <td>climate_summary</td>\n",
       "      <td>temperature_air_mean_200</td>\n",
       "      <td>1949-01-05 00:00:00+00:00</td>\n",
       "      <td>275.75</td>\n",
       "      <td>5.0</td>\n",
       "    </tr>\n",
       "  </tbody>\n",
       "</table>\n",
       "</div>"
      ],
      "text/plain": [
       "   station_id          dataset                 parameter   \n",
       "0         282  climate_summary  temperature_air_mean_200  \\\n",
       "1         282  climate_summary  temperature_air_mean_200   \n",
       "2         282  climate_summary  temperature_air_mean_200   \n",
       "3         282  climate_summary  temperature_air_mean_200   \n",
       "4         282  climate_summary  temperature_air_mean_200   \n",
       "\n",
       "                        date   value  quality  \n",
       "0  1949-01-01 00:00:00+00:00  276.95      5.0  \n",
       "1  1949-01-02 00:00:00+00:00  275.85      5.0  \n",
       "2  1949-01-03 00:00:00+00:00  275.85      5.0  \n",
       "3  1949-01-04 00:00:00+00:00  274.95      5.0  \n",
       "4  1949-01-05 00:00:00+00:00  275.75      5.0  "
      ]
     },
     "execution_count": 11,
     "metadata": {},
     "output_type": "execute_result"
    }
   ],
   "source": [
    "df.head()"
   ]
  },
  {
   "cell_type": "code",
   "execution_count": 12,
   "metadata": {
    "slideshow": {
     "slide_type": "fragment"
    },
    "tags": []
   },
   "outputs": [
    {
     "data": {
      "text/html": [
       "<div>\n",
       "<style scoped>\n",
       "    .dataframe tbody tr th:only-of-type {\n",
       "        vertical-align: middle;\n",
       "    }\n",
       "\n",
       "    .dataframe tbody tr th {\n",
       "        vertical-align: top;\n",
       "    }\n",
       "\n",
       "    .dataframe thead th {\n",
       "        text-align: right;\n",
       "    }\n",
       "</style>\n",
       "<table border=\"1\" class=\"dataframe\">\n",
       "  <thead>\n",
       "    <tr style=\"text-align: right;\">\n",
       "      <th></th>\n",
       "      <th>station_id</th>\n",
       "      <th>dataset</th>\n",
       "      <th>parameter</th>\n",
       "      <th>date</th>\n",
       "      <th>value</th>\n",
       "      <th>quality</th>\n",
       "    </tr>\n",
       "  </thead>\n",
       "  <tbody>\n",
       "    <tr>\n",
       "      <th>322875</th>\n",
       "      <td>5705</td>\n",
       "      <td>climate_summary</td>\n",
       "      <td>precipitation_height</td>\n",
       "      <td>2021-12-27 00:00:00+00:00</td>\n",
       "      <td>1.5</td>\n",
       "      <td>3.0</td>\n",
       "    </tr>\n",
       "    <tr>\n",
       "      <th>322876</th>\n",
       "      <td>5705</td>\n",
       "      <td>climate_summary</td>\n",
       "      <td>precipitation_height</td>\n",
       "      <td>2021-12-28 00:00:00+00:00</td>\n",
       "      <td>14.9</td>\n",
       "      <td>3.0</td>\n",
       "    </tr>\n",
       "    <tr>\n",
       "      <th>322877</th>\n",
       "      <td>5705</td>\n",
       "      <td>climate_summary</td>\n",
       "      <td>precipitation_height</td>\n",
       "      <td>2021-12-29 00:00:00+00:00</td>\n",
       "      <td>2.7</td>\n",
       "      <td>3.0</td>\n",
       "    </tr>\n",
       "    <tr>\n",
       "      <th>322878</th>\n",
       "      <td>5705</td>\n",
       "      <td>climate_summary</td>\n",
       "      <td>precipitation_height</td>\n",
       "      <td>2021-12-30 00:00:00+00:00</td>\n",
       "      <td>1.2</td>\n",
       "      <td>3.0</td>\n",
       "    </tr>\n",
       "    <tr>\n",
       "      <th>322879</th>\n",
       "      <td>5705</td>\n",
       "      <td>climate_summary</td>\n",
       "      <td>precipitation_height</td>\n",
       "      <td>2021-12-31 00:00:00+00:00</td>\n",
       "      <td>0.0</td>\n",
       "      <td>3.0</td>\n",
       "    </tr>\n",
       "  </tbody>\n",
       "</table>\n",
       "</div>"
      ],
      "text/plain": [
       "        station_id          dataset             parameter   \n",
       "322875        5705  climate_summary  precipitation_height  \\\n",
       "322876        5705  climate_summary  precipitation_height   \n",
       "322877        5705  climate_summary  precipitation_height   \n",
       "322878        5705  climate_summary  precipitation_height   \n",
       "322879        5705  climate_summary  precipitation_height   \n",
       "\n",
       "                             date  value  quality  \n",
       "322875  2021-12-27 00:00:00+00:00    1.5      3.0  \n",
       "322876  2021-12-28 00:00:00+00:00   14.9      3.0  \n",
       "322877  2021-12-29 00:00:00+00:00    2.7      3.0  \n",
       "322878  2021-12-30 00:00:00+00:00    1.2      3.0  \n",
       "322879  2021-12-31 00:00:00+00:00    0.0      3.0  "
      ]
     },
     "execution_count": 12,
     "metadata": {},
     "output_type": "execute_result"
    }
   ],
   "source": [
    "df.tail()               # show data tail"
   ]
  },
  {
   "attachments": {},
   "cell_type": "markdown",
   "metadata": {},
   "source": [
    "DataFrame dimensions are accessible through .shape()"
   ]
  },
  {
   "cell_type": "code",
   "execution_count": 13,
   "metadata": {
    "slideshow": {
     "slide_type": "slide"
    },
    "tags": []
   },
   "outputs": [
    {
     "data": {
      "text/plain": [
       "(322880, 6)"
      ]
     },
     "execution_count": 13,
     "metadata": {},
     "output_type": "execute_result"
    }
   ],
   "source": [
    "df.shape"
   ]
  },
  {
   "attachments": {},
   "cell_type": "markdown",
   "metadata": {},
   "source": [
    "The DataFrame column names can be obtained using .columns()"
   ]
  },
  {
   "cell_type": "code",
   "execution_count": 14,
   "metadata": {
    "slideshow": {
     "slide_type": "fragment"
    },
    "tags": []
   },
   "outputs": [
    {
     "data": {
      "text/plain": [
       "Index(['station_id', 'dataset', 'parameter', 'date', 'value', 'quality'], dtype='object')"
      ]
     },
     "execution_count": 14,
     "metadata": {},
     "output_type": "execute_result"
    }
   ],
   "source": [
    "df.columns # display column names"
   ]
  },
  {
   "attachments": {},
   "cell_type": "markdown",
   "metadata": {},
   "source": [
    "If we want to know the data types of our columns we can just use .dtype"
   ]
  },
  {
   "cell_type": "code",
   "execution_count": 15,
   "metadata": {
    "slideshow": {
     "slide_type": "fragment"
    },
    "tags": []
   },
   "outputs": [
    {
     "data": {
      "text/plain": [
       "station_id      int64\n",
       "dataset        object\n",
       "parameter      object\n",
       "date           object\n",
       "value         float64\n",
       "quality       float64\n",
       "dtype: object"
      ]
     },
     "execution_count": 15,
     "metadata": {},
     "output_type": "execute_result"
    }
   ],
   "source": [
    "df.dtypes"
   ]
  },
  {
   "attachments": {},
   "cell_type": "markdown",
   "metadata": {},
   "source": [
    "The .info() function is used to get a concise summary of the dataframe."
   ]
  },
  {
   "cell_type": "code",
   "execution_count": 16,
   "metadata": {
    "tags": []
   },
   "outputs": [
    {
     "name": "stdout",
     "output_type": "stream",
     "text": [
      "<class 'pandas.core.frame.DataFrame'>\n",
      "RangeIndex: 322880 entries, 0 to 322879\n",
      "Data columns (total 6 columns):\n",
      " #   Column      Non-Null Count   Dtype  \n",
      "---  ------      --------------   -----  \n",
      " 0   station_id  322880 non-null  int64  \n",
      " 1   dataset     322880 non-null  object \n",
      " 2   parameter   322880 non-null  object \n",
      " 3   date        322880 non-null  object \n",
      " 4   value       322700 non-null  float64\n",
      " 5   quality     322700 non-null  float64\n",
      "dtypes: float64(2), int64(1), object(3)\n",
      "memory usage: 14.8+ MB\n"
     ]
    }
   ],
   "source": [
    "df.info()"
   ]
  },
  {
   "attachments": {},
   "cell_type": "markdown",
   "metadata": {},
   "source": [
    "The describe() function is used to generate descriptive statistics that summarize the central tendency, dispersion and shape of a dataset’s distribution,"
   ]
  },
  {
   "cell_type": "code",
   "execution_count": 18,
   "metadata": {
    "tags": []
   },
   "outputs": [
    {
     "data": {
      "text/html": [
       "<div>\n",
       "<style scoped>\n",
       "    .dataframe tbody tr th:only-of-type {\n",
       "        vertical-align: middle;\n",
       "    }\n",
       "\n",
       "    .dataframe tbody tr th {\n",
       "        vertical-align: top;\n",
       "    }\n",
       "\n",
       "    .dataframe thead th {\n",
       "        text-align: right;\n",
       "    }\n",
       "</style>\n",
       "<table border=\"1\" class=\"dataframe\">\n",
       "  <thead>\n",
       "    <tr style=\"text-align: right;\">\n",
       "      <th></th>\n",
       "      <th>station_id</th>\n",
       "      <th>value</th>\n",
       "      <th>quality</th>\n",
       "    </tr>\n",
       "  </thead>\n",
       "  <tbody>\n",
       "    <tr>\n",
       "      <th>count</th>\n",
       "      <td>322880.000000</td>\n",
       "      <td>322700.000000</td>\n",
       "      <td>322700.000000</td>\n",
       "    </tr>\n",
       "    <tr>\n",
       "      <th>mean</th>\n",
       "      <td>2498.305203</td>\n",
       "      <td>212.495834</td>\n",
       "      <td>7.441165</td>\n",
       "    </tr>\n",
       "    <tr>\n",
       "      <th>std</th>\n",
       "      <td>2344.420624</td>\n",
       "      <td>122.002287</td>\n",
       "      <td>2.563318</td>\n",
       "    </tr>\n",
       "    <tr>\n",
       "      <th>min</th>\n",
       "      <td>282.000000</td>\n",
       "      <td>0.000000</td>\n",
       "      <td>3.000000</td>\n",
       "    </tr>\n",
       "    <tr>\n",
       "      <th>25%</th>\n",
       "      <td>282.000000</td>\n",
       "      <td>44.550000</td>\n",
       "      <td>5.000000</td>\n",
       "    </tr>\n",
       "    <tr>\n",
       "      <th>50%</th>\n",
       "      <td>1420.000000</td>\n",
       "      <td>278.350000</td>\n",
       "      <td>9.000000</td>\n",
       "    </tr>\n",
       "    <tr>\n",
       "      <th>75%</th>\n",
       "      <td>5705.000000</td>\n",
       "      <td>286.550000</td>\n",
       "      <td>10.000000</td>\n",
       "    </tr>\n",
       "    <tr>\n",
       "      <th>max</th>\n",
       "      <td>5705.000000</td>\n",
       "      <td>313.250000</td>\n",
       "      <td>10.000000</td>\n",
       "    </tr>\n",
       "  </tbody>\n",
       "</table>\n",
       "</div>"
      ],
      "text/plain": [
       "          station_id          value        quality\n",
       "count  322880.000000  322700.000000  322700.000000\n",
       "mean     2498.305203     212.495834       7.441165\n",
       "std      2344.420624     122.002287       2.563318\n",
       "min       282.000000       0.000000       3.000000\n",
       "25%       282.000000      44.550000       5.000000\n",
       "50%      1420.000000     278.350000       9.000000\n",
       "75%      5705.000000     286.550000      10.000000\n",
       "max      5705.000000     313.250000      10.000000"
      ]
     },
     "execution_count": 18,
     "metadata": {},
     "output_type": "execute_result"
    }
   ],
   "source": [
    "df.describe()"
   ]
  },
  {
   "attachments": {},
   "cell_type": "markdown",
   "metadata": {},
   "source": [
    "### Subsetting data"
   ]
  },
  {
   "attachments": {},
   "cell_type": "markdown",
   "metadata": {},
   "source": [
    "There are numerous methods of subsetting Series and DataFrames in pandas and its sometimes confusing.\n",
    "The recommended subsetting methods are using .loc and .iloc. The principal difference between .loc and .iloc is:\n",
    "\n",
    "- .loc uses pandas indices, while\n",
    "- .iloc uses (implicit) numpy-style numeric indices.\n",
    "\n",
    "A DataFrame is a 2-dimensional object, thats why .loc and .iloc accept 2 values which a seperated by a comma. The first one for the row and the second one for the column"
   ]
  },
  {
   "attachments": {},
   "cell_type": "markdown",
   "metadata": {},
   "source": [
    "### Selecting columns"
   ]
  },
  {
   "cell_type": "code",
   "execution_count": 30,
   "metadata": {
    "tags": []
   },
   "outputs": [
    {
     "ename": "SyntaxError",
     "evalue": "invalid syntax (456920932.py, line 12)",
     "output_type": "error",
     "traceback": [
      "\u001b[1;36m  Cell \u001b[1;32mIn[30], line 12\u001b[1;36m\u001b[0m\n\u001b[1;33m    help(.loc)\u001b[0m\n\u001b[1;37m         ^\u001b[0m\n\u001b[1;31mSyntaxError\u001b[0m\u001b[1;31m:\u001b[0m invalid syntax\n"
     ]
    }
   ],
   "source": [
    "# df.loc[:, \"parameter\"] # select column as Series\n",
    "\n",
    "# df.loc[:, [\"parameter\"]] # select column as DataFrame\n",
    "\n",
    "# df[\"parameter\"]  ## Shortcut for df.loc[:, \"AverageTemperature\"]\n",
    "\n",
    "# df[[\"parameter\"]]  ## Shortcut for df.loc[:, [\"AverageTemperature\"]]\n",
    "\n",
    "# df[[\"parameter\", \"value\"]] ## Select multiple columns\n",
    "\n",
    "# df.loc[:,\"station_id\":\"date\"] ## Slice columns"
   ]
  },
  {
   "attachments": {},
   "cell_type": "markdown",
   "metadata": {},
   "source": [
    "### Selecting rows"
   ]
  },
  {
   "attachments": {},
   "cell_type": "markdown",
   "metadata": {},
   "source": [
    "Rows can be selected using the same way using .loc() and .iloc()"
   ]
  },
  {
   "cell_type": "code",
   "execution_count": 29,
   "metadata": {
    "tags": []
   },
   "outputs": [
    {
     "data": {
      "text/html": [
       "<div>\n",
       "<style scoped>\n",
       "    .dataframe tbody tr th:only-of-type {\n",
       "        vertical-align: middle;\n",
       "    }\n",
       "\n",
       "    .dataframe tbody tr th {\n",
       "        vertical-align: top;\n",
       "    }\n",
       "\n",
       "    .dataframe thead th {\n",
       "        text-align: right;\n",
       "    }\n",
       "</style>\n",
       "<table border=\"1\" class=\"dataframe\">\n",
       "  <thead>\n",
       "    <tr style=\"text-align: right;\">\n",
       "      <th></th>\n",
       "      <th>station_id</th>\n",
       "      <th>dataset</th>\n",
       "      <th>parameter</th>\n",
       "      <th>date</th>\n",
       "      <th>value</th>\n",
       "      <th>quality</th>\n",
       "    </tr>\n",
       "  </thead>\n",
       "  <tbody>\n",
       "    <tr>\n",
       "      <th>0</th>\n",
       "      <td>282</td>\n",
       "      <td>climate_summary</td>\n",
       "      <td>temperature_air_mean_200</td>\n",
       "      <td>1949-01-01 00:00:00+00:00</td>\n",
       "      <td>276.95</td>\n",
       "      <td>5.0</td>\n",
       "    </tr>\n",
       "    <tr>\n",
       "      <th>12</th>\n",
       "      <td>282</td>\n",
       "      <td>climate_summary</td>\n",
       "      <td>temperature_air_mean_200</td>\n",
       "      <td>1949-01-13 00:00:00+00:00</td>\n",
       "      <td>273.35</td>\n",
       "      <td>5.0</td>\n",
       "    </tr>\n",
       "  </tbody>\n",
       "</table>\n",
       "</div>"
      ],
      "text/plain": [
       "    station_id          dataset                 parameter   \n",
       "0          282  climate_summary  temperature_air_mean_200  \\\n",
       "12         282  climate_summary  temperature_air_mean_200   \n",
       "\n",
       "                         date   value  quality  \n",
       "0   1949-01-01 00:00:00+00:00  276.95      5.0  \n",
       "12  1949-01-13 00:00:00+00:00  273.35      5.0  "
      ]
     },
     "execution_count": 29,
     "metadata": {},
     "output_type": "execute_result"
    }
   ],
   "source": [
    "df.iloc[[0], :]     ## get 1st row\n",
    "\n",
    "df.iloc[0:3, :]     ## 1st row (inclusive) to 4th row (exclusive)\n",
    "\n",
    "df.iloc[[0, 12], :]  ## get first and 13th row\n",
    "\n",
    "df.loc[[0, 12], :]  ## get first and 13th row"
   ]
  },
  {
   "attachments": {},
   "cell_type": "markdown",
   "metadata": {},
   "source": [
    "### Select rows and columns\n",
    "Of course we can also combine the methods we used above"
   ]
  },
  {
   "cell_type": "code",
   "execution_count": 31,
   "metadata": {
    "scrolled": true,
    "tags": []
   },
   "outputs": [
    {
     "data": {
      "text/html": [
       "<div>\n",
       "<style scoped>\n",
       "    .dataframe tbody tr th:only-of-type {\n",
       "        vertical-align: middle;\n",
       "    }\n",
       "\n",
       "    .dataframe tbody tr th {\n",
       "        vertical-align: top;\n",
       "    }\n",
       "\n",
       "    .dataframe thead th {\n",
       "        text-align: right;\n",
       "    }\n",
       "</style>\n",
       "<table border=\"1\" class=\"dataframe\">\n",
       "  <thead>\n",
       "    <tr style=\"text-align: right;\">\n",
       "      <th></th>\n",
       "      <th>station_id</th>\n",
       "      <th>dataset</th>\n",
       "      <th>parameter</th>\n",
       "      <th>date</th>\n",
       "    </tr>\n",
       "  </thead>\n",
       "  <tbody>\n",
       "    <tr>\n",
       "      <th>0</th>\n",
       "      <td>282</td>\n",
       "      <td>climate_summary</td>\n",
       "      <td>temperature_air_mean_200</td>\n",
       "      <td>1949-01-01 00:00:00+00:00</td>\n",
       "    </tr>\n",
       "    <tr>\n",
       "      <th>1</th>\n",
       "      <td>282</td>\n",
       "      <td>climate_summary</td>\n",
       "      <td>temperature_air_mean_200</td>\n",
       "      <td>1949-01-02 00:00:00+00:00</td>\n",
       "    </tr>\n",
       "    <tr>\n",
       "      <th>2</th>\n",
       "      <td>282</td>\n",
       "      <td>climate_summary</td>\n",
       "      <td>temperature_air_mean_200</td>\n",
       "      <td>1949-01-03 00:00:00+00:00</td>\n",
       "    </tr>\n",
       "    <tr>\n",
       "      <th>3</th>\n",
       "      <td>282</td>\n",
       "      <td>climate_summary</td>\n",
       "      <td>temperature_air_mean_200</td>\n",
       "      <td>1949-01-04 00:00:00+00:00</td>\n",
       "    </tr>\n",
       "  </tbody>\n",
       "</table>\n",
       "</div>"
      ],
      "text/plain": [
       "   station_id          dataset                 parameter   \n",
       "0         282  climate_summary  temperature_air_mean_200  \\\n",
       "1         282  climate_summary  temperature_air_mean_200   \n",
       "2         282  climate_summary  temperature_air_mean_200   \n",
       "3         282  climate_summary  temperature_air_mean_200   \n",
       "\n",
       "                        date  \n",
       "0  1949-01-01 00:00:00+00:00  \n",
       "1  1949-01-02 00:00:00+00:00  \n",
       "2  1949-01-03 00:00:00+00:00  \n",
       "3  1949-01-04 00:00:00+00:00  "
      ]
     },
     "execution_count": 31,
     "metadata": {},
     "output_type": "execute_result"
    }
   ],
   "source": [
    "df.iloc[0:4, 0:2] \n",
    "\n",
    "df.loc[:, \"station_id\":\"date\"].iloc[0:4, :]"
   ]
  },
  {
   "attachments": {},
   "cell_type": "markdown",
   "metadata": {},
   "source": [
    "###  Summary functions\n",
    "\n",
    "Pandas provides a large set of Operators and summary functions that operate on different kinds of pandas object. Let us use this to find out more about our dataset.  "
   ]
  },
  {
   "cell_type": "code",
   "execution_count": 34,
   "metadata": {
    "tags": []
   },
   "outputs": [
    {
     "data": {
      "text/plain": [
       "'2021-12-31 00:00:00+00:00'"
      ]
     },
     "execution_count": 34,
     "metadata": {},
     "output_type": "execute_result"
    }
   ],
   "source": [
    "## time period\n",
    " \n",
    "df['date'].min()\n",
    "df['date'].max()"
   ]
  },
  {
   "cell_type": "code",
   "execution_count": 35,
   "metadata": {
    "tags": []
   },
   "outputs": [
    {
     "data": {
      "text/plain": [
       "array(['temperature_air_mean_200', 'temperature_air_max_200',\n",
       "       'temperature_air_min_200', 'precipitation_height'], dtype=object)"
      ]
     },
     "execution_count": 35,
     "metadata": {},
     "output_type": "execute_result"
    }
   ],
   "source": [
    "## parameters measured\n",
    "\n",
    "df['parameter'].unique()"
   ]
  },
  {
   "cell_type": "code",
   "execution_count": 36,
   "metadata": {
    "tags": []
   },
   "outputs": [
    {
     "data": {
      "text/plain": [
       "7.441165168887512"
      ]
     },
     "execution_count": 36,
     "metadata": {},
     "output_type": "execute_result"
    }
   ],
   "source": [
    "## mean quality\n",
    "\n",
    "df['quality'].mean()"
   ]
  },
  {
   "cell_type": "code",
   "execution_count": 39,
   "metadata": {
    "tags": []
   },
   "outputs": [
    {
     "data": {
      "text/plain": [
       "station_id\n",
       "5705    109576\n",
       "282     106652\n",
       "1420    106652\n",
       "Name: count, dtype: int64"
      ]
     },
     "execution_count": 39,
     "metadata": {},
     "output_type": "execute_result"
    }
   ],
   "source": [
    "## number of observations by station\n",
    "\n",
    "df['station_id'].value_counts()"
   ]
  },
  {
   "attachments": {},
   "cell_type": "markdown",
   "metadata": {},
   "source": [
    "###  Filtering\n",
    "\n",
    "Additionally we can use conditional statements in order to filter our dataframe. In this example we want to extract the mean preciptation for the station Würzburg"
   ]
  },
  {
   "cell_type": "code",
   "execution_count": null,
   "metadata": {
    "tags": []
   },
   "outputs": [],
   "source": [
    "## extract all data for station Würzburg\n",
    "\n",
    "df_wue = df.loc[df['station_id'] == 5705]\n",
    "df_wue"
   ]
  },
  {
   "attachments": {},
   "cell_type": "markdown",
   "metadata": {},
   "source": [
    "Of course we can also filter data using multiple conditions"
   ]
  },
  {
   "cell_type": "code",
   "execution_count": null,
   "metadata": {
    "tags": []
   },
   "outputs": [],
   "source": [
    "prec_wue = df.loc[(df['station_id'] == 5705) & (df['parameter'] == 'precipitation_height') ]\n",
    "prec_wue['value'].max()"
   ]
  },
  {
   "attachments": {},
   "cell_type": "markdown",
   "metadata": {},
   "source": [
    "Sometimes the condition we are interested in is not only one individual value, but multiple values. Therefor we could of course just use something like that:"
   ]
  },
  {
   "cell_type": "code",
   "execution_count": null,
   "metadata": {
    "tags": []
   },
   "outputs": [],
   "source": [
    "df[(df['station_id'] == 5705) | (df['station_id'] == 282)]"
   ]
  },
  {
   "attachments": {},
   "cell_type": "markdown",
   "metadata": {},
   "source": [
    ".. or we can use the .isin() method"
   ]
  },
  {
   "cell_type": "code",
   "execution_count": null,
   "metadata": {
    "tags": []
   },
   "outputs": [],
   "source": [
    "sel = df['station_id'].isin([5705,282])\n",
    "df[sel]"
   ]
  },
  {
   "attachments": {},
   "cell_type": "markdown",
   "metadata": {},
   "source": [
    "### Sorting\n",
    "\n",
    "A DataFrame can be sorted using the .sort_values method. We can of course also sort by index using .sort_index()"
   ]
  },
  {
   "cell_type": "code",
   "execution_count": null,
   "metadata": {
    "tags": []
   },
   "outputs": [],
   "source": [
    "\n",
    "temp_wue = df.loc[(df['station_id'] == 5705) & (df['parameter'] == 'temperature_air_mean_200') ]\n",
    "\n",
    "temp_wue.sort_values(by = 'value')                   #Order rows by values of a column (low to high).\n",
    "temp_wue.sort_values(by = 'value', ascending=False)   #Order rows by values of a column (high to low)."
   ]
  },
  {
   "attachments": {},
   "cell_type": "markdown",
   "metadata": {},
   "source": [
    "## Data manipulation\n",
    "\n",
    "In the next section we will prepare our dataset for analysis using some of the basic data manipulation methods in provided by pandas. In this example we will\n",
    "\n",
    "- change station_id to actual station names\n",
    "- reshape dataset from long to wide format\n",
    "- use timestamps as index\n",
    "- convert temperature data to celsius\n",
    "- make some first visualisation"
   ]
  },
  {
   "attachments": {},
   "cell_type": "markdown",
   "metadata": {},
   "source": [
    "### Remapping  values\n",
    "\n",
    "First of all we want to replace our station_id with the real world name of the station. "
   ]
  },
  {
   "cell_type": "code",
   "execution_count": null,
   "metadata": {
    "tags": []
   },
   "outputs": [],
   "source": [
    "new_values = {5705:'Würzburg',282:'Bamberg',1420:'Frankfurt'}\n",
    "\n",
    "df2=df.replace({\"station_id\": new_values})\n",
    "\n",
    "df2"
   ]
  },
  {
   "attachments": {},
   "cell_type": "markdown",
   "metadata": {},
   "source": [
    "### Reshaping dataframe\n",
    "\n",
    "Pandas offers different functions to rehape your dataframe"
   ]
  },
  {
   "attachments": {},
   "cell_type": "markdown",
   "metadata": {},
   "source": [
    "<img src=\"images/reshaping.png\" width=700   />\n",
    "\n",
    "https://pandas.pydata.org/"
   ]
  },
  {
   "cell_type": "code",
   "execution_count": null,
   "metadata": {
    "tags": []
   },
   "outputs": [],
   "source": [
    "data = df2.pivot(index=['date','station_id'], columns='parameter', values='value').reset_index()\n",
    "data"
   ]
  },
  {
   "attachments": {},
   "cell_type": "markdown",
   "metadata": {
    "slideshow": {
     "slide_type": "slide"
    }
   },
   "source": [
    "## Modifying the index\n",
    "\n",
    "As we will see, the index plays an important role in many operations in pandas. Therefore, often we would like to set a more meaningful, custom index. Especially when dealing with time series data we want to set the index to the time points \n",
    "\n",
    "- .index for Series \n",
    "- .set_index for DataFrame "
   ]
  },
  {
   "cell_type": "code",
   "execution_count": null,
   "metadata": {
    "slideshow": {
     "slide_type": "fragment"
    },
    "tags": []
   },
   "outputs": [],
   "source": [
    "data = data.set_index('date')                   \n",
    "data.head()\n",
    "data"
   ]
  },
  {
   "attachments": {},
   "cell_type": "markdown",
   "metadata": {},
   "source": [
    "Especially when working with time series it is recommended to convert your timestamps into datetime format, which adds some specific methods to our time data"
   ]
  },
  {
   "cell_type": "code",
   "execution_count": null,
   "metadata": {
    "tags": []
   },
   "outputs": [],
   "source": [
    "data.index = pd.to_datetime(data.index)\n",
    "data.index.year"
   ]
  },
  {
   "attachments": {},
   "cell_type": "markdown",
   "metadata": {},
   "source": [
    "### Arithmetic operations\n",
    "\n",
    "We can also combine values of different columns to apply pairwise arithmetic or boolean operators. As we can see our temperature data is still in Kelvin. So let's convert it to Celsius Degree"
   ]
  },
  {
   "cell_type": "code",
   "execution_count": null,
   "metadata": {
    "tags": []
   },
   "outputs": [],
   "source": [
    "data.reset_index().reset_index()"
   ]
  },
  {
   "cell_type": "code",
   "execution_count": null,
   "metadata": {
    "tags": []
   },
   "outputs": [],
   "source": [
    "data['temperature_air_mean_200'] - 273.15"
   ]
  },
  {
   "attachments": {},
   "cell_type": "markdown",
   "metadata": {
    "slideshow": {
     "slide_type": "slide"
    }
   },
   "source": [
    "Or we can even apply write a function and apply it"
   ]
  },
  {
   "cell_type": "code",
   "execution_count": null,
   "metadata": {
    "slideshow": {
     "slide_type": "fragment"
    },
    "tags": []
   },
   "outputs": [],
   "source": [
    "def kelvin2cel(x):\n",
    "    x = x - 273.15\n",
    "    return(x)"
   ]
  },
  {
   "cell_type": "code",
   "execution_count": null,
   "metadata": {
    "slideshow": {
     "slide_type": "fragment"
    },
    "tags": []
   },
   "outputs": [],
   "source": [
    "data[\"temperature_air_mean_200\"].apply(kelvin2cel)"
   ]
  },
  {
   "attachments": {},
   "cell_type": "markdown",
   "metadata": {},
   "source": [
    "### Create/Drop columns\n",
    "\n",
    "If we want to store our new values in the same dataframe, we can also create a new column. These can be created by  assigning of a Series to a non-existing column index."
   ]
  },
  {
   "cell_type": "code",
   "execution_count": null,
   "metadata": {
    "tags": []
   },
   "outputs": [],
   "source": [
    "## create new temperature column\n",
    "\n",
    "data['mean_temp_c'] = data[\"temperature_air_mean_200\"].apply(kelvin2cel)\n",
    "data['max_temp_c'] = data[\"temperature_air_max_200\"].apply(kelvin2cel)\n",
    "data['min_temp_c'] = data[\"temperature_air_min_200\"].apply(kelvin2cel)\n"
   ]
  },
  {
   "attachments": {},
   "cell_type": "markdown",
   "metadata": {},
   "source": [
    "Of course we can also drop columns we don't need"
   ]
  },
  {
   "cell_type": "code",
   "execution_count": null,
   "metadata": {
    "tags": []
   },
   "outputs": [],
   "source": [
    "data = data.drop(columns=[\"temperature_air_mean_200\", \"temperature_air_min_200\", \"temperature_air_max_200\"])\n",
    "data"
   ]
  },
  {
   "attachments": {},
   "cell_type": "markdown",
   "metadata": {},
   "source": [
    "### Groupby\n",
    "\n",
    "Next we want calculate the annual mean for each parameter in our datset. Therefor we can use the groupby() function"
   ]
  },
  {
   "cell_type": "code",
   "execution_count": null,
   "metadata": {
    "tags": []
   },
   "outputs": [],
   "source": [
    "data['year'] = data.index.year\n",
    "data_annual = data.groupby(['year','station_id']).mean().reset_index()"
   ]
  },
  {
   "cell_type": "code",
   "execution_count": null,
   "metadata": {
    "tags": []
   },
   "outputs": [],
   "source": [
    "data_annual"
   ]
  },
  {
   "attachments": {},
   "cell_type": "markdown",
   "metadata": {},
   "source": [
    "## Basic Plotting\n",
    "\n",
    "Pandas provides some basic plotting functions, which allow use to make some quick visualisations of our dataset\n",
    "For example, we can draw a histogram of the average temperature"
   ]
  },
  {
   "cell_type": "code",
   "execution_count": null,
   "metadata": {
    "tags": []
   },
   "outputs": [],
   "source": [
    "data_annual[[\"mean_temp_c\"]].hist()"
   ]
  },
  {
   "attachments": {},
   "cell_type": "markdown",
   "metadata": {},
   "source": [
    "Or create a lineplot showing the mean temperature in Würzburg"
   ]
  },
  {
   "cell_type": "code",
   "execution_count": null,
   "metadata": {
    "tags": []
   },
   "outputs": [],
   "source": [
    "temp_wue = data_annual[data_annual['station_id'] == 'Würzburg']\n",
    "temp_wue[\"mean_temp_c\"].plot(title='Temperature in Würzburg',ylabel = 'Temperature in °C')"
   ]
  },
  {
   "attachments": {},
   "cell_type": "markdown",
   "metadata": {},
   "source": [
    "## Writing to disk\n",
    "\n",
    "If we are finished with the manipulation of our dataset we can just write it back to disk. In this case we will save the data as CSV. "
   ]
  },
  {
   "cell_type": "code",
   "execution_count": null,
   "metadata": {
    "tags": []
   },
   "outputs": [],
   "source": [
    "data_annual.to_csv(\"../Data/nonspatial/dwd_annual.csv\", index=False)"
   ]
  },
  {
   "attachments": {},
   "cell_type": "markdown",
   "metadata": {},
   "source": [
    "### Additional: Method Chaining\n",
    "\n",
    "The nice thing with pandas is that we don't to apply all the operations one by one. We can just chain our commands"
   ]
  },
  {
   "cell_type": "code",
   "execution_count": null,
   "metadata": {
    "tags": []
   },
   "outputs": [],
   "source": [
    "import pandas as pd\n",
    "\n",
    "new_values = {5705:'Würzburg',282:'Bamberg',1420:'Frankfurt'}\n",
    "\n",
    "temp = (pd.read_csv('../Data/nonspatial/station_data.csv')\n",
    "  .replace({\"station_id\": new_values})\n",
    "  .query(\"station_id == 'Würzburg' & parameter == 'temperature_air_mean_200'\")\n",
    "  .assign(datetime=lambda x: pd.to_datetime(x['date']))   \n",
    "  .assign(mean_temp_c=lambda x: x.value - 273.15 )     \n",
    "  .set_index('datetime')\n",
    "  .groupby(pd.Grouper(freq='M')).mean(numeric_only=True)      \n",
    " )\n",
    "\n",
    "temp['mean_temp_c'].plot()"
   ]
  },
  {
   "attachments": {},
   "cell_type": "markdown",
   "metadata": {
    "tags": []
   },
   "source": [
    "## Interactive data analysis with D-Tale"
   ]
  },
  {
   "attachments": {},
   "cell_type": "markdown",
   "metadata": {},
   "source": [
    "D-Tale is the combination of a Flask back-end and a React front-end to bring you an easy way to view & analyze Pandas data structures. It integrates seamlessly with ipython notebooks & python/ipython terminals. Currently this tool supports such Pandas objects as DataFrame, Series, MultiIndex, DatetimeIndex & RangeIndex."
   ]
  },
  {
   "cell_type": "code",
   "execution_count": null,
   "metadata": {
    "tags": []
   },
   "outputs": [],
   "source": [
    "import dtale\n",
    "\n",
    "data_annual['date'] = pd.to_datetime(data_annual['year'])\n",
    "dtale.show(data_annual)\n"
   ]
  },
  {
   "attachments": {},
   "cell_type": "markdown",
   "metadata": {},
   "source": [
    "## AI Pandas"
   ]
  },
  {
   "attachments": {},
   "cell_type": "markdown",
   "metadata": {},
   "source": [
    "Pandas AI is a Python library that adds generative artificial intelligence capabilities to Pandas, the popular data analysis and manipulation tool. It is designed to be used in conjunction with Pandas, and is not a replacement for it"
   ]
  },
  {
   "cell_type": "code",
   "execution_count": null,
   "metadata": {
    "tags": []
   },
   "outputs": [],
   "source": [
    "!pip install pandasai"
   ]
  },
  {
   "cell_type": "code",
   "execution_count": null,
   "metadata": {
    "tags": []
   },
   "outputs": [],
   "source": [
    "import pandas as pd\n",
    "from pandasai import PandasAI\n",
    "\n",
    "# Sample DataFrame\n",
    "df = pd.DataFrame({\n",
    "    \"country\": [\"United States\", \"United Kingdom\", \"France\", \"Germany\", \"Italy\", \"Spain\", \"Canada\", \"Australia\", \"Japan\", \"China\"],\n",
    "    \"gdp\": [19294482071552, 2891615567872, 2411255037952, 3435817336832, 1745433788416, 1181205135360, 1607402389504, 1490967855104, 4380756541440, 14631844184064]\n",
    "})\n",
    "\n",
    "# Instantiate a LLM\n",
    "from pandasai.llm.openai import OpenAI\n",
    "llm = OpenAI(api_token=\"\")\n",
    "\n",
    "pandas_ai = PandasAI(llm, conversational=False)\n",
    "pandas_ai.run(\n",
    "    df,\n",
    "    \"Plot the histogram of countries showing for each the gpd, using different colors for each bar\",\n",
    ")"
   ]
  },
  {
   "attachments": {},
   "cell_type": "markdown",
   "metadata": {},
   "source": [
    "## Alternative Packages"
   ]
  },
  {
   "attachments": {},
   "cell_type": "markdown",
   "metadata": {},
   "source": [
    "### Polars: Pandas DataFrame but Much Faster\n",
    "\n",
    "Polars is a DataFrame interface on top of an OLAP Query Engine implemented in Rust using Apache Arrow Columnar Format as the memory model.\n",
    "\n",
    "The goal of Polars is to provide a lightning fast DataFrame library that:\n",
    "\n",
    "- Utilizes all available cores on your machine.\n",
    "- Optimizes queries to reduce unneeded work/memory allocations.\n",
    "- Handles datasets much larger than your available RAM.\n",
    "- Has an API that is consistent and predictable.\n",
    "- Has a strict schema (data-types should be known before running the query).\n",
    "\n",
    "Polars is written in Rust which gives it C/C++ performance and allows it to fully control performance critical parts in a query engine\n",
    "\n",
    "https://pola-rs.github.io/polars-book/user-guide/"
   ]
  },
  {
   "cell_type": "code",
   "execution_count": null,
   "metadata": {
    "tags": []
   },
   "outputs": [],
   "source": [
    "%pip install polars"
   ]
  },
  {
   "cell_type": "code",
   "execution_count": null,
   "metadata": {
    "tags": []
   },
   "outputs": [],
   "source": [
    "import pandas as pd\n",
    "import polars as pl\n",
    "import time\n",
    "import numpy as np"
   ]
  },
  {
   "cell_type": "code",
   "execution_count": null,
   "metadata": {
    "tags": []
   },
   "outputs": [],
   "source": [
    "ptime = []\n",
    "for i in range(1000):\n",
    "    start = time.time()\n",
    "    df_pandas = pd.read_csv(\"../Data/nonspatial/dwd_annual.csv\")\n",
    "    df_pandas['precipitation_height'].agg(['min','max','mean','median','std'])\n",
    "    cols=['station_id','precipitation_height'] \n",
    "    df_pandas.sort_values(by=cols,ascending=True)\n",
    "    df_pandas.groupby(\"station_id\", as_index=False)\n",
    "    end = time.time()\n",
    "    ptime.append(end-start)\n",
    "    \n",
    "print(np.mean(ptime))"
   ]
  },
  {
   "cell_type": "code",
   "execution_count": null,
   "metadata": {
    "tags": []
   },
   "outputs": [],
   "source": [
    "ptime = []\n",
    "for i in range(1000):\n",
    "    start = time.time()\n",
    "    df_polars = pl.read_csv(\"../Data/nonspatial/dwd_annual.csv\")\n",
    "    df_polars.with_columns([\n",
    "        pl.col('precipitation_height').min().suffix('_min'),\n",
    "        pl.col('precipitation_height').max().suffix('_max'),\n",
    "        pl.col('precipitation_height').mean().suffix('_mean'),\n",
    "        pl.col('precipitation_height').median().suffix('_median'),\n",
    "        pl.col('precipitation_height').std().suffix('_std')\n",
    "    ])\n",
    "    cols=['station_id','precipitation_height'] \n",
    "    df_polars.sort(cols,descending=False)\n",
    "    df_polars.groupby(\"station_id\")\n",
    "    end = time.time()\n",
    "    ptime.append(end-start)\n",
    "    \n",
    "print(np.mean(ptime))"
   ]
  },
  {
   "attachments": {},
   "cell_type": "markdown",
   "metadata": {
    "tags": []
   },
   "source": [
    "## Exercise 7\n",
    "\n",
    "- Import ***GlobalLandTemperaturesByMajorCity.csv***\n",
    "- Look at the first 5 entries\n",
    "- Print the name of all the columns\n",
    "- What is the number of observations in the dataset?\n",
    "-  Display a summary of the basic information about this DataFrame and its data.\n",
    "- Select just the 'AverageTemperature' and 'City' columns from the DataFrame\n",
    "- Count the number of cities in the dataset\n",
    "- Calculate the mean temperature for each city over all years. Sort the values in the 'AverageTemperature' - in decending order\n",
    "- Calculate the maximal AverageTemperature in european cities between 1990 and 2013"
   ]
  },
  {
   "attachments": {},
   "cell_type": "markdown",
   "metadata": {
    "slideshow": {
     "slide_type": "slide"
    }
   },
   "source": [
    " ## Visualize data with python\n",
    "\n",
    "Producing high-quality graphics is one of the main reasons for doing statistical computing. For this purpose, we will use the matplotlib library, which is probably the most used python library for 2D-graphics. Matplotlib is the \"grandfather\" library of data visualization with Python. It was created by John Hunter. Matplotlib allows a quick data visualization and the creation of publication-quality figures.\n",
    "Import matplotlib's pyplot module as well as numpy and pandas.\n",
    "(Pyplot is a module in the matplotlib package. The module allows you to implicitly and automatically create figures and axes)"
   ]
  },
  {
   "attachments": {},
   "cell_type": "markdown",
   "metadata": {},
   "source": [
    "Some of the major Pros of Matplotlib are:\n",
    "\n",
    "- easy to get started for simple plots\n",
    "- custom labels and texts\n",
    "- control of every element in a figure\n",
    "- high-quality output in many formats\n",
    " "
   ]
  },
  {
   "cell_type": "code",
   "execution_count": null,
   "metadata": {
    "slideshow": {
     "slide_type": "slide"
    }
   },
   "outputs": [],
   "source": [
    "%pip install matplotlib"
   ]
  },
  {
   "cell_type": "code",
   "execution_count": null,
   "metadata": {
    "slideshow": {
     "slide_type": "slide"
    }
   },
   "outputs": [],
   "source": [
    "%matplotlib inline\n",
    "import matplotlib.pyplot as plt\n",
    "import numpy as np\n",
    "import pandas as pd"
   ]
  },
  {
   "attachments": {},
   "cell_type": "markdown",
   "metadata": {
    "slideshow": {
     "slide_type": "slide"
    }
   },
   "source": [
    "#### A Basic Plot\n",
    "\n",
    "First we start with something easy."
   ]
  },
  {
   "cell_type": "code",
   "execution_count": null,
   "metadata": {},
   "outputs": [],
   "source": [
    "df = pd.read_csv('../Data/nonspatial/dwd_annual.csv')\n",
    "df"
   ]
  },
  {
   "cell_type": "code",
   "execution_count": null,
   "metadata": {},
   "outputs": [],
   "source": [
    "temp_wue = df[(df['station_id'] == 'Würzburg')]\n",
    "temp_wue"
   ]
  },
  {
   "cell_type": "code",
   "execution_count": null,
   "metadata": {},
   "outputs": [],
   "source": [
    "plt.plot(temp_wue['mean_temp_c'])"
   ]
  },
  {
   "attachments": {},
   "cell_type": "markdown",
   "metadata": {},
   "source": [
    "That was easy. But in order to customize our plot we have to understand a bit more about how the plt.plot() works. \n",
    "The plt.plot accepts 3 basic arguments in the following order: (x, y, format). Let's look deeper into the format parameter. If we want to change the styling of our plot we can do this via the a combination of {color}{marker}{line}. Let's assume we want to plot a green dots connected by dashed line. Therefor we would use the formatting code 'go--'."
   ]
  },
  {
   "cell_type": "code",
   "execution_count": null,
   "metadata": {
    "scrolled": true
   },
   "outputs": [],
   "source": [
    "plt.plot(temp_wue['mean_temp_c'],'go--' )"
   ]
  },
  {
   "attachments": {},
   "cell_type": "markdown",
   "metadata": {},
   "source": [
    "Of course matplotlib offers a bunch of diffrent styling options:\n",
    "- 'b'    : blue markers with default shape\n",
    "- 'or'   : red circles\n",
    "- '-g'   : green solid line\n",
    "- '--'   : dashed line with default color\n",
    "- '^k:'  : black triangle_up markers connected by a dotted line\n",
    "- 'r*--' : ‘red stars with dashed lines’\n",
    "- 'kp:' : ‘black pentagons with dotted line’\n",
    "- 'bD-.' : ‘blue diamonds with the dash-dot line’."
   ]
  },
  {
   "attachments": {},
   "cell_type": "markdown",
   "metadata": {},
   "source": [
    "Now that we have our first plot lets go through the things which are still missing. First of all we can see that the x-axis is still showing wrong values. This is because matplotlib will use the index by default. Let's change this"
   ]
  },
  {
   "cell_type": "code",
   "execution_count": null,
   "metadata": {},
   "outputs": [],
   "source": [
    "plt.plot(temp_wue['year'],temp_wue['mean_temp_c'])"
   ]
  },
  {
   "attachments": {},
   "cell_type": "markdown",
   "metadata": {},
   "source": [
    "matplotlib offers a variety of different plot types. Here are just a few examples"
   ]
  },
  {
   "cell_type": "code",
   "execution_count": null,
   "metadata": {},
   "outputs": [],
   "source": [
    "#plt.scatter(temp_wue['year'],temp_wue['mean_temp_c'])\n",
    "#plt.bar(temp_wue['year'],temp_wue['mean_temp_c'])\n",
    "#plt.stem(temp_wue['year'],temp_wue['mean_temp_c'])\n",
    "#plt.hist(temp_wue['mean_temp_c'])\n",
    "#plt.step(temp_wue['year'],temp_wue['mean_temp_c'])\n",
    "#plt.boxplot(temp_wue[['mean_temp_c','min_temp_c','max_temp_c']])\n",
    "plt.violinplot(temp_wue[['mean_temp_c','min_temp_c','max_temp_c']])"
   ]
  },
  {
   "attachments": {},
   "cell_type": "markdown",
   "metadata": {},
   "source": [
    "But let's move back to our lineplot. We already managed to plot the temperature per year. But of course a proper plot consists of more elements than just the graph and its values. "
   ]
  },
  {
   "attachments": {},
   "cell_type": "markdown",
   "metadata": {},
   "source": [
    "<img src=\"images/matplot.jpg\"  width=600/>"
   ]
  },
  {
   "cell_type": "code",
   "execution_count": null,
   "metadata": {},
   "outputs": [],
   "source": [
    "plt.figure(figsize=(18,4), dpi=120)\n",
    "plt.plot(temp_wue['year'],temp_wue['mean_temp_c'], label='Würzburg')\n",
    "plt.title('Mean Temperature Würzburg')\n",
    "plt.xlabel('Year')\n",
    "plt.ylabel('Temperature in °Celsius')\n",
    "plt.legend(loc='best')"
   ]
  },
  {
   "attachments": {},
   "cell_type": "markdown",
   "metadata": {},
   "source": [
    "Let's also add the maximum and the minimum temperature to our graph by just adding another plt.plot()"
   ]
  },
  {
   "cell_type": "code",
   "execution_count": null,
   "metadata": {},
   "outputs": [],
   "source": [
    "plt.figure(figsize=(18,4), dpi=120)\n",
    "plt.plot(temp_wue['year'],temp_wue['mean_temp_c'],'-g', label='mean_temp')\n",
    "plt.plot(temp_wue['year'],temp_wue['max_temp_c'],'-r', label='max_temp')\n",
    "plt.plot(temp_wue['year'],temp_wue['min_temp_c'],'-b', label='min_temp')\n",
    "plt.title('Temperature Würzburg')\n",
    "plt.xlabel('Year')\n",
    "plt.ylabel('Temperature in °Celsius')\n",
    "plt.legend(loc='best')\n",
    "plt.grid(True)"
   ]
  },
  {
   "attachments": {},
   "cell_type": "markdown",
   "metadata": {},
   "source": [
    "You can use the subplot() method to add more than one plot in a figure"
   ]
  },
  {
   "cell_type": "code",
   "execution_count": null,
   "metadata": {},
   "outputs": [],
   "source": [
    "temp_bam = df[(df['station_id'] == 'Bamberg')]\n",
    "temp_bam"
   ]
  },
  {
   "cell_type": "code",
   "execution_count": null,
   "metadata": {},
   "outputs": [],
   "source": [
    "plt.figure(figsize=(18, 4))\n",
    "plt.subplot(1,2,1)\n",
    "plt.plot(temp_wue['year'],temp_wue['mean_temp_c'], label='Würzburg')\n",
    "plt.title('Würzburg')\n",
    "plt.xlabel('Year')\n",
    "plt.ylabel('Temperature in °Celsius')\n",
    "\n",
    "plt.subplot(1,2,2)\n",
    "plt.plot(temp_bam['year'],temp_bam['mean_temp_c'], label='Bamberg')\n",
    "plt.title('Bamberg')\n",
    "plt.xlabel('Year')\n",
    "plt.ylabel('Temperature in °Celsius')\n",
    "\n",
    "plt.suptitle('Annual Temperature in Würzburg and Bamberg')\n",
    "plt.show()\n"
   ]
  },
  {
   "cell_type": "code",
   "execution_count": null,
   "metadata": {},
   "outputs": [],
   "source": [
    "plt.figure(figsize=(18, 4))\n",
    "plt.subplot(2,1,1)\n",
    "plt.plot(temp_wue['year'],temp_wue['mean_temp_c'], label='Würzburg')\n",
    "plt.title('Würzburg')\n",
    "plt.xlabel('Year')\n",
    "plt.ylabel('Temperature in °Celsius')\n",
    "\n",
    "plt.subplot(2,1,2)\n",
    "plt.plot(temp_bam['year'],temp_bam['mean_temp_c'], label='Bamberg')\n",
    "plt.title('Bamberg')\n",
    "plt.xlabel('Year')\n",
    "plt.ylabel('Temperature in °Celsius')\n",
    "\n",
    "plt.suptitle('Annual Temperature in Würzburg and Bamberg')\n",
    "plt.show()"
   ]
  },
  {
   "attachments": {},
   "cell_type": "markdown",
   "metadata": {},
   "source": [
    "Unitl now you had a first glimpse into the world of matplotlib. But in order to create more advanced plot it is important to know a little bit more abbout matplotlib. One important big-picture matplotlib concept is its object hierarchy.\n",
    "\n",
    "We already called the function plt.plot(). This one-liner hides the fact that a plot is really a hierarchy of nested Python objects. A “hierarchy” here means that there is a tree-like structure of matplotlib objects underlying each plot."
   ]
  },
  {
   "attachments": {},
   "cell_type": "markdown",
   "metadata": {},
   "source": [
    "####   The Matplotlib Object Hierarchy\n",
    "\n",
    "\n",
    "- When we call plt.plot(x, y), we internally create a hierarchy of nested Python objects: Figure and Axes.\n",
    "\n",
    "- A Figure object is the outermost container for a matplotlib graphic, which can contain multiple Axes objects.\n",
    "\n",
    "- An Axes actually translates into what we think of as an individual plot or graph\n",
    "\n",
    "- Below the Axes in the hierarchy are smaller objects such as tick marks, individual lines, legends, and text boxes. Almost every “element” of a chart is its own manipulable Python object, all the way down to the ticks and labels\n",
    "\n",
    "\n",
    "<img src=\"images/matplot.png\" width=300/>\n",
    "\n",
    "\n",
    "You can think of the Figure object as a box-like container holding one or more Axes (actual plots). Below the Axes in the hierarchy are smaller objects such as tick marks, individual lines, legends, and text boxes. Almost every “element” of a chart is its own manipulable Python object, all the way down to the ticks and labels."
   ]
  },
  {
   "attachments": {},
   "cell_type": "markdown",
   "metadata": {},
   "source": [
    "### Pyplot vs. Object-Oriented\n",
    "\n",
    "matplotlib on the surface is made to imitate MATLAB's methods. All the pyplot commands make changes and modify the same figure. This is a state-based interface, where the state (i.e., the figure) is preserved through various function calls (i.e., the methods that modify the figure). This interface allows us to quickly and easily generate plots. The state-based nature of the interface allows us to add elements and/or modify the plot as we need, when we need it. This is the method which we have already used."
   ]
  },
  {
   "attachments": {},
   "cell_type": "markdown",
   "metadata": {},
   "source": [
    "The pyplot interface makes it quite easy to create fast and easy plots. So why should we use a different method. Here is an example:"
   ]
  },
  {
   "cell_type": "code",
   "execution_count": null,
   "metadata": {},
   "outputs": [],
   "source": [
    "plt.figure(figsize=(18,4), dpi=120)\n",
    "plt.plot(temp_wue['year'],temp_wue['mean_temp_c'],'-r', label='max_temp')\n",
    "plt.plot(temp_wue['year'],temp_wue['precipitation_height'],'-b', label='prec_height')\n",
    "plt.title('Temperature Würzburg')\n",
    "plt.xlabel('Year')\n",
    "plt.ylabel('Temperature in °Celsius')\n",
    "plt.legend(loc='best')\n",
    "plt.grid(True)"
   ]
  },
  {
   "attachments": {},
   "cell_type": "markdown",
   "metadata": {},
   "source": [
    "Here, we run into some obvious and serious issues. We can see that since both the quantities share the same axis but have very different magnitudes, the graph looks disproportionate. What we need to do is separate the two quantities on two different axes. This is where the second approach to making plot comes into play.\n",
    "\n",
    "Also, the pyplot approach doesn't really scale when we are required to make multiple plots or when we have to make intricate plots that require a lot of customisation. However, internally matplotlib has an Object-Oriented interface that can be accessed just as easily, which allows to reuse objects.\n",
    "\n",
    "Although this looks more complicated, using this method gives us full control over the plot"
   ]
  },
  {
   "attachments": {},
   "cell_type": "markdown",
   "metadata": {},
   "source": [
    "<img src=\"https://matplotlib.org/stable/_images/anatomy.png\" width=600 />"
   ]
  },
  {
   "cell_type": "code",
   "execution_count": null,
   "metadata": {},
   "outputs": [],
   "source": [
    "fig, ax1 = plt.subplots()\n",
    "\n",
    "ax1.set_ylabel(\"precipitation height\")\n",
    "ax1.set_xlabel(\"Year\")\n",
    "ax1.bar(temp_wue['year'],temp_wue['precipitation_height'], color='skyblue')\n",
    "ax1.set_ylabel('Precipitation in mm')\n",
    "ax1.yaxis.label.set_color('skyblue')\n",
    "ax1.tick_params(axis='y', labelcolor='skyblue')\n",
    "ax2 = ax1.twinx() # create another y-axis sharing a common x-axis\n",
    "ax2.set_ylabel(\"temperature air mean\")\n",
    "ax2.set_xlabel(\"Year\")\n",
    "ax2.plot(temp_wue['year'],temp_wue['mean_temp_c'], \"red\")\n",
    "ax2.set_ylabel('Temperature in °C')\n",
    "ax2.yaxis.label.set_color('red')\n",
    "ax2.tick_params(axis='y', labelcolor='red')\n",
    "\n",
    "fig.set_size_inches(7,3)\n",
    "fig.set_dpi(100)\n",
    "\n",
    "plt.show()"
   ]
  },
  {
   "attachments": {},
   "cell_type": "markdown",
   "metadata": {},
   "source": [
    "or we can do something like that"
   ]
  },
  {
   "cell_type": "code",
   "execution_count": null,
   "metadata": {},
   "outputs": [],
   "source": [
    "fig, ax1 = plt.subplots(figsize=(10,6))\n",
    "ax1.set_ylabel(\"temperature air mean\")\n",
    "ax1.set_xlabel(\"year\")\n",
    "ax1.set_xlabel(\"temperature\")\n",
    "ax1.plot(temp_wue['year'],temp_wue['mean_temp_c'], \"red\")\n",
    "ax1.set_ylabel('Temperature in °C')\n",
    "l, b, h, w = .19, .65, .2, .2\n",
    "ax2 = fig.add_axes([l, b, w, h])\n",
    "ax2.set_ylabel(\"precipitation height\")\n",
    "ax2.set_xlabel(\"year\")\n",
    "ax2.set_ylabel(\"precipitation\")\n",
    "ax2.bar(temp_wue['year'],temp_wue['precipitation_height'])\n",
    "ax2.set_ylabel('Precipitation in mm')\n",
    "plt.show()"
   ]
  },
  {
   "attachments": {},
   "cell_type": "markdown",
   "metadata": {
    "tags": []
   },
   "source": [
    "## Customizing Matplotlib"
   ]
  },
  {
   "cell_type": "code",
   "execution_count": null,
   "metadata": {
    "tags": []
   },
   "outputs": [],
   "source": [
    "import numpy as np\n",
    "import matplotlib.pyplot as plt\n",
    "%matplotlib inline"
   ]
  },
  {
   "cell_type": "code",
   "execution_count": null,
   "metadata": {
    "tags": []
   },
   "outputs": [],
   "source": [
    "x = np.random.randn(1000)\n",
    "plt.hist(x);"
   ]
  },
  {
   "attachments": {},
   "cell_type": "markdown",
   "metadata": {
    "tags": []
   },
   "source": [
    "### Customization by Hand"
   ]
  },
  {
   "cell_type": "code",
   "execution_count": null,
   "metadata": {
    "tags": []
   },
   "outputs": [],
   "source": [
    "ax = plt.axes(facecolor='#E6E6E6')\n",
    "ax.set_axisbelow(True)\n",
    "plt.grid(color='w', linestyle='solid')\n",
    "for spine in ax.spines.values():\n",
    "    spine.set_visible(False)\n",
    "ax.xaxis.tick_bottom()\n",
    "ax.yaxis.tick_left()\n",
    "ax.tick_params(colors='gray', direction='out')\n",
    "for tick in ax.get_xticklabels():\n",
    "    tick.set_color('gray')\n",
    "for tick in ax.get_yticklabels():\n",
    "    tick.set_color('gray')\n",
    "ax.hist(x, edgecolor='#E6E6E6', color='#EE6666');"
   ]
  },
  {
   "attachments": {},
   "cell_type": "markdown",
   "metadata": {
    "tags": []
   },
   "source": [
    "### Stylesheets"
   ]
  },
  {
   "cell_type": "code",
   "execution_count": null,
   "metadata": {
    "tags": []
   },
   "outputs": [],
   "source": [
    "plt.style.available[:10]"
   ]
  },
  {
   "cell_type": "code",
   "execution_count": null,
   "metadata": {
    "tags": []
   },
   "outputs": [],
   "source": [
    "plt.style.use('ggplot')\n",
    "plt.hist(x);"
   ]
  },
  {
   "attachments": {},
   "cell_type": "markdown",
   "metadata": {},
   "source": [
    "### Additional syling packages"
   ]
  },
  {
   "cell_type": "code",
   "execution_count": null,
   "metadata": {
    "tags": []
   },
   "outputs": [],
   "source": [
    "# Generate x values\n",
    "x = np.linspace(0, 10, 20)\n",
    "# Generate y values\n",
    "y = np.sin(x)\n",
    "y2 = np.cos(x)"
   ]
  },
  {
   "cell_type": "code",
   "execution_count": null,
   "metadata": {
    "tags": []
   },
   "outputs": [],
   "source": [
    "!pip install mplcyberpunk\n",
    "!pip install matplotx\n",
    "!pip install SciencePlots"
   ]
  },
  {
   "cell_type": "code",
   "execution_count": null,
   "metadata": {
    "tags": []
   },
   "outputs": [],
   "source": [
    "import mplcyberpunk\n",
    "plt.style.use('cyberpunk')\n",
    "plt.figure()\n",
    "\n",
    "plt.plot(x, y, marker = 'o')\n",
    "plt.plot(x, y2, marker = 'o', c='lime')\n",
    "\n",
    "mplcyberpunk.make_lines_glow()\n",
    "\n",
    "plt.xlabel('X-Axis')\n",
    "plt.ylabel('Y-Axis')\n",
    "\n",
    "plt.show()"
   ]
  },
  {
   "cell_type": "code",
   "execution_count": null,
   "metadata": {
    "tags": []
   },
   "outputs": [],
   "source": [
    "import matplotx\n",
    "\n",
    "with plt.style.context(matplotx.styles.pitaya_smoothie['light']):\n",
    "  plt.scatter(x, y, c=y2)\n",
    "  plt.colorbar(label='Y2')\n",
    "  plt.xlabel('X')\n",
    "  plt.ylabel('Y')\n",
    "  plt.show"
   ]
  },
  {
   "cell_type": "code",
   "execution_count": null,
   "metadata": {
    "tags": []
   },
   "outputs": [],
   "source": [
    "import scienceplots\n",
    "\n",
    "plt.style.use('default')\n",
    "with plt.style.context(['science', 'ieee', 'std-colors']):\n",
    "    plt.figure(figsize = (10,10))\n",
    "    plt.plot(x, y, marker='o', label='Line 1')\n",
    "    plt.plot(x, y2, marker='o', label='Line 2')\n",
    "\n",
    "    plt.xlabel('X')\n",
    "    plt.ylabel('Y')\n",
    "    plt.legend()\n",
    "    plt.show()"
   ]
  },
  {
   "attachments": {},
   "cell_type": "markdown",
   "metadata": {},
   "source": [
    "### Seaborn\n",
    "\n",
    "Another powerful Python visualization library is seaborn which is based on matplotlib. Seaborn can do the same things as matplotlib and it makes plotting easier. It is often preferred, because user think the default settings in seaborn are more pleasing then in matplotlib. And the good thing is, if you know matplotlib, seaborn is really easy to learn. Let´s try some nice example plots (More plot examples can be found on http://seaborn.pydata.org/)"
   ]
  },
  {
   "cell_type": "code",
   "execution_count": null,
   "metadata": {
    "slideshow": {
     "slide_type": "slide"
    }
   },
   "outputs": [],
   "source": [
    "import seaborn as sns\n",
    "\n",
    "sns.lineplot(x=temp_wue['year'],y=temp_wue['mean_temp_c'], linewidth=2.5)"
   ]
  },
  {
   "cell_type": "code",
   "execution_count": null,
   "metadata": {
    "slideshow": {
     "slide_type": "slide"
    }
   },
   "outputs": [],
   "source": [
    "import seaborn as sns\n",
    "\n",
    "sns.set(style=\"darkgrid\")\n",
    "\n",
    "plt.figure(figsize=(13, 5))\n",
    "ax = sns.scatterplot(x=temp_wue['year'],y=temp_wue['mean_temp_c'], palette=\"flare\", hue=temp_wue['mean_temp_c'])"
   ]
  },
  {
   "cell_type": "code",
   "execution_count": null,
   "metadata": {
    "slideshow": {
     "slide_type": "slide"
    }
   },
   "outputs": [],
   "source": [
    "plt.figure(figsize=(13, 8))\n",
    "ax = sns.regplot(x=temp_wue['year'],y=temp_wue['mean_temp_c'])"
   ]
  },
  {
   "cell_type": "code",
   "execution_count": null,
   "metadata": {},
   "outputs": [],
   "source": [
    "plt.figure(figsize=(18, 4))\n",
    "sns.lineplot(data=df, x=\"year\", y=\"precipitation_height\", hue=\"station_id\")"
   ]
  },
  {
   "attachments": {},
   "cell_type": "markdown",
   "metadata": {
    "slideshow": {
     "slide_type": "slide"
    }
   },
   "source": [
    "## Visualization alternatives\n",
    "\n",
    "Few years ago matplotlib was the only answer to the question: \"How do I make plots in python?\". But nowadays we have a lot of choices. Each library takes a slightly different approach to plotting data. Which one you use is up to you."
   ]
  },
  {
   "cell_type": "code",
   "execution_count": null,
   "metadata": {
    "tags": []
   },
   "outputs": [],
   "source": [
    "%pip install altair"
   ]
  },
  {
   "cell_type": "code",
   "execution_count": null,
   "metadata": {
    "scrolled": true,
    "slideshow": {
     "slide_type": "slide"
    }
   },
   "outputs": [],
   "source": [
    "import altair as alt\n",
    "alt.data_transformers.disable_max_rows()\n",
    "\n",
    "alt.Chart(temp_wue).mark_line().encode(\n",
    "    alt.X('year:Q',scale=alt.Scale(zero=False)),\n",
    "    alt.Y('mean_temp_c:Q',scale=alt.Scale(zero=False)),\n",
    "    color=alt.Color(\n",
    "        'mean(mean_temp_c):Q', scale=alt.Scale(scheme='reds', domain=(-5, 20))),\n",
    "    tooltip=[\n",
    "        alt.Tooltip('year', title='Year'),\n",
    "        alt.Tooltip('mean(mean_temp_c):Q', title='AverageTemperature')\n",
    "    ]\n",
    " ).properties(width=600, height=300)\n",
    "\n",
    "\n"
   ]
  },
  {
   "cell_type": "code",
   "execution_count": null,
   "metadata": {},
   "outputs": [],
   "source": [
    "%pip install plotly"
   ]
  },
  {
   "cell_type": "code",
   "execution_count": null,
   "metadata": {
    "scrolled": true,
    "slideshow": {
     "slide_type": "slide"
    }
   },
   "outputs": [],
   "source": [
    "import plotly.graph_objs as go\n",
    "from plotly.offline import download_plotlyjs, init_notebook_mode, plot, iplot\n",
    "\n",
    "\n",
    "init_notebook_mode(connected=True)\n",
    "\n",
    "trace_middle = go.Scatter(\n",
    "    x=temp_wue.year, \n",
    "    y=temp_wue.mean_temp_c,\n",
    "    name = \"Temp\",\n",
    "    line = dict(color = '#17BECF'),\n",
    "    opacity = 0.8)\n",
    "\n",
    "trace_high = go.Scatter(\n",
    "    x=temp_wue.year, \n",
    "    y=temp_wue.max_temp_c,\n",
    "    name = \"High\",\n",
    "    line = dict(color = '#7F7F7F'),\n",
    "    opacity = 0.8)    \n",
    "    \n",
    "trace_low = go.Scatter(\n",
    "      x=temp_wue.year, \n",
    "    y=temp_wue.min_temp_c,\n",
    "    name = \"Low\",\n",
    "    line = dict(color = '#7F7F7F'),\n",
    "    opacity = 0.8)\n",
    "\n",
    "data = [trace_high,trace_middle,trace_low]\n",
    "\n",
    "layout = dict(\n",
    "    title='Time Series with Rangeslider',\n",
    "    xaxis=dict(\n",
    "        rangeselector=dict(\n",
    "            buttons=list([\n",
    "                dict(count=1,\n",
    "                     label='1y',\n",
    "                     step='year',\n",
    "                     stepmode='backward'),\n",
    "                dict(count=6,\n",
    "                     label='10y',\n",
    "                     step='year',\n",
    "                     stepmode='backward'),\n",
    "                dict(step='all')\n",
    "            ])\n",
    "        ),\n",
    "        rangeslider=dict(\n",
    "            visible = True\n",
    "        ),\n",
    "        type='date'\n",
    "    )\n",
    ")\n",
    "\n",
    "fig = dict(data=data, layout=layout)\n",
    "iplot(fig, filename = \"Time Series with Rangeslider\")"
   ]
  },
  {
   "cell_type": "code",
   "execution_count": null,
   "metadata": {},
   "outputs": [],
   "source": []
  },
  {
   "attachments": {},
   "cell_type": "markdown",
   "metadata": {
    "slideshow": {
     "slide_type": "slide"
    }
   },
   "source": [
    "#### Exercise 8\n",
    "\n",
    "- Calculate the mean temperature (all countries) for each year plot the data\n",
    "- Calculate the mean temperature of countries in Europe for each year (between 1990 and 2013). Create a plot with 4 graphs each showing the mean temperature for one season (spring, summer, autumn, winter) per year\n",
    "- Calculate the intra-annual temperature difference for each country in Europe for the 2010 and create a barplot showing the ranked temperature difference "
   ]
  }
 ],
 "metadata": {
  "celltoolbar": "Slideshow",
  "kernelspec": {
   "display_name": "Python 3 (ipykernel)",
   "language": "python",
   "name": "python3"
  },
  "language_info": {
   "codemirror_mode": {
    "name": "ipython",
    "version": 3
   },
   "file_extension": ".py",
   "mimetype": "text/x-python",
   "name": "python",
   "nbconvert_exporter": "python",
   "pygments_lexer": "ipython3",
   "version": "3.11.3"
  },
  "toc": {
   "base_numbering": 1,
   "nav_menu": {},
   "number_sections": true,
   "sideBar": true,
   "skip_h1_title": false,
   "title_cell": "Table of Contents",
   "title_sidebar": "Contents",
   "toc_cell": false,
   "toc_position": {},
   "toc_section_display": true,
   "toc_window_display": false
  }
 },
 "nbformat": 4,
 "nbformat_minor": 4
}
